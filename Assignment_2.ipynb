{
  "nbformat": 4,
  "nbformat_minor": 0,
  "metadata": {
    "colab": {
      "provenance": []
    },
    "kernelspec": {
      "name": "ir",
      "display_name": "R"
    },
    "language_info": {
      "name": "R"
    }
  },
  "cells": [
    {
      "cell_type": "code",
      "execution_count": 117,
      "metadata": {
        "id": "Y02Hyl-e_Kh8"
      },
      "outputs": [],
      "source": [
        "# install.packages(\"tidyverse\")\n",
        "# install.packages((\"ggplot2\"))\n",
        "# install.packages(\"corrplot\")\n",
        "# install.packages(\"e1071\")\n",
        "# install.packages(\"caret\")\n",
        "# install.packages(\"caTools\")\n",
        "# install.packages(\"devtools\")\n",
        "# install.packages(\"tensorflow\")\n",
        "\n",
        "\n",
        "# devtools::install_github(\"rstudio/keras\")\n",
        "# devtools::install_github(\"rstudio/reticulate\")\n",
        "\n",
        "\n",
        "library(keras)\n",
        "library(tensorflow)\n",
        "library(keras)\n",
        "library(e1071)\n",
        "library(rpart)\n",
        "library(caret)\n",
        "library(caTools)\n",
        "library(corrplot)\n",
        "library(lubridate)\n",
        "library(ggplot2)\n",
        "library(tidyr)"
      ]
    },
    {
      "cell_type": "code",
      "execution_count": 118,
      "metadata": {
        "colab": {
          "base_uri": "https://localhost:8080/",
          "height": 1000
        },
        "id": "8eboDmoaA57v",
        "outputId": "5542424f-81b1-4c90-a551-b23e4a08deaf"
      },
      "outputs": [
        {
          "output_type": "display_data",
          "data": {
            "text/html": [
              "'/content'"
            ],
            "text/markdown": "'/content'",
            "text/latex": "'/content'",
            "text/plain": [
              "[1] \"/content\""
            ]
          },
          "metadata": {}
        },
        {
          "output_type": "display_data",
          "data": {
            "text/html": [
              "<table class=\"dataframe\">\n",
              "<caption>A data.frame: 110527 × 14</caption>\n",
              "<thead>\n",
              "\t<tr><th scope=col>PatientId</th><th scope=col>AppointmentID</th><th scope=col>Gender</th><th scope=col>ScheduledDay</th><th scope=col>AppointmentDay</th><th scope=col>Age</th><th scope=col>Neighbourhood</th><th scope=col>Scholarship</th><th scope=col>Hipertension</th><th scope=col>Diabetes</th><th scope=col>Alcoholism</th><th scope=col>Handcap</th><th scope=col>SMS_received</th><th scope=col>No.show</th></tr>\n",
              "\t<tr><th scope=col>&lt;dbl&gt;</th><th scope=col>&lt;int&gt;</th><th scope=col>&lt;chr&gt;</th><th scope=col>&lt;chr&gt;</th><th scope=col>&lt;chr&gt;</th><th scope=col>&lt;int&gt;</th><th scope=col>&lt;chr&gt;</th><th scope=col>&lt;int&gt;</th><th scope=col>&lt;int&gt;</th><th scope=col>&lt;int&gt;</th><th scope=col>&lt;int&gt;</th><th scope=col>&lt;int&gt;</th><th scope=col>&lt;int&gt;</th><th scope=col>&lt;chr&gt;</th></tr>\n",
              "</thead>\n",
              "<tbody>\n",
              "\t<tr><td>2.987250e+13</td><td>5642903</td><td>F</td><td>2016-04-29T18:38:08Z</td><td>2016-04-29T00:00:00Z</td><td>62</td><td>JARDIM DA PENHA  </td><td>0</td><td>1</td><td>0</td><td>0</td><td>0</td><td>0</td><td>No </td></tr>\n",
              "\t<tr><td>5.589980e+14</td><td>5642503</td><td>M</td><td>2016-04-29T16:08:27Z</td><td>2016-04-29T00:00:00Z</td><td>56</td><td>JARDIM DA PENHA  </td><td>0</td><td>0</td><td>0</td><td>0</td><td>0</td><td>0</td><td>No </td></tr>\n",
              "\t<tr><td>4.262960e+12</td><td>5642549</td><td>F</td><td>2016-04-29T16:19:04Z</td><td>2016-04-29T00:00:00Z</td><td>62</td><td>MATA DA PRAIA    </td><td>0</td><td>0</td><td>0</td><td>0</td><td>0</td><td>0</td><td>No </td></tr>\n",
              "\t<tr><td>8.679510e+11</td><td>5642828</td><td>F</td><td>2016-04-29T17:29:31Z</td><td>2016-04-29T00:00:00Z</td><td> 8</td><td>PONTAL DE CAMBURI</td><td>0</td><td>0</td><td>0</td><td>0</td><td>0</td><td>0</td><td>No </td></tr>\n",
              "\t<tr><td>8.841190e+12</td><td>5642494</td><td>F</td><td>2016-04-29T16:07:23Z</td><td>2016-04-29T00:00:00Z</td><td>56</td><td>JARDIM DA PENHA  </td><td>0</td><td>1</td><td>1</td><td>0</td><td>0</td><td>0</td><td>No </td></tr>\n",
              "\t<tr><td>9.598510e+13</td><td>5626772</td><td>F</td><td>2016-04-27T08:36:51Z</td><td>2016-04-29T00:00:00Z</td><td>76</td><td>REPÚBLICA        </td><td>0</td><td>1</td><td>0</td><td>0</td><td>0</td><td>0</td><td>No </td></tr>\n",
              "\t<tr><td>7.336880e+14</td><td>5630279</td><td>F</td><td>2016-04-27T15:05:12Z</td><td>2016-04-29T00:00:00Z</td><td>23</td><td>GOIABEIRAS       </td><td>0</td><td>0</td><td>0</td><td>0</td><td>0</td><td>0</td><td>Yes</td></tr>\n",
              "\t<tr><td>3.449830e+12</td><td>5630575</td><td>F</td><td>2016-04-27T15:39:58Z</td><td>2016-04-29T00:00:00Z</td><td>39</td><td>GOIABEIRAS       </td><td>0</td><td>0</td><td>0</td><td>0</td><td>0</td><td>0</td><td>Yes</td></tr>\n",
              "\t<tr><td>5.639470e+13</td><td>5638447</td><td>F</td><td>2016-04-29T08:02:16Z</td><td>2016-04-29T00:00:00Z</td><td>21</td><td>ANDORINHAS       </td><td>0</td><td>0</td><td>0</td><td>0</td><td>0</td><td>0</td><td>No </td></tr>\n",
              "\t<tr><td>7.812460e+13</td><td>5629123</td><td>F</td><td>2016-04-27T12:48:25Z</td><td>2016-04-29T00:00:00Z</td><td>19</td><td>CONQUISTA        </td><td>0</td><td>0</td><td>0</td><td>0</td><td>0</td><td>0</td><td>No </td></tr>\n",
              "\t<tr><td>7.345360e+14</td><td>5630213</td><td>F</td><td>2016-04-27T14:58:11Z</td><td>2016-04-29T00:00:00Z</td><td>30</td><td>NOVA PALESTINA   </td><td>0</td><td>0</td><td>0</td><td>0</td><td>0</td><td>0</td><td>No </td></tr>\n",
              "\t<tr><td>7.542950e+12</td><td>5620163</td><td>M</td><td>2016-04-26T08:44:12Z</td><td>2016-04-29T00:00:00Z</td><td>29</td><td>NOVA PALESTINA   </td><td>0</td><td>0</td><td>0</td><td>0</td><td>0</td><td>1</td><td>Yes</td></tr>\n",
              "\t<tr><td>5.666550e+14</td><td>5634718</td><td>F</td><td>2016-04-28T11:33:51Z</td><td>2016-04-29T00:00:00Z</td><td>22</td><td>NOVA PALESTINA   </td><td>1</td><td>0</td><td>0</td><td>0</td><td>0</td><td>0</td><td>No </td></tr>\n",
              "\t<tr><td>9.113950e+14</td><td>5636249</td><td>M</td><td>2016-04-28T14:52:07Z</td><td>2016-04-29T00:00:00Z</td><td>28</td><td>NOVA PALESTINA   </td><td>0</td><td>0</td><td>0</td><td>0</td><td>0</td><td>0</td><td>No </td></tr>\n",
              "\t<tr><td>9.988470e+13</td><td>5633951</td><td>F</td><td>2016-04-28T10:06:24Z</td><td>2016-04-29T00:00:00Z</td><td>NA</td><td>NOVA PALESTINA   </td><td>0</td><td>0</td><td>0</td><td>0</td><td>0</td><td>0</td><td>No </td></tr>\n",
              "\t<tr><td>9.994839e+10</td><td>5620206</td><td>F</td><td>2016-04-26T08:47:27Z</td><td>2016-04-29T00:00:00Z</td><td>15</td><td>NOVA PALESTINA   </td><td>0</td><td>0</td><td>0</td><td>0</td><td>0</td><td>1</td><td>No </td></tr>\n",
              "\t<tr><td>8.457440e+13</td><td>5633121</td><td>M</td><td>2016-04-28T08:51:47Z</td><td>2016-04-29T00:00:00Z</td><td>50</td><td>NOVA PALESTINA   </td><td>0</td><td>0</td><td>0</td><td>0</td><td>0</td><td>0</td><td>No </td></tr>\n",
              "\t<tr><td>1.479500e+13</td><td>5633460</td><td>F</td><td>2016-04-28T09:28:57Z</td><td>2016-04-29T00:00:00Z</td><td>40</td><td>CONQUISTA        </td><td>1</td><td>0</td><td>0</td><td>0</td><td>0</td><td>0</td><td>Yes</td></tr>\n",
              "\t<tr><td>1.713540e+13</td><td>5621836</td><td>F</td><td>2016-04-26T10:54:18Z</td><td>2016-04-29T00:00:00Z</td><td>30</td><td>NOVA PALESTINA   </td><td>1</td><td>0</td><td>0</td><td>0</td><td>0</td><td>1</td><td>No </td></tr>\n",
              "\t<tr><td>7.223290e+12</td><td>5640433</td><td>F</td><td>2016-04-29T10:43:14Z</td><td>2016-04-29T00:00:00Z</td><td>46</td><td>DA PENHA         </td><td>0</td><td>0</td><td>0</td><td>0</td><td>0</td><td>0</td><td>No </td></tr>\n",
              "\t<tr><td>6.222570e+14</td><td>5626083</td><td>F</td><td>2016-04-27T07:51:14Z</td><td>2016-04-29T00:00:00Z</td><td>30</td><td>NOVA PALESTINA   </td><td>0</td><td>0</td><td>0</td><td>0</td><td>0</td><td>0</td><td>Yes</td></tr>\n",
              "\t<tr><td>1.215480e+13</td><td>5628338</td><td>F</td><td>2016-04-27T10:50:45Z</td><td>2016-04-29T00:00:00Z</td><td> 4</td><td>CONQUISTA        </td><td>0</td><td>0</td><td>0</td><td>0</td><td>0</td><td>0</td><td>Yes</td></tr>\n",
              "\t<tr><td>8.632300e+14</td><td>5616091</td><td>M</td><td>2016-04-25T13:29:16Z</td><td>2016-04-29T00:00:00Z</td><td>13</td><td>CONQUISTA        </td><td>0</td><td>0</td><td>0</td><td>0</td><td>0</td><td>1</td><td>Yes</td></tr>\n",
              "\t<tr><td>2.137540e+14</td><td>5634142</td><td>F</td><td>2016-04-28T10:27:05Z</td><td>2016-04-29T00:00:00Z</td><td>46</td><td>CONQUISTA        </td><td>0</td><td>0</td><td>0</td><td>0</td><td>0</td><td>0</td><td>No </td></tr>\n",
              "\t<tr><td>8.734860e+12</td><td>5641780</td><td>F</td><td>2016-04-29T14:19:19Z</td><td>2016-04-29T00:00:00Z</td><td>65</td><td>TABUAZEIRO       </td><td>0</td><td>0</td><td>0</td><td>0</td><td>0</td><td>0</td><td>No </td></tr>\n",
              "\t<tr><td>5.819370e+12</td><td>5624020</td><td>M</td><td>2016-04-26T15:04:17Z</td><td>2016-04-29T00:00:00Z</td><td>46</td><td>CONQUISTA        </td><td>0</td><td>1</td><td>0</td><td>0</td><td>0</td><td>1</td><td>No </td></tr>\n",
              "\t<tr><td>2.578785e+10</td><td>5641781</td><td>F</td><td>2016-04-29T14:19:42Z</td><td>2016-04-29T00:00:00Z</td><td>45</td><td>BENTO FERREIRA   </td><td>0</td><td>1</td><td>0</td><td>0</td><td>0</td><td>0</td><td>No </td></tr>\n",
              "\t<tr><td>1.215480e+13</td><td>5628345</td><td>F</td><td>2016-04-27T10:51:45Z</td><td>2016-04-29T00:00:00Z</td><td> 4</td><td>CONQUISTA        </td><td>0</td><td>0</td><td>0</td><td>0</td><td>0</td><td>0</td><td>No </td></tr>\n",
              "\t<tr><td>5.926170e+12</td><td>5642400</td><td>M</td><td>2016-04-29T15:48:02Z</td><td>2016-04-29T00:00:00Z</td><td>51</td><td>SÃO PEDRO        </td><td>0</td><td>0</td><td>0</td><td>0</td><td>0</td><td>0</td><td>No </td></tr>\n",
              "\t<tr><td>1.225780e+12</td><td>5642186</td><td>F</td><td>2016-04-29T15:16:29Z</td><td>2016-04-29T00:00:00Z</td><td>NA</td><td>SANTA MARTHA     </td><td>0</td><td>0</td><td>0</td><td>0</td><td>0</td><td>0</td><td>No </td></tr>\n",
              "\t<tr><td>⋮</td><td>⋮</td><td>⋮</td><td>⋮</td><td>⋮</td><td>⋮</td><td>⋮</td><td>⋮</td><td>⋮</td><td>⋮</td><td>⋮</td><td>⋮</td><td>⋮</td><td>⋮</td></tr>\n",
              "\t<tr><td>7.93589e+14</td><td>5757745</td><td>M</td><td>2016-06-01T09:46:33Z</td><td>2016-06-01T00:00:00Z</td><td>76</td><td>MARIA ORTIZ    </td><td>0</td><td>0</td><td>0</td><td>0</td><td>0</td><td>0</td><td>No </td></tr>\n",
              "\t<tr><td>9.43365e+13</td><td>5787655</td><td>F</td><td>2016-06-08T10:21:14Z</td><td>2016-06-08T00:00:00Z</td><td>59</td><td>MARIA ORTIZ    </td><td>0</td><td>0</td><td>0</td><td>0</td><td>0</td><td>0</td><td>No </td></tr>\n",
              "\t<tr><td>8.21969e+14</td><td>5757697</td><td>F</td><td>2016-06-01T09:42:56Z</td><td>2016-06-01T00:00:00Z</td><td>66</td><td>MARIA ORTIZ    </td><td>0</td><td>1</td><td>1</td><td>0</td><td>0</td><td>0</td><td>No </td></tr>\n",
              "\t<tr><td>4.43438e+14</td><td>5787233</td><td>F</td><td>2016-06-08T09:35:13Z</td><td>2016-06-08T00:00:00Z</td><td>59</td><td>MARIA ORTIZ    </td><td>0</td><td>0</td><td>0</td><td>0</td><td>0</td><td>0</td><td>No </td></tr>\n",
              "\t<tr><td>4.54425e+11</td><td>5758133</td><td>M</td><td>2016-06-01T10:19:12Z</td><td>2016-06-01T00:00:00Z</td><td>44</td><td>MARIA ORTIZ    </td><td>0</td><td>0</td><td>0</td><td>0</td><td>0</td><td>0</td><td>No </td></tr>\n",
              "\t<tr><td>7.31623e+14</td><td>5787937</td><td>F</td><td>2016-06-08T10:50:42Z</td><td>2016-06-08T00:00:00Z</td><td>22</td><td>GOIABEIRAS     </td><td>0</td><td>0</td><td>0</td><td>0</td><td>0</td><td>0</td><td>No </td></tr>\n",
              "\t<tr><td>2.36218e+13</td><td>5759473</td><td>F</td><td>2016-06-01T13:00:36Z</td><td>2016-06-01T00:00:00Z</td><td>64</td><td>SOLON BORGES   </td><td>0</td><td>0</td><td>0</td><td>0</td><td>0</td><td>0</td><td>No </td></tr>\n",
              "\t<tr><td>9.94798e+12</td><td>5788052</td><td>F</td><td>2016-06-08T11:06:21Z</td><td>2016-06-08T00:00:00Z</td><td> 4</td><td>MARIA ORTIZ    </td><td>0</td><td>0</td><td>0</td><td>0</td><td>0</td><td>0</td><td>No </td></tr>\n",
              "\t<tr><td>5.66734e+13</td><td>5758455</td><td>F</td><td>2016-06-01T10:45:50Z</td><td>2016-06-01T00:00:00Z</td><td>55</td><td>MARIA ORTIZ    </td><td>0</td><td>0</td><td>0</td><td>0</td><td>0</td><td>0</td><td>No </td></tr>\n",
              "\t<tr><td>8.97388e+11</td><td>5758779</td><td>M</td><td>2016-06-01T11:09:20Z</td><td>2016-06-01T00:00:00Z</td><td> 5</td><td>MARIA ORTIZ    </td><td>0</td><td>0</td><td>0</td><td>0</td><td>0</td><td>0</td><td>No </td></tr>\n",
              "\t<tr><td>4.76946e+14</td><td>5786918</td><td>F</td><td>2016-06-08T09:04:18Z</td><td>2016-06-08T00:00:00Z</td><td> 0</td><td>MARIA ORTIZ    </td><td>0</td><td>0</td><td>0</td><td>0</td><td>0</td><td>0</td><td>No </td></tr>\n",
              "\t<tr><td>9.43365e+13</td><td>5757656</td><td>F</td><td>2016-06-01T09:41:00Z</td><td>2016-06-01T00:00:00Z</td><td>59</td><td>MARIA ORTIZ    </td><td>0</td><td>0</td><td>0</td><td>0</td><td>0</td><td>0</td><td>No </td></tr>\n",
              "\t<tr><td>4.95297e+14</td><td>5786750</td><td>M</td><td>2016-06-08T08:50:51Z</td><td>2016-06-08T00:00:00Z</td><td>33</td><td>MARIA ORTIZ    </td><td>0</td><td>0</td><td>0</td><td>0</td><td>0</td><td>0</td><td>No </td></tr>\n",
              "\t<tr><td>2.36218e+13</td><td>5757587</td><td>F</td><td>2016-06-01T09:35:48Z</td><td>2016-06-01T00:00:00Z</td><td>64</td><td>SOLON BORGES   </td><td>0</td><td>0</td><td>0</td><td>0</td><td>0</td><td>0</td><td>No </td></tr>\n",
              "\t<tr><td>8.23600e+11</td><td>5786742</td><td>F</td><td>2016-06-08T08:50:20Z</td><td>2016-06-08T00:00:00Z</td><td>14</td><td>MARIA ORTIZ    </td><td>0</td><td>0</td><td>0</td><td>0</td><td>0</td><td>0</td><td>No </td></tr>\n",
              "\t<tr><td>9.87625e+13</td><td>5786368</td><td>F</td><td>2016-06-08T08:20:01Z</td><td>2016-06-08T00:00:00Z</td><td>41</td><td>MARIA ORTIZ    </td><td>0</td><td>0</td><td>0</td><td>0</td><td>0</td><td>0</td><td>No </td></tr>\n",
              "\t<tr><td>8.67478e+13</td><td>5785964</td><td>M</td><td>2016-06-08T07:52:55Z</td><td>2016-06-08T00:00:00Z</td><td> 2</td><td>ANTÔNIO HONÓRIO</td><td>0</td><td>0</td><td>0</td><td>0</td><td>0</td><td>0</td><td>No </td></tr>\n",
              "\t<tr><td>2.69569e+12</td><td>5786567</td><td>F</td><td>2016-06-08T08:35:31Z</td><td>2016-06-08T00:00:00Z</td><td>58</td><td>MARIA ORTIZ    </td><td>0</td><td>0</td><td>0</td><td>0</td><td>0</td><td>0</td><td>No </td></tr>\n",
              "\t<tr><td>6.45634e+14</td><td>5778621</td><td>M</td><td>2016-06-06T15:58:05Z</td><td>2016-06-08T00:00:00Z</td><td>33</td><td>MARIA ORTIZ    </td><td>0</td><td>1</td><td>0</td><td>0</td><td>0</td><td>0</td><td>Yes</td></tr>\n",
              "\t<tr><td>6.92377e+13</td><td>5780205</td><td>F</td><td>2016-06-07T07:45:16Z</td><td>2016-06-08T00:00:00Z</td><td>37</td><td>MARIA ORTIZ    </td><td>0</td><td>0</td><td>0</td><td>0</td><td>0</td><td>0</td><td>Yes</td></tr>\n",
              "\t<tr><td>5.57494e+12</td><td>5780122</td><td>F</td><td>2016-06-07T07:38:34Z</td><td>2016-06-07T00:00:00Z</td><td>19</td><td>MARIA ORTIZ    </td><td>0</td><td>0</td><td>0</td><td>0</td><td>0</td><td>0</td><td>No </td></tr>\n",
              "\t<tr><td>7.26331e+13</td><td>5630375</td><td>F</td><td>2016-04-27T15:15:06Z</td><td>2016-06-07T00:00:00Z</td><td>50</td><td>MARIA ORTIZ    </td><td>0</td><td>0</td><td>0</td><td>0</td><td>0</td><td>1</td><td>No </td></tr>\n",
              "\t<tr><td>6.54239e+13</td><td>5630447</td><td>F</td><td>2016-04-27T15:23:14Z</td><td>2016-06-07T00:00:00Z</td><td>22</td><td>MARIA ORTIZ    </td><td>0</td><td>0</td><td>0</td><td>0</td><td>0</td><td>1</td><td>No </td></tr>\n",
              "\t<tr><td>9.96998e+14</td><td>5650534</td><td>F</td><td>2016-05-03T07:51:47Z</td><td>2016-06-07T00:00:00Z</td><td>42</td><td>MARIA ORTIZ    </td><td>0</td><td>0</td><td>0</td><td>0</td><td>0</td><td>1</td><td>No </td></tr>\n",
              "\t<tr><td>3.63553e+13</td><td>5651072</td><td>F</td><td>2016-05-03T08:23:40Z</td><td>2016-06-07T00:00:00Z</td><td>53</td><td>MARIA ORTIZ    </td><td>0</td><td>0</td><td>0</td><td>0</td><td>0</td><td>1</td><td>No </td></tr>\n",
              "\t<tr><td>2.57213e+12</td><td>5651768</td><td>F</td><td>2016-05-03T09:15:35Z</td><td>2016-06-07T00:00:00Z</td><td>56</td><td>MARIA ORTIZ    </td><td>0</td><td>0</td><td>0</td><td>0</td><td>0</td><td>1</td><td>No </td></tr>\n",
              "\t<tr><td>3.59627e+12</td><td>5650093</td><td>F</td><td>2016-05-03T07:27:33Z</td><td>2016-06-07T00:00:00Z</td><td>51</td><td>MARIA ORTIZ    </td><td>0</td><td>0</td><td>0</td><td>0</td><td>0</td><td>1</td><td>No </td></tr>\n",
              "\t<tr><td>1.55766e+13</td><td>5630692</td><td>F</td><td>2016-04-27T16:03:52Z</td><td>2016-06-07T00:00:00Z</td><td>21</td><td>MARIA ORTIZ    </td><td>0</td><td>0</td><td>0</td><td>0</td><td>0</td><td>1</td><td>No </td></tr>\n",
              "\t<tr><td>9.21349e+13</td><td>5630323</td><td>F</td><td>2016-04-27T15:09:23Z</td><td>2016-06-07T00:00:00Z</td><td>38</td><td>MARIA ORTIZ    </td><td>0</td><td>0</td><td>0</td><td>0</td><td>0</td><td>1</td><td>No </td></tr>\n",
              "\t<tr><td>3.77512e+14</td><td>5629448</td><td>F</td><td>2016-04-27T13:30:56Z</td><td>2016-06-07T00:00:00Z</td><td>54</td><td>MARIA ORTIZ    </td><td>0</td><td>0</td><td>0</td><td>0</td><td>0</td><td>1</td><td>No </td></tr>\n",
              "</tbody>\n",
              "</table>\n"
            ],
            "text/markdown": "\nA data.frame: 110527 × 14\n\n| PatientId &lt;dbl&gt; | AppointmentID &lt;int&gt; | Gender &lt;chr&gt; | ScheduledDay &lt;chr&gt; | AppointmentDay &lt;chr&gt; | Age &lt;int&gt; | Neighbourhood &lt;chr&gt; | Scholarship &lt;int&gt; | Hipertension &lt;int&gt; | Diabetes &lt;int&gt; | Alcoholism &lt;int&gt; | Handcap &lt;int&gt; | SMS_received &lt;int&gt; | No.show &lt;chr&gt; |\n|---|---|---|---|---|---|---|---|---|---|---|---|---|---|\n| 2.987250e+13 | 5642903 | F | 2016-04-29T18:38:08Z | 2016-04-29T00:00:00Z | 62 | JARDIM DA PENHA   | 0 | 1 | 0 | 0 | 0 | 0 | No  |\n| 5.589980e+14 | 5642503 | M | 2016-04-29T16:08:27Z | 2016-04-29T00:00:00Z | 56 | JARDIM DA PENHA   | 0 | 0 | 0 | 0 | 0 | 0 | No  |\n| 4.262960e+12 | 5642549 | F | 2016-04-29T16:19:04Z | 2016-04-29T00:00:00Z | 62 | MATA DA PRAIA     | 0 | 0 | 0 | 0 | 0 | 0 | No  |\n| 8.679510e+11 | 5642828 | F | 2016-04-29T17:29:31Z | 2016-04-29T00:00:00Z |  8 | PONTAL DE CAMBURI | 0 | 0 | 0 | 0 | 0 | 0 | No  |\n| 8.841190e+12 | 5642494 | F | 2016-04-29T16:07:23Z | 2016-04-29T00:00:00Z | 56 | JARDIM DA PENHA   | 0 | 1 | 1 | 0 | 0 | 0 | No  |\n| 9.598510e+13 | 5626772 | F | 2016-04-27T08:36:51Z | 2016-04-29T00:00:00Z | 76 | REPÚBLICA         | 0 | 1 | 0 | 0 | 0 | 0 | No  |\n| 7.336880e+14 | 5630279 | F | 2016-04-27T15:05:12Z | 2016-04-29T00:00:00Z | 23 | GOIABEIRAS        | 0 | 0 | 0 | 0 | 0 | 0 | Yes |\n| 3.449830e+12 | 5630575 | F | 2016-04-27T15:39:58Z | 2016-04-29T00:00:00Z | 39 | GOIABEIRAS        | 0 | 0 | 0 | 0 | 0 | 0 | Yes |\n| 5.639470e+13 | 5638447 | F | 2016-04-29T08:02:16Z | 2016-04-29T00:00:00Z | 21 | ANDORINHAS        | 0 | 0 | 0 | 0 | 0 | 0 | No  |\n| 7.812460e+13 | 5629123 | F | 2016-04-27T12:48:25Z | 2016-04-29T00:00:00Z | 19 | CONQUISTA         | 0 | 0 | 0 | 0 | 0 | 0 | No  |\n| 7.345360e+14 | 5630213 | F | 2016-04-27T14:58:11Z | 2016-04-29T00:00:00Z | 30 | NOVA PALESTINA    | 0 | 0 | 0 | 0 | 0 | 0 | No  |\n| 7.542950e+12 | 5620163 | M | 2016-04-26T08:44:12Z | 2016-04-29T00:00:00Z | 29 | NOVA PALESTINA    | 0 | 0 | 0 | 0 | 0 | 1 | Yes |\n| 5.666550e+14 | 5634718 | F | 2016-04-28T11:33:51Z | 2016-04-29T00:00:00Z | 22 | NOVA PALESTINA    | 1 | 0 | 0 | 0 | 0 | 0 | No  |\n| 9.113950e+14 | 5636249 | M | 2016-04-28T14:52:07Z | 2016-04-29T00:00:00Z | 28 | NOVA PALESTINA    | 0 | 0 | 0 | 0 | 0 | 0 | No  |\n| 9.988470e+13 | 5633951 | F | 2016-04-28T10:06:24Z | 2016-04-29T00:00:00Z | NA | NOVA PALESTINA    | 0 | 0 | 0 | 0 | 0 | 0 | No  |\n| 9.994839e+10 | 5620206 | F | 2016-04-26T08:47:27Z | 2016-04-29T00:00:00Z | 15 | NOVA PALESTINA    | 0 | 0 | 0 | 0 | 0 | 1 | No  |\n| 8.457440e+13 | 5633121 | M | 2016-04-28T08:51:47Z | 2016-04-29T00:00:00Z | 50 | NOVA PALESTINA    | 0 | 0 | 0 | 0 | 0 | 0 | No  |\n| 1.479500e+13 | 5633460 | F | 2016-04-28T09:28:57Z | 2016-04-29T00:00:00Z | 40 | CONQUISTA         | 1 | 0 | 0 | 0 | 0 | 0 | Yes |\n| 1.713540e+13 | 5621836 | F | 2016-04-26T10:54:18Z | 2016-04-29T00:00:00Z | 30 | NOVA PALESTINA    | 1 | 0 | 0 | 0 | 0 | 1 | No  |\n| 7.223290e+12 | 5640433 | F | 2016-04-29T10:43:14Z | 2016-04-29T00:00:00Z | 46 | DA PENHA          | 0 | 0 | 0 | 0 | 0 | 0 | No  |\n| 6.222570e+14 | 5626083 | F | 2016-04-27T07:51:14Z | 2016-04-29T00:00:00Z | 30 | NOVA PALESTINA    | 0 | 0 | 0 | 0 | 0 | 0 | Yes |\n| 1.215480e+13 | 5628338 | F | 2016-04-27T10:50:45Z | 2016-04-29T00:00:00Z |  4 | CONQUISTA         | 0 | 0 | 0 | 0 | 0 | 0 | Yes |\n| 8.632300e+14 | 5616091 | M | 2016-04-25T13:29:16Z | 2016-04-29T00:00:00Z | 13 | CONQUISTA         | 0 | 0 | 0 | 0 | 0 | 1 | Yes |\n| 2.137540e+14 | 5634142 | F | 2016-04-28T10:27:05Z | 2016-04-29T00:00:00Z | 46 | CONQUISTA         | 0 | 0 | 0 | 0 | 0 | 0 | No  |\n| 8.734860e+12 | 5641780 | F | 2016-04-29T14:19:19Z | 2016-04-29T00:00:00Z | 65 | TABUAZEIRO        | 0 | 0 | 0 | 0 | 0 | 0 | No  |\n| 5.819370e+12 | 5624020 | M | 2016-04-26T15:04:17Z | 2016-04-29T00:00:00Z | 46 | CONQUISTA         | 0 | 1 | 0 | 0 | 0 | 1 | No  |\n| 2.578785e+10 | 5641781 | F | 2016-04-29T14:19:42Z | 2016-04-29T00:00:00Z | 45 | BENTO FERREIRA    | 0 | 1 | 0 | 0 | 0 | 0 | No  |\n| 1.215480e+13 | 5628345 | F | 2016-04-27T10:51:45Z | 2016-04-29T00:00:00Z |  4 | CONQUISTA         | 0 | 0 | 0 | 0 | 0 | 0 | No  |\n| 5.926170e+12 | 5642400 | M | 2016-04-29T15:48:02Z | 2016-04-29T00:00:00Z | 51 | SÃO PEDRO         | 0 | 0 | 0 | 0 | 0 | 0 | No  |\n| 1.225780e+12 | 5642186 | F | 2016-04-29T15:16:29Z | 2016-04-29T00:00:00Z | NA | SANTA MARTHA      | 0 | 0 | 0 | 0 | 0 | 0 | No  |\n| ⋮ | ⋮ | ⋮ | ⋮ | ⋮ | ⋮ | ⋮ | ⋮ | ⋮ | ⋮ | ⋮ | ⋮ | ⋮ | ⋮ |\n| 7.93589e+14 | 5757745 | M | 2016-06-01T09:46:33Z | 2016-06-01T00:00:00Z | 76 | MARIA ORTIZ     | 0 | 0 | 0 | 0 | 0 | 0 | No  |\n| 9.43365e+13 | 5787655 | F | 2016-06-08T10:21:14Z | 2016-06-08T00:00:00Z | 59 | MARIA ORTIZ     | 0 | 0 | 0 | 0 | 0 | 0 | No  |\n| 8.21969e+14 | 5757697 | F | 2016-06-01T09:42:56Z | 2016-06-01T00:00:00Z | 66 | MARIA ORTIZ     | 0 | 1 | 1 | 0 | 0 | 0 | No  |\n| 4.43438e+14 | 5787233 | F | 2016-06-08T09:35:13Z | 2016-06-08T00:00:00Z | 59 | MARIA ORTIZ     | 0 | 0 | 0 | 0 | 0 | 0 | No  |\n| 4.54425e+11 | 5758133 | M | 2016-06-01T10:19:12Z | 2016-06-01T00:00:00Z | 44 | MARIA ORTIZ     | 0 | 0 | 0 | 0 | 0 | 0 | No  |\n| 7.31623e+14 | 5787937 | F | 2016-06-08T10:50:42Z | 2016-06-08T00:00:00Z | 22 | GOIABEIRAS      | 0 | 0 | 0 | 0 | 0 | 0 | No  |\n| 2.36218e+13 | 5759473 | F | 2016-06-01T13:00:36Z | 2016-06-01T00:00:00Z | 64 | SOLON BORGES    | 0 | 0 | 0 | 0 | 0 | 0 | No  |\n| 9.94798e+12 | 5788052 | F | 2016-06-08T11:06:21Z | 2016-06-08T00:00:00Z |  4 | MARIA ORTIZ     | 0 | 0 | 0 | 0 | 0 | 0 | No  |\n| 5.66734e+13 | 5758455 | F | 2016-06-01T10:45:50Z | 2016-06-01T00:00:00Z | 55 | MARIA ORTIZ     | 0 | 0 | 0 | 0 | 0 | 0 | No  |\n| 8.97388e+11 | 5758779 | M | 2016-06-01T11:09:20Z | 2016-06-01T00:00:00Z |  5 | MARIA ORTIZ     | 0 | 0 | 0 | 0 | 0 | 0 | No  |\n| 4.76946e+14 | 5786918 | F | 2016-06-08T09:04:18Z | 2016-06-08T00:00:00Z |  0 | MARIA ORTIZ     | 0 | 0 | 0 | 0 | 0 | 0 | No  |\n| 9.43365e+13 | 5757656 | F | 2016-06-01T09:41:00Z | 2016-06-01T00:00:00Z | 59 | MARIA ORTIZ     | 0 | 0 | 0 | 0 | 0 | 0 | No  |\n| 4.95297e+14 | 5786750 | M | 2016-06-08T08:50:51Z | 2016-06-08T00:00:00Z | 33 | MARIA ORTIZ     | 0 | 0 | 0 | 0 | 0 | 0 | No  |\n| 2.36218e+13 | 5757587 | F | 2016-06-01T09:35:48Z | 2016-06-01T00:00:00Z | 64 | SOLON BORGES    | 0 | 0 | 0 | 0 | 0 | 0 | No  |\n| 8.23600e+11 | 5786742 | F | 2016-06-08T08:50:20Z | 2016-06-08T00:00:00Z | 14 | MARIA ORTIZ     | 0 | 0 | 0 | 0 | 0 | 0 | No  |\n| 9.87625e+13 | 5786368 | F | 2016-06-08T08:20:01Z | 2016-06-08T00:00:00Z | 41 | MARIA ORTIZ     | 0 | 0 | 0 | 0 | 0 | 0 | No  |\n| 8.67478e+13 | 5785964 | M | 2016-06-08T07:52:55Z | 2016-06-08T00:00:00Z |  2 | ANTÔNIO HONÓRIO | 0 | 0 | 0 | 0 | 0 | 0 | No  |\n| 2.69569e+12 | 5786567 | F | 2016-06-08T08:35:31Z | 2016-06-08T00:00:00Z | 58 | MARIA ORTIZ     | 0 | 0 | 0 | 0 | 0 | 0 | No  |\n| 6.45634e+14 | 5778621 | M | 2016-06-06T15:58:05Z | 2016-06-08T00:00:00Z | 33 | MARIA ORTIZ     | 0 | 1 | 0 | 0 | 0 | 0 | Yes |\n| 6.92377e+13 | 5780205 | F | 2016-06-07T07:45:16Z | 2016-06-08T00:00:00Z | 37 | MARIA ORTIZ     | 0 | 0 | 0 | 0 | 0 | 0 | Yes |\n| 5.57494e+12 | 5780122 | F | 2016-06-07T07:38:34Z | 2016-06-07T00:00:00Z | 19 | MARIA ORTIZ     | 0 | 0 | 0 | 0 | 0 | 0 | No  |\n| 7.26331e+13 | 5630375 | F | 2016-04-27T15:15:06Z | 2016-06-07T00:00:00Z | 50 | MARIA ORTIZ     | 0 | 0 | 0 | 0 | 0 | 1 | No  |\n| 6.54239e+13 | 5630447 | F | 2016-04-27T15:23:14Z | 2016-06-07T00:00:00Z | 22 | MARIA ORTIZ     | 0 | 0 | 0 | 0 | 0 | 1 | No  |\n| 9.96998e+14 | 5650534 | F | 2016-05-03T07:51:47Z | 2016-06-07T00:00:00Z | 42 | MARIA ORTIZ     | 0 | 0 | 0 | 0 | 0 | 1 | No  |\n| 3.63553e+13 | 5651072 | F | 2016-05-03T08:23:40Z | 2016-06-07T00:00:00Z | 53 | MARIA ORTIZ     | 0 | 0 | 0 | 0 | 0 | 1 | No  |\n| 2.57213e+12 | 5651768 | F | 2016-05-03T09:15:35Z | 2016-06-07T00:00:00Z | 56 | MARIA ORTIZ     | 0 | 0 | 0 | 0 | 0 | 1 | No  |\n| 3.59627e+12 | 5650093 | F | 2016-05-03T07:27:33Z | 2016-06-07T00:00:00Z | 51 | MARIA ORTIZ     | 0 | 0 | 0 | 0 | 0 | 1 | No  |\n| 1.55766e+13 | 5630692 | F | 2016-04-27T16:03:52Z | 2016-06-07T00:00:00Z | 21 | MARIA ORTIZ     | 0 | 0 | 0 | 0 | 0 | 1 | No  |\n| 9.21349e+13 | 5630323 | F | 2016-04-27T15:09:23Z | 2016-06-07T00:00:00Z | 38 | MARIA ORTIZ     | 0 | 0 | 0 | 0 | 0 | 1 | No  |\n| 3.77512e+14 | 5629448 | F | 2016-04-27T13:30:56Z | 2016-06-07T00:00:00Z | 54 | MARIA ORTIZ     | 0 | 0 | 0 | 0 | 0 | 1 | No  |\n\n",
            "text/latex": "A data.frame: 110527 × 14\n\\begin{tabular}{llllllllllllll}\n PatientId & AppointmentID & Gender & ScheduledDay & AppointmentDay & Age & Neighbourhood & Scholarship & Hipertension & Diabetes & Alcoholism & Handcap & SMS\\_received & No.show\\\\\n <dbl> & <int> & <chr> & <chr> & <chr> & <int> & <chr> & <int> & <int> & <int> & <int> & <int> & <int> & <chr>\\\\\n\\hline\n\t 2.987250e+13 & 5642903 & F & 2016-04-29T18:38:08Z & 2016-04-29T00:00:00Z & 62 & JARDIM DA PENHA   & 0 & 1 & 0 & 0 & 0 & 0 & No \\\\\n\t 5.589980e+14 & 5642503 & M & 2016-04-29T16:08:27Z & 2016-04-29T00:00:00Z & 56 & JARDIM DA PENHA   & 0 & 0 & 0 & 0 & 0 & 0 & No \\\\\n\t 4.262960e+12 & 5642549 & F & 2016-04-29T16:19:04Z & 2016-04-29T00:00:00Z & 62 & MATA DA PRAIA     & 0 & 0 & 0 & 0 & 0 & 0 & No \\\\\n\t 8.679510e+11 & 5642828 & F & 2016-04-29T17:29:31Z & 2016-04-29T00:00:00Z &  8 & PONTAL DE CAMBURI & 0 & 0 & 0 & 0 & 0 & 0 & No \\\\\n\t 8.841190e+12 & 5642494 & F & 2016-04-29T16:07:23Z & 2016-04-29T00:00:00Z & 56 & JARDIM DA PENHA   & 0 & 1 & 1 & 0 & 0 & 0 & No \\\\\n\t 9.598510e+13 & 5626772 & F & 2016-04-27T08:36:51Z & 2016-04-29T00:00:00Z & 76 & REPÚBLICA         & 0 & 1 & 0 & 0 & 0 & 0 & No \\\\\n\t 7.336880e+14 & 5630279 & F & 2016-04-27T15:05:12Z & 2016-04-29T00:00:00Z & 23 & GOIABEIRAS        & 0 & 0 & 0 & 0 & 0 & 0 & Yes\\\\\n\t 3.449830e+12 & 5630575 & F & 2016-04-27T15:39:58Z & 2016-04-29T00:00:00Z & 39 & GOIABEIRAS        & 0 & 0 & 0 & 0 & 0 & 0 & Yes\\\\\n\t 5.639470e+13 & 5638447 & F & 2016-04-29T08:02:16Z & 2016-04-29T00:00:00Z & 21 & ANDORINHAS        & 0 & 0 & 0 & 0 & 0 & 0 & No \\\\\n\t 7.812460e+13 & 5629123 & F & 2016-04-27T12:48:25Z & 2016-04-29T00:00:00Z & 19 & CONQUISTA         & 0 & 0 & 0 & 0 & 0 & 0 & No \\\\\n\t 7.345360e+14 & 5630213 & F & 2016-04-27T14:58:11Z & 2016-04-29T00:00:00Z & 30 & NOVA PALESTINA    & 0 & 0 & 0 & 0 & 0 & 0 & No \\\\\n\t 7.542950e+12 & 5620163 & M & 2016-04-26T08:44:12Z & 2016-04-29T00:00:00Z & 29 & NOVA PALESTINA    & 0 & 0 & 0 & 0 & 0 & 1 & Yes\\\\\n\t 5.666550e+14 & 5634718 & F & 2016-04-28T11:33:51Z & 2016-04-29T00:00:00Z & 22 & NOVA PALESTINA    & 1 & 0 & 0 & 0 & 0 & 0 & No \\\\\n\t 9.113950e+14 & 5636249 & M & 2016-04-28T14:52:07Z & 2016-04-29T00:00:00Z & 28 & NOVA PALESTINA    & 0 & 0 & 0 & 0 & 0 & 0 & No \\\\\n\t 9.988470e+13 & 5633951 & F & 2016-04-28T10:06:24Z & 2016-04-29T00:00:00Z & NA & NOVA PALESTINA    & 0 & 0 & 0 & 0 & 0 & 0 & No \\\\\n\t 9.994839e+10 & 5620206 & F & 2016-04-26T08:47:27Z & 2016-04-29T00:00:00Z & 15 & NOVA PALESTINA    & 0 & 0 & 0 & 0 & 0 & 1 & No \\\\\n\t 8.457440e+13 & 5633121 & M & 2016-04-28T08:51:47Z & 2016-04-29T00:00:00Z & 50 & NOVA PALESTINA    & 0 & 0 & 0 & 0 & 0 & 0 & No \\\\\n\t 1.479500e+13 & 5633460 & F & 2016-04-28T09:28:57Z & 2016-04-29T00:00:00Z & 40 & CONQUISTA         & 1 & 0 & 0 & 0 & 0 & 0 & Yes\\\\\n\t 1.713540e+13 & 5621836 & F & 2016-04-26T10:54:18Z & 2016-04-29T00:00:00Z & 30 & NOVA PALESTINA    & 1 & 0 & 0 & 0 & 0 & 1 & No \\\\\n\t 7.223290e+12 & 5640433 & F & 2016-04-29T10:43:14Z & 2016-04-29T00:00:00Z & 46 & DA PENHA          & 0 & 0 & 0 & 0 & 0 & 0 & No \\\\\n\t 6.222570e+14 & 5626083 & F & 2016-04-27T07:51:14Z & 2016-04-29T00:00:00Z & 30 & NOVA PALESTINA    & 0 & 0 & 0 & 0 & 0 & 0 & Yes\\\\\n\t 1.215480e+13 & 5628338 & F & 2016-04-27T10:50:45Z & 2016-04-29T00:00:00Z &  4 & CONQUISTA         & 0 & 0 & 0 & 0 & 0 & 0 & Yes\\\\\n\t 8.632300e+14 & 5616091 & M & 2016-04-25T13:29:16Z & 2016-04-29T00:00:00Z & 13 & CONQUISTA         & 0 & 0 & 0 & 0 & 0 & 1 & Yes\\\\\n\t 2.137540e+14 & 5634142 & F & 2016-04-28T10:27:05Z & 2016-04-29T00:00:00Z & 46 & CONQUISTA         & 0 & 0 & 0 & 0 & 0 & 0 & No \\\\\n\t 8.734860e+12 & 5641780 & F & 2016-04-29T14:19:19Z & 2016-04-29T00:00:00Z & 65 & TABUAZEIRO        & 0 & 0 & 0 & 0 & 0 & 0 & No \\\\\n\t 5.819370e+12 & 5624020 & M & 2016-04-26T15:04:17Z & 2016-04-29T00:00:00Z & 46 & CONQUISTA         & 0 & 1 & 0 & 0 & 0 & 1 & No \\\\\n\t 2.578785e+10 & 5641781 & F & 2016-04-29T14:19:42Z & 2016-04-29T00:00:00Z & 45 & BENTO FERREIRA    & 0 & 1 & 0 & 0 & 0 & 0 & No \\\\\n\t 1.215480e+13 & 5628345 & F & 2016-04-27T10:51:45Z & 2016-04-29T00:00:00Z &  4 & CONQUISTA         & 0 & 0 & 0 & 0 & 0 & 0 & No \\\\\n\t 5.926170e+12 & 5642400 & M & 2016-04-29T15:48:02Z & 2016-04-29T00:00:00Z & 51 & SÃO PEDRO         & 0 & 0 & 0 & 0 & 0 & 0 & No \\\\\n\t 1.225780e+12 & 5642186 & F & 2016-04-29T15:16:29Z & 2016-04-29T00:00:00Z & NA & SANTA MARTHA      & 0 & 0 & 0 & 0 & 0 & 0 & No \\\\\n\t ⋮ & ⋮ & ⋮ & ⋮ & ⋮ & ⋮ & ⋮ & ⋮ & ⋮ & ⋮ & ⋮ & ⋮ & ⋮ & ⋮\\\\\n\t 7.93589e+14 & 5757745 & M & 2016-06-01T09:46:33Z & 2016-06-01T00:00:00Z & 76 & MARIA ORTIZ     & 0 & 0 & 0 & 0 & 0 & 0 & No \\\\\n\t 9.43365e+13 & 5787655 & F & 2016-06-08T10:21:14Z & 2016-06-08T00:00:00Z & 59 & MARIA ORTIZ     & 0 & 0 & 0 & 0 & 0 & 0 & No \\\\\n\t 8.21969e+14 & 5757697 & F & 2016-06-01T09:42:56Z & 2016-06-01T00:00:00Z & 66 & MARIA ORTIZ     & 0 & 1 & 1 & 0 & 0 & 0 & No \\\\\n\t 4.43438e+14 & 5787233 & F & 2016-06-08T09:35:13Z & 2016-06-08T00:00:00Z & 59 & MARIA ORTIZ     & 0 & 0 & 0 & 0 & 0 & 0 & No \\\\\n\t 4.54425e+11 & 5758133 & M & 2016-06-01T10:19:12Z & 2016-06-01T00:00:00Z & 44 & MARIA ORTIZ     & 0 & 0 & 0 & 0 & 0 & 0 & No \\\\\n\t 7.31623e+14 & 5787937 & F & 2016-06-08T10:50:42Z & 2016-06-08T00:00:00Z & 22 & GOIABEIRAS      & 0 & 0 & 0 & 0 & 0 & 0 & No \\\\\n\t 2.36218e+13 & 5759473 & F & 2016-06-01T13:00:36Z & 2016-06-01T00:00:00Z & 64 & SOLON BORGES    & 0 & 0 & 0 & 0 & 0 & 0 & No \\\\\n\t 9.94798e+12 & 5788052 & F & 2016-06-08T11:06:21Z & 2016-06-08T00:00:00Z &  4 & MARIA ORTIZ     & 0 & 0 & 0 & 0 & 0 & 0 & No \\\\\n\t 5.66734e+13 & 5758455 & F & 2016-06-01T10:45:50Z & 2016-06-01T00:00:00Z & 55 & MARIA ORTIZ     & 0 & 0 & 0 & 0 & 0 & 0 & No \\\\\n\t 8.97388e+11 & 5758779 & M & 2016-06-01T11:09:20Z & 2016-06-01T00:00:00Z &  5 & MARIA ORTIZ     & 0 & 0 & 0 & 0 & 0 & 0 & No \\\\\n\t 4.76946e+14 & 5786918 & F & 2016-06-08T09:04:18Z & 2016-06-08T00:00:00Z &  0 & MARIA ORTIZ     & 0 & 0 & 0 & 0 & 0 & 0 & No \\\\\n\t 9.43365e+13 & 5757656 & F & 2016-06-01T09:41:00Z & 2016-06-01T00:00:00Z & 59 & MARIA ORTIZ     & 0 & 0 & 0 & 0 & 0 & 0 & No \\\\\n\t 4.95297e+14 & 5786750 & M & 2016-06-08T08:50:51Z & 2016-06-08T00:00:00Z & 33 & MARIA ORTIZ     & 0 & 0 & 0 & 0 & 0 & 0 & No \\\\\n\t 2.36218e+13 & 5757587 & F & 2016-06-01T09:35:48Z & 2016-06-01T00:00:00Z & 64 & SOLON BORGES    & 0 & 0 & 0 & 0 & 0 & 0 & No \\\\\n\t 8.23600e+11 & 5786742 & F & 2016-06-08T08:50:20Z & 2016-06-08T00:00:00Z & 14 & MARIA ORTIZ     & 0 & 0 & 0 & 0 & 0 & 0 & No \\\\\n\t 9.87625e+13 & 5786368 & F & 2016-06-08T08:20:01Z & 2016-06-08T00:00:00Z & 41 & MARIA ORTIZ     & 0 & 0 & 0 & 0 & 0 & 0 & No \\\\\n\t 8.67478e+13 & 5785964 & M & 2016-06-08T07:52:55Z & 2016-06-08T00:00:00Z &  2 & ANTÔNIO HONÓRIO & 0 & 0 & 0 & 0 & 0 & 0 & No \\\\\n\t 2.69569e+12 & 5786567 & F & 2016-06-08T08:35:31Z & 2016-06-08T00:00:00Z & 58 & MARIA ORTIZ     & 0 & 0 & 0 & 0 & 0 & 0 & No \\\\\n\t 6.45634e+14 & 5778621 & M & 2016-06-06T15:58:05Z & 2016-06-08T00:00:00Z & 33 & MARIA ORTIZ     & 0 & 1 & 0 & 0 & 0 & 0 & Yes\\\\\n\t 6.92377e+13 & 5780205 & F & 2016-06-07T07:45:16Z & 2016-06-08T00:00:00Z & 37 & MARIA ORTIZ     & 0 & 0 & 0 & 0 & 0 & 0 & Yes\\\\\n\t 5.57494e+12 & 5780122 & F & 2016-06-07T07:38:34Z & 2016-06-07T00:00:00Z & 19 & MARIA ORTIZ     & 0 & 0 & 0 & 0 & 0 & 0 & No \\\\\n\t 7.26331e+13 & 5630375 & F & 2016-04-27T15:15:06Z & 2016-06-07T00:00:00Z & 50 & MARIA ORTIZ     & 0 & 0 & 0 & 0 & 0 & 1 & No \\\\\n\t 6.54239e+13 & 5630447 & F & 2016-04-27T15:23:14Z & 2016-06-07T00:00:00Z & 22 & MARIA ORTIZ     & 0 & 0 & 0 & 0 & 0 & 1 & No \\\\\n\t 9.96998e+14 & 5650534 & F & 2016-05-03T07:51:47Z & 2016-06-07T00:00:00Z & 42 & MARIA ORTIZ     & 0 & 0 & 0 & 0 & 0 & 1 & No \\\\\n\t 3.63553e+13 & 5651072 & F & 2016-05-03T08:23:40Z & 2016-06-07T00:00:00Z & 53 & MARIA ORTIZ     & 0 & 0 & 0 & 0 & 0 & 1 & No \\\\\n\t 2.57213e+12 & 5651768 & F & 2016-05-03T09:15:35Z & 2016-06-07T00:00:00Z & 56 & MARIA ORTIZ     & 0 & 0 & 0 & 0 & 0 & 1 & No \\\\\n\t 3.59627e+12 & 5650093 & F & 2016-05-03T07:27:33Z & 2016-06-07T00:00:00Z & 51 & MARIA ORTIZ     & 0 & 0 & 0 & 0 & 0 & 1 & No \\\\\n\t 1.55766e+13 & 5630692 & F & 2016-04-27T16:03:52Z & 2016-06-07T00:00:00Z & 21 & MARIA ORTIZ     & 0 & 0 & 0 & 0 & 0 & 1 & No \\\\\n\t 9.21349e+13 & 5630323 & F & 2016-04-27T15:09:23Z & 2016-06-07T00:00:00Z & 38 & MARIA ORTIZ     & 0 & 0 & 0 & 0 & 0 & 1 & No \\\\\n\t 3.77512e+14 & 5629448 & F & 2016-04-27T13:30:56Z & 2016-06-07T00:00:00Z & 54 & MARIA ORTIZ     & 0 & 0 & 0 & 0 & 0 & 1 & No \\\\\n\\end{tabular}\n",
            "text/plain": [
              "       PatientId    AppointmentID Gender ScheduledDay        \n",
              "1      2.987250e+13 5642903       F      2016-04-29T18:38:08Z\n",
              "2      5.589980e+14 5642503       M      2016-04-29T16:08:27Z\n",
              "3      4.262960e+12 5642549       F      2016-04-29T16:19:04Z\n",
              "4      8.679510e+11 5642828       F      2016-04-29T17:29:31Z\n",
              "5      8.841190e+12 5642494       F      2016-04-29T16:07:23Z\n",
              "6      9.598510e+13 5626772       F      2016-04-27T08:36:51Z\n",
              "7      7.336880e+14 5630279       F      2016-04-27T15:05:12Z\n",
              "8      3.449830e+12 5630575       F      2016-04-27T15:39:58Z\n",
              "9      5.639470e+13 5638447       F      2016-04-29T08:02:16Z\n",
              "10     7.812460e+13 5629123       F      2016-04-27T12:48:25Z\n",
              "11     7.345360e+14 5630213       F      2016-04-27T14:58:11Z\n",
              "12     7.542950e+12 5620163       M      2016-04-26T08:44:12Z\n",
              "13     5.666550e+14 5634718       F      2016-04-28T11:33:51Z\n",
              "14     9.113950e+14 5636249       M      2016-04-28T14:52:07Z\n",
              "15     9.988470e+13 5633951       F      2016-04-28T10:06:24Z\n",
              "16     9.994839e+10 5620206       F      2016-04-26T08:47:27Z\n",
              "17     8.457440e+13 5633121       M      2016-04-28T08:51:47Z\n",
              "18     1.479500e+13 5633460       F      2016-04-28T09:28:57Z\n",
              "19     1.713540e+13 5621836       F      2016-04-26T10:54:18Z\n",
              "20     7.223290e+12 5640433       F      2016-04-29T10:43:14Z\n",
              "21     6.222570e+14 5626083       F      2016-04-27T07:51:14Z\n",
              "22     1.215480e+13 5628338       F      2016-04-27T10:50:45Z\n",
              "23     8.632300e+14 5616091       M      2016-04-25T13:29:16Z\n",
              "24     2.137540e+14 5634142       F      2016-04-28T10:27:05Z\n",
              "25     8.734860e+12 5641780       F      2016-04-29T14:19:19Z\n",
              "26     5.819370e+12 5624020       M      2016-04-26T15:04:17Z\n",
              "27     2.578785e+10 5641781       F      2016-04-29T14:19:42Z\n",
              "28     1.215480e+13 5628345       F      2016-04-27T10:51:45Z\n",
              "29     5.926170e+12 5642400       M      2016-04-29T15:48:02Z\n",
              "30     1.225780e+12 5642186       F      2016-04-29T15:16:29Z\n",
              "⋮      ⋮            ⋮             ⋮      ⋮                   \n",
              "110498 7.93589e+14  5757745       M      2016-06-01T09:46:33Z\n",
              "110499 9.43365e+13  5787655       F      2016-06-08T10:21:14Z\n",
              "110500 8.21969e+14  5757697       F      2016-06-01T09:42:56Z\n",
              "110501 4.43438e+14  5787233       F      2016-06-08T09:35:13Z\n",
              "110502 4.54425e+11  5758133       M      2016-06-01T10:19:12Z\n",
              "110503 7.31623e+14  5787937       F      2016-06-08T10:50:42Z\n",
              "110504 2.36218e+13  5759473       F      2016-06-01T13:00:36Z\n",
              "110505 9.94798e+12  5788052       F      2016-06-08T11:06:21Z\n",
              "110506 5.66734e+13  5758455       F      2016-06-01T10:45:50Z\n",
              "110507 8.97388e+11  5758779       M      2016-06-01T11:09:20Z\n",
              "110508 4.76946e+14  5786918       F      2016-06-08T09:04:18Z\n",
              "110509 9.43365e+13  5757656       F      2016-06-01T09:41:00Z\n",
              "110510 4.95297e+14  5786750       M      2016-06-08T08:50:51Z\n",
              "110511 2.36218e+13  5757587       F      2016-06-01T09:35:48Z\n",
              "110512 8.23600e+11  5786742       F      2016-06-08T08:50:20Z\n",
              "110513 9.87625e+13  5786368       F      2016-06-08T08:20:01Z\n",
              "110514 8.67478e+13  5785964       M      2016-06-08T07:52:55Z\n",
              "110515 2.69569e+12  5786567       F      2016-06-08T08:35:31Z\n",
              "110516 6.45634e+14  5778621       M      2016-06-06T15:58:05Z\n",
              "110517 6.92377e+13  5780205       F      2016-06-07T07:45:16Z\n",
              "110518 5.57494e+12  5780122       F      2016-06-07T07:38:34Z\n",
              "110519 7.26331e+13  5630375       F      2016-04-27T15:15:06Z\n",
              "110520 6.54239e+13  5630447       F      2016-04-27T15:23:14Z\n",
              "110521 9.96998e+14  5650534       F      2016-05-03T07:51:47Z\n",
              "110522 3.63553e+13  5651072       F      2016-05-03T08:23:40Z\n",
              "110523 2.57213e+12  5651768       F      2016-05-03T09:15:35Z\n",
              "110524 3.59627e+12  5650093       F      2016-05-03T07:27:33Z\n",
              "110525 1.55766e+13  5630692       F      2016-04-27T16:03:52Z\n",
              "110526 9.21349e+13  5630323       F      2016-04-27T15:09:23Z\n",
              "110527 3.77512e+14  5629448       F      2016-04-27T13:30:56Z\n",
              "       AppointmentDay       Age Neighbourhood     Scholarship Hipertension\n",
              "1      2016-04-29T00:00:00Z 62  JARDIM DA PENHA   0           1           \n",
              "2      2016-04-29T00:00:00Z 56  JARDIM DA PENHA   0           0           \n",
              "3      2016-04-29T00:00:00Z 62  MATA DA PRAIA     0           0           \n",
              "4      2016-04-29T00:00:00Z  8  PONTAL DE CAMBURI 0           0           \n",
              "5      2016-04-29T00:00:00Z 56  JARDIM DA PENHA   0           1           \n",
              "6      2016-04-29T00:00:00Z 76  REPÚBLICA         0           1           \n",
              "7      2016-04-29T00:00:00Z 23  GOIABEIRAS        0           0           \n",
              "8      2016-04-29T00:00:00Z 39  GOIABEIRAS        0           0           \n",
              "9      2016-04-29T00:00:00Z 21  ANDORINHAS        0           0           \n",
              "10     2016-04-29T00:00:00Z 19  CONQUISTA         0           0           \n",
              "11     2016-04-29T00:00:00Z 30  NOVA PALESTINA    0           0           \n",
              "12     2016-04-29T00:00:00Z 29  NOVA PALESTINA    0           0           \n",
              "13     2016-04-29T00:00:00Z 22  NOVA PALESTINA    1           0           \n",
              "14     2016-04-29T00:00:00Z 28  NOVA PALESTINA    0           0           \n",
              "15     2016-04-29T00:00:00Z NA  NOVA PALESTINA    0           0           \n",
              "16     2016-04-29T00:00:00Z 15  NOVA PALESTINA    0           0           \n",
              "17     2016-04-29T00:00:00Z 50  NOVA PALESTINA    0           0           \n",
              "18     2016-04-29T00:00:00Z 40  CONQUISTA         1           0           \n",
              "19     2016-04-29T00:00:00Z 30  NOVA PALESTINA    1           0           \n",
              "20     2016-04-29T00:00:00Z 46  DA PENHA          0           0           \n",
              "21     2016-04-29T00:00:00Z 30  NOVA PALESTINA    0           0           \n",
              "22     2016-04-29T00:00:00Z  4  CONQUISTA         0           0           \n",
              "23     2016-04-29T00:00:00Z 13  CONQUISTA         0           0           \n",
              "24     2016-04-29T00:00:00Z 46  CONQUISTA         0           0           \n",
              "25     2016-04-29T00:00:00Z 65  TABUAZEIRO        0           0           \n",
              "26     2016-04-29T00:00:00Z 46  CONQUISTA         0           1           \n",
              "27     2016-04-29T00:00:00Z 45  BENTO FERREIRA    0           1           \n",
              "28     2016-04-29T00:00:00Z  4  CONQUISTA         0           0           \n",
              "29     2016-04-29T00:00:00Z 51  SÃO PEDRO         0           0           \n",
              "30     2016-04-29T00:00:00Z NA  SANTA MARTHA      0           0           \n",
              "⋮      ⋮                    ⋮   ⋮                 ⋮           ⋮           \n",
              "110498 2016-06-01T00:00:00Z 76  MARIA ORTIZ       0           0           \n",
              "110499 2016-06-08T00:00:00Z 59  MARIA ORTIZ       0           0           \n",
              "110500 2016-06-01T00:00:00Z 66  MARIA ORTIZ       0           1           \n",
              "110501 2016-06-08T00:00:00Z 59  MARIA ORTIZ       0           0           \n",
              "110502 2016-06-01T00:00:00Z 44  MARIA ORTIZ       0           0           \n",
              "110503 2016-06-08T00:00:00Z 22  GOIABEIRAS        0           0           \n",
              "110504 2016-06-01T00:00:00Z 64  SOLON BORGES      0           0           \n",
              "110505 2016-06-08T00:00:00Z  4  MARIA ORTIZ       0           0           \n",
              "110506 2016-06-01T00:00:00Z 55  MARIA ORTIZ       0           0           \n",
              "110507 2016-06-01T00:00:00Z  5  MARIA ORTIZ       0           0           \n",
              "110508 2016-06-08T00:00:00Z  0  MARIA ORTIZ       0           0           \n",
              "110509 2016-06-01T00:00:00Z 59  MARIA ORTIZ       0           0           \n",
              "110510 2016-06-08T00:00:00Z 33  MARIA ORTIZ       0           0           \n",
              "110511 2016-06-01T00:00:00Z 64  SOLON BORGES      0           0           \n",
              "110512 2016-06-08T00:00:00Z 14  MARIA ORTIZ       0           0           \n",
              "110513 2016-06-08T00:00:00Z 41  MARIA ORTIZ       0           0           \n",
              "110514 2016-06-08T00:00:00Z  2  ANTÔNIO HONÓRIO   0           0           \n",
              "110515 2016-06-08T00:00:00Z 58  MARIA ORTIZ       0           0           \n",
              "110516 2016-06-08T00:00:00Z 33  MARIA ORTIZ       0           1           \n",
              "110517 2016-06-08T00:00:00Z 37  MARIA ORTIZ       0           0           \n",
              "110518 2016-06-07T00:00:00Z 19  MARIA ORTIZ       0           0           \n",
              "110519 2016-06-07T00:00:00Z 50  MARIA ORTIZ       0           0           \n",
              "110520 2016-06-07T00:00:00Z 22  MARIA ORTIZ       0           0           \n",
              "110521 2016-06-07T00:00:00Z 42  MARIA ORTIZ       0           0           \n",
              "110522 2016-06-07T00:00:00Z 53  MARIA ORTIZ       0           0           \n",
              "110523 2016-06-07T00:00:00Z 56  MARIA ORTIZ       0           0           \n",
              "110524 2016-06-07T00:00:00Z 51  MARIA ORTIZ       0           0           \n",
              "110525 2016-06-07T00:00:00Z 21  MARIA ORTIZ       0           0           \n",
              "110526 2016-06-07T00:00:00Z 38  MARIA ORTIZ       0           0           \n",
              "110527 2016-06-07T00:00:00Z 54  MARIA ORTIZ       0           0           \n",
              "       Diabetes Alcoholism Handcap SMS_received No.show\n",
              "1      0        0          0       0            No     \n",
              "2      0        0          0       0            No     \n",
              "3      0        0          0       0            No     \n",
              "4      0        0          0       0            No     \n",
              "5      1        0          0       0            No     \n",
              "6      0        0          0       0            No     \n",
              "7      0        0          0       0            Yes    \n",
              "8      0        0          0       0            Yes    \n",
              "9      0        0          0       0            No     \n",
              "10     0        0          0       0            No     \n",
              "11     0        0          0       0            No     \n",
              "12     0        0          0       1            Yes    \n",
              "13     0        0          0       0            No     \n",
              "14     0        0          0       0            No     \n",
              "15     0        0          0       0            No     \n",
              "16     0        0          0       1            No     \n",
              "17     0        0          0       0            No     \n",
              "18     0        0          0       0            Yes    \n",
              "19     0        0          0       1            No     \n",
              "20     0        0          0       0            No     \n",
              "21     0        0          0       0            Yes    \n",
              "22     0        0          0       0            Yes    \n",
              "23     0        0          0       1            Yes    \n",
              "24     0        0          0       0            No     \n",
              "25     0        0          0       0            No     \n",
              "26     0        0          0       1            No     \n",
              "27     0        0          0       0            No     \n",
              "28     0        0          0       0            No     \n",
              "29     0        0          0       0            No     \n",
              "30     0        0          0       0            No     \n",
              "⋮      ⋮        ⋮          ⋮       ⋮            ⋮      \n",
              "110498 0        0          0       0            No     \n",
              "110499 0        0          0       0            No     \n",
              "110500 1        0          0       0            No     \n",
              "110501 0        0          0       0            No     \n",
              "110502 0        0          0       0            No     \n",
              "110503 0        0          0       0            No     \n",
              "110504 0        0          0       0            No     \n",
              "110505 0        0          0       0            No     \n",
              "110506 0        0          0       0            No     \n",
              "110507 0        0          0       0            No     \n",
              "110508 0        0          0       0            No     \n",
              "110509 0        0          0       0            No     \n",
              "110510 0        0          0       0            No     \n",
              "110511 0        0          0       0            No     \n",
              "110512 0        0          0       0            No     \n",
              "110513 0        0          0       0            No     \n",
              "110514 0        0          0       0            No     \n",
              "110515 0        0          0       0            No     \n",
              "110516 0        0          0       0            Yes    \n",
              "110517 0        0          0       0            Yes    \n",
              "110518 0        0          0       0            No     \n",
              "110519 0        0          0       1            No     \n",
              "110520 0        0          0       1            No     \n",
              "110521 0        0          0       1            No     \n",
              "110522 0        0          0       1            No     \n",
              "110523 0        0          0       1            No     \n",
              "110524 0        0          0       1            No     \n",
              "110525 0        0          0       1            No     \n",
              "110526 0        0          0       1            No     \n",
              "110527 0        0          0       1            No     "
            ]
          },
          "metadata": {}
        }
      ],
      "source": [
        "#show the existing working directory\n",
        "getwd()\n",
        "\n",
        "#setting working directory\n",
        "#setwd(\"D:\\DS\\Assignment 2\")\n",
        "\n",
        "#reading and importing the data as med_data\n",
        "med_data<-read.csv(\"MedicalCentre.csv\",header=TRUE)\n",
        "med_data"
      ]
    },
    {
      "cell_type": "code",
      "execution_count": 119,
      "metadata": {
        "colab": {
          "base_uri": "https://localhost:8080/",
          "height": 86
        },
        "id": "qXj_GNJ4_97g",
        "outputId": "19d70462-60ad-4275-f96a-afa020bd51e4"
      },
      "outputs": [
        {
          "output_type": "display_data",
          "data": {
            "text/html": [
              "3"
            ],
            "text/markdown": "3",
            "text/latex": "3",
            "text/plain": [
              "[1] 3"
            ]
          },
          "metadata": {}
        },
        {
          "output_type": "display_data",
          "data": {
            "text/html": [
              "<style>\n",
              ".dl-inline {width: auto; margin:0; padding: 0}\n",
              ".dl-inline>dt, .dl-inline>dd {float: none; width: auto; display: inline-block}\n",
              ".dl-inline>dt::after {content: \":\\0020\"; padding-right: .5ex}\n",
              ".dl-inline>dt:not(:first-of-type) {padding-left: .5ex}\n",
              "</style><dl class=dl-inline><dt>PatientId</dt><dd>0</dd><dt>AppointmentID</dt><dd>0</dd><dt>Gender</dt><dd>0</dd><dt>ScheduledDay</dt><dd>0</dd><dt>AppointmentDay</dt><dd>0</dd><dt>Age</dt><dd>3</dd><dt>Neighbourhood</dt><dd>0</dd><dt>Scholarship</dt><dd>0</dd><dt>Hipertension</dt><dd>0</dd><dt>Diabetes</dt><dd>0</dd><dt>Alcoholism</dt><dd>0</dd><dt>Handcap</dt><dd>0</dd><dt>SMS_received</dt><dd>0</dd><dt>No.show</dt><dd>0</dd></dl>\n"
            ],
            "text/markdown": "PatientId\n:   0AppointmentID\n:   0Gender\n:   0ScheduledDay\n:   0AppointmentDay\n:   0Age\n:   3Neighbourhood\n:   0Scholarship\n:   0Hipertension\n:   0Diabetes\n:   0Alcoholism\n:   0Handcap\n:   0SMS_received\n:   0No.show\n:   0\n\n",
            "text/latex": "\\begin{description*}\n\\item[PatientId] 0\n\\item[AppointmentID] 0\n\\item[Gender] 0\n\\item[ScheduledDay] 0\n\\item[AppointmentDay] 0\n\\item[Age] 3\n\\item[Neighbourhood] 0\n\\item[Scholarship] 0\n\\item[Hipertension] 0\n\\item[Diabetes] 0\n\\item[Alcoholism] 0\n\\item[Handcap] 0\n\\item[SMS\\textbackslash{}\\_received] 0\n\\item[No.show] 0\n\\end{description*}\n",
            "text/plain": [
              "     PatientId  AppointmentID         Gender   ScheduledDay AppointmentDay \n",
              "             0              0              0              0              0 \n",
              "           Age  Neighbourhood    Scholarship   Hipertension       Diabetes \n",
              "             3              0              0              0              0 \n",
              "    Alcoholism        Handcap   SMS_received        No.show \n",
              "             0              0              0              0 "
            ]
          },
          "metadata": {}
        },
        {
          "output_type": "display_data",
          "data": {
            "text/html": [
              "0"
            ],
            "text/markdown": "0",
            "text/latex": "0",
            "text/plain": [
              "[1] 0"
            ]
          },
          "metadata": {}
        }
      ],
      "source": [
        "#1\n",
        "#count missing values in the data\n",
        "sum(is.na(med_data))\n",
        "colSums(is.na(med_data))\n",
        "\n",
        "#removing missing values\n",
        "data_after_null<-na.omit(med_data);\n",
        "\n",
        "#check data after removing null values\n",
        "sum(is.na(data_after_null))"
      ]
    },
    {
      "cell_type": "code",
      "execution_count": 120,
      "metadata": {
        "colab": {
          "base_uri": "https://localhost:8080/",
          "height": 437
        },
        "id": "Y-nuzBXhBUl_",
        "outputId": "abdc014f-7914-4955-cf1b-0321bed8929b"
      },
      "outputs": [
        {
          "output_type": "display_data",
          "data": {
            "text/plain": [
              "Plot with title “SMS_received”"
            ],
            "image/png": "[encoded data removed]"
          },
          "metadata": {
            "image/png": {
              "width": 420,
              "height": 420
            }
          }
        }
      ],
      "source": [
        "#2\n",
        "plot_all_features <- function(data) {\n",
        "  # Exclude non-numeric columns\n",
        "  numeric_cols <- sapply(data, is.numeric)\n",
        "  data_numeric <- data[, numeric_cols]\n",
        "\n",
        "  # Set up a 4x4 grid of plots\n",
        "  par(mfrow=c(4, 4), mar=c(2, 2, 1, 1))\n",
        "\n",
        "  # Create boxplots for each numeric column\n",
        "  for (i in 1:ncol(data_numeric)) {\n",
        "    boxplot(data_numeric[, i], main=names(data_numeric)[i], cex.axis=0.8)\n",
        "  }\n",
        "}\n",
        "\n",
        "plot_data<-data_after_null[,c(1,2,6,8,9,10,11,12,13)]\n",
        "\n",
        "# Call the function to plot all features\n",
        "plot_all_features(plot_data)\n"
      ]
    },
    {
      "cell_type": "code",
      "execution_count": 121,
      "metadata": {
        "colab": {
          "base_uri": "https://localhost:8080/",
          "height": 1000
        },
        "id": "a5usCB4zBdwO",
        "outputId": "a13b8ae2-8903-4764-8cdd-2086de336c4a"
      },
      "outputs": [
        {
          "output_type": "display_data",
          "data": {
            "text/html": [
              "1"
            ],
            "text/markdown": "1",
            "text/latex": "1",
            "text/plain": [
              "[1] 1"
            ]
          },
          "metadata": {}
        },
        {
          "output_type": "display_data",
          "data": {
            "text/html": [
              "<table class=\"dataframe\">\n",
              "<caption>A data.frame: 110523 × 14</caption>\n",
              "<thead>\n",
              "\t<tr><th></th><th scope=col>PatientId</th><th scope=col>AppointmentID</th><th scope=col>Gender</th><th scope=col>ScheduledDay</th><th scope=col>AppointmentDay</th><th scope=col>Age</th><th scope=col>Neighbourhood</th><th scope=col>Scholarship</th><th scope=col>Hipertension</th><th scope=col>Diabetes</th><th scope=col>Alcoholism</th><th scope=col>Handcap</th><th scope=col>SMS_received</th><th scope=col>No.show</th></tr>\n",
              "\t<tr><th></th><th scope=col>&lt;dbl&gt;</th><th scope=col>&lt;int&gt;</th><th scope=col>&lt;chr&gt;</th><th scope=col>&lt;chr&gt;</th><th scope=col>&lt;chr&gt;</th><th scope=col>&lt;int&gt;</th><th scope=col>&lt;chr&gt;</th><th scope=col>&lt;int&gt;</th><th scope=col>&lt;int&gt;</th><th scope=col>&lt;int&gt;</th><th scope=col>&lt;int&gt;</th><th scope=col>&lt;int&gt;</th><th scope=col>&lt;int&gt;</th><th scope=col>&lt;chr&gt;</th></tr>\n",
              "</thead>\n",
              "<tbody>\n",
              "\t<tr><th scope=row>1</th><td>2.987250e+13</td><td>5642903</td><td>F</td><td>2016-04-29T18:38:08Z</td><td>2016-04-29T00:00:00Z</td><td>62</td><td>JARDIM DA PENHA  </td><td>0</td><td>1</td><td>0</td><td>0</td><td>0</td><td>0</td><td>No </td></tr>\n",
              "\t<tr><th scope=row>2</th><td>5.589980e+14</td><td>5642503</td><td>M</td><td>2016-04-29T16:08:27Z</td><td>2016-04-29T00:00:00Z</td><td>56</td><td>JARDIM DA PENHA  </td><td>0</td><td>0</td><td>0</td><td>0</td><td>0</td><td>0</td><td>No </td></tr>\n",
              "\t<tr><th scope=row>3</th><td>4.262960e+12</td><td>5642549</td><td>F</td><td>2016-04-29T16:19:04Z</td><td>2016-04-29T00:00:00Z</td><td>62</td><td>MATA DA PRAIA    </td><td>0</td><td>0</td><td>0</td><td>0</td><td>0</td><td>0</td><td>No </td></tr>\n",
              "\t<tr><th scope=row>4</th><td>8.679510e+11</td><td>5642828</td><td>F</td><td>2016-04-29T17:29:31Z</td><td>2016-04-29T00:00:00Z</td><td> 8</td><td>PONTAL DE CAMBURI</td><td>0</td><td>0</td><td>0</td><td>0</td><td>0</td><td>0</td><td>No </td></tr>\n",
              "\t<tr><th scope=row>5</th><td>8.841190e+12</td><td>5642494</td><td>F</td><td>2016-04-29T16:07:23Z</td><td>2016-04-29T00:00:00Z</td><td>56</td><td>JARDIM DA PENHA  </td><td>0</td><td>1</td><td>1</td><td>0</td><td>0</td><td>0</td><td>No </td></tr>\n",
              "\t<tr><th scope=row>6</th><td>9.598510e+13</td><td>5626772</td><td>F</td><td>2016-04-27T08:36:51Z</td><td>2016-04-29T00:00:00Z</td><td>76</td><td>REPÚBLICA        </td><td>0</td><td>1</td><td>0</td><td>0</td><td>0</td><td>0</td><td>No </td></tr>\n",
              "\t<tr><th scope=row>7</th><td>7.336880e+14</td><td>5630279</td><td>F</td><td>2016-04-27T15:05:12Z</td><td>2016-04-29T00:00:00Z</td><td>23</td><td>GOIABEIRAS       </td><td>0</td><td>0</td><td>0</td><td>0</td><td>0</td><td>0</td><td>Yes</td></tr>\n",
              "\t<tr><th scope=row>8</th><td>3.449830e+12</td><td>5630575</td><td>F</td><td>2016-04-27T15:39:58Z</td><td>2016-04-29T00:00:00Z</td><td>39</td><td>GOIABEIRAS       </td><td>0</td><td>0</td><td>0</td><td>0</td><td>0</td><td>0</td><td>Yes</td></tr>\n",
              "\t<tr><th scope=row>9</th><td>5.639470e+13</td><td>5638447</td><td>F</td><td>2016-04-29T08:02:16Z</td><td>2016-04-29T00:00:00Z</td><td>21</td><td>ANDORINHAS       </td><td>0</td><td>0</td><td>0</td><td>0</td><td>0</td><td>0</td><td>No </td></tr>\n",
              "\t<tr><th scope=row>10</th><td>7.812460e+13</td><td>5629123</td><td>F</td><td>2016-04-27T12:48:25Z</td><td>2016-04-29T00:00:00Z</td><td>19</td><td>CONQUISTA        </td><td>0</td><td>0</td><td>0</td><td>0</td><td>0</td><td>0</td><td>No </td></tr>\n",
              "\t<tr><th scope=row>11</th><td>7.345360e+14</td><td>5630213</td><td>F</td><td>2016-04-27T14:58:11Z</td><td>2016-04-29T00:00:00Z</td><td>30</td><td>NOVA PALESTINA   </td><td>0</td><td>0</td><td>0</td><td>0</td><td>0</td><td>0</td><td>No </td></tr>\n",
              "\t<tr><th scope=row>12</th><td>7.542950e+12</td><td>5620163</td><td>M</td><td>2016-04-26T08:44:12Z</td><td>2016-04-29T00:00:00Z</td><td>29</td><td>NOVA PALESTINA   </td><td>0</td><td>0</td><td>0</td><td>0</td><td>0</td><td>1</td><td>Yes</td></tr>\n",
              "\t<tr><th scope=row>13</th><td>5.666550e+14</td><td>5634718</td><td>F</td><td>2016-04-28T11:33:51Z</td><td>2016-04-29T00:00:00Z</td><td>22</td><td>NOVA PALESTINA   </td><td>1</td><td>0</td><td>0</td><td>0</td><td>0</td><td>0</td><td>No </td></tr>\n",
              "\t<tr><th scope=row>14</th><td>9.113950e+14</td><td>5636249</td><td>M</td><td>2016-04-28T14:52:07Z</td><td>2016-04-29T00:00:00Z</td><td>28</td><td>NOVA PALESTINA   </td><td>0</td><td>0</td><td>0</td><td>0</td><td>0</td><td>0</td><td>No </td></tr>\n",
              "\t<tr><th scope=row>16</th><td>9.994839e+10</td><td>5620206</td><td>F</td><td>2016-04-26T08:47:27Z</td><td>2016-04-29T00:00:00Z</td><td>15</td><td>NOVA PALESTINA   </td><td>0</td><td>0</td><td>0</td><td>0</td><td>0</td><td>1</td><td>No </td></tr>\n",
              "\t<tr><th scope=row>17</th><td>8.457440e+13</td><td>5633121</td><td>M</td><td>2016-04-28T08:51:47Z</td><td>2016-04-29T00:00:00Z</td><td>50</td><td>NOVA PALESTINA   </td><td>0</td><td>0</td><td>0</td><td>0</td><td>0</td><td>0</td><td>No </td></tr>\n",
              "\t<tr><th scope=row>18</th><td>1.479500e+13</td><td>5633460</td><td>F</td><td>2016-04-28T09:28:57Z</td><td>2016-04-29T00:00:00Z</td><td>40</td><td>CONQUISTA        </td><td>1</td><td>0</td><td>0</td><td>0</td><td>0</td><td>0</td><td>Yes</td></tr>\n",
              "\t<tr><th scope=row>19</th><td>1.713540e+13</td><td>5621836</td><td>F</td><td>2016-04-26T10:54:18Z</td><td>2016-04-29T00:00:00Z</td><td>30</td><td>NOVA PALESTINA   </td><td>1</td><td>0</td><td>0</td><td>0</td><td>0</td><td>1</td><td>No </td></tr>\n",
              "\t<tr><th scope=row>20</th><td>7.223290e+12</td><td>5640433</td><td>F</td><td>2016-04-29T10:43:14Z</td><td>2016-04-29T00:00:00Z</td><td>46</td><td>DA PENHA         </td><td>0</td><td>0</td><td>0</td><td>0</td><td>0</td><td>0</td><td>No </td></tr>\n",
              "\t<tr><th scope=row>21</th><td>6.222570e+14</td><td>5626083</td><td>F</td><td>2016-04-27T07:51:14Z</td><td>2016-04-29T00:00:00Z</td><td>30</td><td>NOVA PALESTINA   </td><td>0</td><td>0</td><td>0</td><td>0</td><td>0</td><td>0</td><td>Yes</td></tr>\n",
              "\t<tr><th scope=row>22</th><td>1.215480e+13</td><td>5628338</td><td>F</td><td>2016-04-27T10:50:45Z</td><td>2016-04-29T00:00:00Z</td><td> 4</td><td>CONQUISTA        </td><td>0</td><td>0</td><td>0</td><td>0</td><td>0</td><td>0</td><td>Yes</td></tr>\n",
              "\t<tr><th scope=row>23</th><td>8.632300e+14</td><td>5616091</td><td>M</td><td>2016-04-25T13:29:16Z</td><td>2016-04-29T00:00:00Z</td><td>13</td><td>CONQUISTA        </td><td>0</td><td>0</td><td>0</td><td>0</td><td>0</td><td>1</td><td>Yes</td></tr>\n",
              "\t<tr><th scope=row>24</th><td>2.137540e+14</td><td>5634142</td><td>F</td><td>2016-04-28T10:27:05Z</td><td>2016-04-29T00:00:00Z</td><td>46</td><td>CONQUISTA        </td><td>0</td><td>0</td><td>0</td><td>0</td><td>0</td><td>0</td><td>No </td></tr>\n",
              "\t<tr><th scope=row>25</th><td>8.734860e+12</td><td>5641780</td><td>F</td><td>2016-04-29T14:19:19Z</td><td>2016-04-29T00:00:00Z</td><td>65</td><td>TABUAZEIRO       </td><td>0</td><td>0</td><td>0</td><td>0</td><td>0</td><td>0</td><td>No </td></tr>\n",
              "\t<tr><th scope=row>26</th><td>5.819370e+12</td><td>5624020</td><td>M</td><td>2016-04-26T15:04:17Z</td><td>2016-04-29T00:00:00Z</td><td>46</td><td>CONQUISTA        </td><td>0</td><td>1</td><td>0</td><td>0</td><td>0</td><td>1</td><td>No </td></tr>\n",
              "\t<tr><th scope=row>27</th><td>2.578785e+10</td><td>5641781</td><td>F</td><td>2016-04-29T14:19:42Z</td><td>2016-04-29T00:00:00Z</td><td>45</td><td>BENTO FERREIRA   </td><td>0</td><td>1</td><td>0</td><td>0</td><td>0</td><td>0</td><td>No </td></tr>\n",
              "\t<tr><th scope=row>28</th><td>1.215480e+13</td><td>5628345</td><td>F</td><td>2016-04-27T10:51:45Z</td><td>2016-04-29T00:00:00Z</td><td> 4</td><td>CONQUISTA        </td><td>0</td><td>0</td><td>0</td><td>0</td><td>0</td><td>0</td><td>No </td></tr>\n",
              "\t<tr><th scope=row>29</th><td>5.926170e+12</td><td>5642400</td><td>M</td><td>2016-04-29T15:48:02Z</td><td>2016-04-29T00:00:00Z</td><td>51</td><td>SÃO PEDRO        </td><td>0</td><td>0</td><td>0</td><td>0</td><td>0</td><td>0</td><td>No </td></tr>\n",
              "\t<tr><th scope=row>31</th><td>3.428160e+11</td><td>5628068</td><td>F</td><td>2016-04-27T10:24:52Z</td><td>2016-04-29T00:00:00Z</td><td>46</td><td>NOVA PALESTINA   </td><td>0</td><td>0</td><td>0</td><td>0</td><td>0</td><td>0</td><td>No </td></tr>\n",
              "\t<tr><th scope=row>32</th><td>3.112850e+11</td><td>5628907</td><td>M</td><td>2016-04-27T12:07:14Z</td><td>2016-04-29T00:00:00Z</td><td>12</td><td>NOVA PALESTINA   </td><td>1</td><td>0</td><td>0</td><td>0</td><td>0</td><td>0</td><td>Yes</td></tr>\n",
              "\t<tr><th scope=row>⋮</th><td>⋮</td><td>⋮</td><td>⋮</td><td>⋮</td><td>⋮</td><td>⋮</td><td>⋮</td><td>⋮</td><td>⋮</td><td>⋮</td><td>⋮</td><td>⋮</td><td>⋮</td><td>⋮</td></tr>\n",
              "\t<tr><th scope=row>110498</th><td>7.93589e+14</td><td>5757745</td><td>M</td><td>2016-06-01T09:46:33Z</td><td>2016-06-01T00:00:00Z</td><td>76</td><td>MARIA ORTIZ    </td><td>0</td><td>0</td><td>0</td><td>0</td><td>0</td><td>0</td><td>No </td></tr>\n",
              "\t<tr><th scope=row>110499</th><td>9.43365e+13</td><td>5787655</td><td>F</td><td>2016-06-08T10:21:14Z</td><td>2016-06-08T00:00:00Z</td><td>59</td><td>MARIA ORTIZ    </td><td>0</td><td>0</td><td>0</td><td>0</td><td>0</td><td>0</td><td>No </td></tr>\n",
              "\t<tr><th scope=row>110500</th><td>8.21969e+14</td><td>5757697</td><td>F</td><td>2016-06-01T09:42:56Z</td><td>2016-06-01T00:00:00Z</td><td>66</td><td>MARIA ORTIZ    </td><td>0</td><td>1</td><td>1</td><td>0</td><td>0</td><td>0</td><td>No </td></tr>\n",
              "\t<tr><th scope=row>110501</th><td>4.43438e+14</td><td>5787233</td><td>F</td><td>2016-06-08T09:35:13Z</td><td>2016-06-08T00:00:00Z</td><td>59</td><td>MARIA ORTIZ    </td><td>0</td><td>0</td><td>0</td><td>0</td><td>0</td><td>0</td><td>No </td></tr>\n",
              "\t<tr><th scope=row>110502</th><td>4.54425e+11</td><td>5758133</td><td>M</td><td>2016-06-01T10:19:12Z</td><td>2016-06-01T00:00:00Z</td><td>44</td><td>MARIA ORTIZ    </td><td>0</td><td>0</td><td>0</td><td>0</td><td>0</td><td>0</td><td>No </td></tr>\n",
              "\t<tr><th scope=row>110503</th><td>7.31623e+14</td><td>5787937</td><td>F</td><td>2016-06-08T10:50:42Z</td><td>2016-06-08T00:00:00Z</td><td>22</td><td>GOIABEIRAS     </td><td>0</td><td>0</td><td>0</td><td>0</td><td>0</td><td>0</td><td>No </td></tr>\n",
              "\t<tr><th scope=row>110504</th><td>2.36218e+13</td><td>5759473</td><td>F</td><td>2016-06-01T13:00:36Z</td><td>2016-06-01T00:00:00Z</td><td>64</td><td>SOLON BORGES   </td><td>0</td><td>0</td><td>0</td><td>0</td><td>0</td><td>0</td><td>No </td></tr>\n",
              "\t<tr><th scope=row>110505</th><td>9.94798e+12</td><td>5788052</td><td>F</td><td>2016-06-08T11:06:21Z</td><td>2016-06-08T00:00:00Z</td><td> 4</td><td>MARIA ORTIZ    </td><td>0</td><td>0</td><td>0</td><td>0</td><td>0</td><td>0</td><td>No </td></tr>\n",
              "\t<tr><th scope=row>110506</th><td>5.66734e+13</td><td>5758455</td><td>F</td><td>2016-06-01T10:45:50Z</td><td>2016-06-01T00:00:00Z</td><td>55</td><td>MARIA ORTIZ    </td><td>0</td><td>0</td><td>0</td><td>0</td><td>0</td><td>0</td><td>No </td></tr>\n",
              "\t<tr><th scope=row>110507</th><td>8.97388e+11</td><td>5758779</td><td>M</td><td>2016-06-01T11:09:20Z</td><td>2016-06-01T00:00:00Z</td><td> 5</td><td>MARIA ORTIZ    </td><td>0</td><td>0</td><td>0</td><td>0</td><td>0</td><td>0</td><td>No </td></tr>\n",
              "\t<tr><th scope=row>110508</th><td>4.76946e+14</td><td>5786918</td><td>F</td><td>2016-06-08T09:04:18Z</td><td>2016-06-08T00:00:00Z</td><td> 0</td><td>MARIA ORTIZ    </td><td>0</td><td>0</td><td>0</td><td>0</td><td>0</td><td>0</td><td>No </td></tr>\n",
              "\t<tr><th scope=row>110509</th><td>9.43365e+13</td><td>5757656</td><td>F</td><td>2016-06-01T09:41:00Z</td><td>2016-06-01T00:00:00Z</td><td>59</td><td>MARIA ORTIZ    </td><td>0</td><td>0</td><td>0</td><td>0</td><td>0</td><td>0</td><td>No </td></tr>\n",
              "\t<tr><th scope=row>110510</th><td>4.95297e+14</td><td>5786750</td><td>M</td><td>2016-06-08T08:50:51Z</td><td>2016-06-08T00:00:00Z</td><td>33</td><td>MARIA ORTIZ    </td><td>0</td><td>0</td><td>0</td><td>0</td><td>0</td><td>0</td><td>No </td></tr>\n",
              "\t<tr><th scope=row>110511</th><td>2.36218e+13</td><td>5757587</td><td>F</td><td>2016-06-01T09:35:48Z</td><td>2016-06-01T00:00:00Z</td><td>64</td><td>SOLON BORGES   </td><td>0</td><td>0</td><td>0</td><td>0</td><td>0</td><td>0</td><td>No </td></tr>\n",
              "\t<tr><th scope=row>110512</th><td>8.23600e+11</td><td>5786742</td><td>F</td><td>2016-06-08T08:50:20Z</td><td>2016-06-08T00:00:00Z</td><td>14</td><td>MARIA ORTIZ    </td><td>0</td><td>0</td><td>0</td><td>0</td><td>0</td><td>0</td><td>No </td></tr>\n",
              "\t<tr><th scope=row>110513</th><td>9.87625e+13</td><td>5786368</td><td>F</td><td>2016-06-08T08:20:01Z</td><td>2016-06-08T00:00:00Z</td><td>41</td><td>MARIA ORTIZ    </td><td>0</td><td>0</td><td>0</td><td>0</td><td>0</td><td>0</td><td>No </td></tr>\n",
              "\t<tr><th scope=row>110514</th><td>8.67478e+13</td><td>5785964</td><td>M</td><td>2016-06-08T07:52:55Z</td><td>2016-06-08T00:00:00Z</td><td> 2</td><td>ANTÔNIO HONÓRIO</td><td>0</td><td>0</td><td>0</td><td>0</td><td>0</td><td>0</td><td>No </td></tr>\n",
              "\t<tr><th scope=row>110515</th><td>2.69569e+12</td><td>5786567</td><td>F</td><td>2016-06-08T08:35:31Z</td><td>2016-06-08T00:00:00Z</td><td>58</td><td>MARIA ORTIZ    </td><td>0</td><td>0</td><td>0</td><td>0</td><td>0</td><td>0</td><td>No </td></tr>\n",
              "\t<tr><th scope=row>110516</th><td>6.45634e+14</td><td>5778621</td><td>M</td><td>2016-06-06T15:58:05Z</td><td>2016-06-08T00:00:00Z</td><td>33</td><td>MARIA ORTIZ    </td><td>0</td><td>1</td><td>0</td><td>0</td><td>0</td><td>0</td><td>Yes</td></tr>\n",
              "\t<tr><th scope=row>110517</th><td>6.92377e+13</td><td>5780205</td><td>F</td><td>2016-06-07T07:45:16Z</td><td>2016-06-08T00:00:00Z</td><td>37</td><td>MARIA ORTIZ    </td><td>0</td><td>0</td><td>0</td><td>0</td><td>0</td><td>0</td><td>Yes</td></tr>\n",
              "\t<tr><th scope=row>110518</th><td>5.57494e+12</td><td>5780122</td><td>F</td><td>2016-06-07T07:38:34Z</td><td>2016-06-07T00:00:00Z</td><td>19</td><td>MARIA ORTIZ    </td><td>0</td><td>0</td><td>0</td><td>0</td><td>0</td><td>0</td><td>No </td></tr>\n",
              "\t<tr><th scope=row>110519</th><td>7.26331e+13</td><td>5630375</td><td>F</td><td>2016-04-27T15:15:06Z</td><td>2016-06-07T00:00:00Z</td><td>50</td><td>MARIA ORTIZ    </td><td>0</td><td>0</td><td>0</td><td>0</td><td>0</td><td>1</td><td>No </td></tr>\n",
              "\t<tr><th scope=row>110520</th><td>6.54239e+13</td><td>5630447</td><td>F</td><td>2016-04-27T15:23:14Z</td><td>2016-06-07T00:00:00Z</td><td>22</td><td>MARIA ORTIZ    </td><td>0</td><td>0</td><td>0</td><td>0</td><td>0</td><td>1</td><td>No </td></tr>\n",
              "\t<tr><th scope=row>110521</th><td>9.96998e+14</td><td>5650534</td><td>F</td><td>2016-05-03T07:51:47Z</td><td>2016-06-07T00:00:00Z</td><td>42</td><td>MARIA ORTIZ    </td><td>0</td><td>0</td><td>0</td><td>0</td><td>0</td><td>1</td><td>No </td></tr>\n",
              "\t<tr><th scope=row>110522</th><td>3.63553e+13</td><td>5651072</td><td>F</td><td>2016-05-03T08:23:40Z</td><td>2016-06-07T00:00:00Z</td><td>53</td><td>MARIA ORTIZ    </td><td>0</td><td>0</td><td>0</td><td>0</td><td>0</td><td>1</td><td>No </td></tr>\n",
              "\t<tr><th scope=row>110523</th><td>2.57213e+12</td><td>5651768</td><td>F</td><td>2016-05-03T09:15:35Z</td><td>2016-06-07T00:00:00Z</td><td>56</td><td>MARIA ORTIZ    </td><td>0</td><td>0</td><td>0</td><td>0</td><td>0</td><td>1</td><td>No </td></tr>\n",
              "\t<tr><th scope=row>110524</th><td>3.59627e+12</td><td>5650093</td><td>F</td><td>2016-05-03T07:27:33Z</td><td>2016-06-07T00:00:00Z</td><td>51</td><td>MARIA ORTIZ    </td><td>0</td><td>0</td><td>0</td><td>0</td><td>0</td><td>1</td><td>No </td></tr>\n",
              "\t<tr><th scope=row>110525</th><td>1.55766e+13</td><td>5630692</td><td>F</td><td>2016-04-27T16:03:52Z</td><td>2016-06-07T00:00:00Z</td><td>21</td><td>MARIA ORTIZ    </td><td>0</td><td>0</td><td>0</td><td>0</td><td>0</td><td>1</td><td>No </td></tr>\n",
              "\t<tr><th scope=row>110526</th><td>9.21349e+13</td><td>5630323</td><td>F</td><td>2016-04-27T15:09:23Z</td><td>2016-06-07T00:00:00Z</td><td>38</td><td>MARIA ORTIZ    </td><td>0</td><td>0</td><td>0</td><td>0</td><td>0</td><td>1</td><td>No </td></tr>\n",
              "\t<tr><th scope=row>110527</th><td>3.77512e+14</td><td>5629448</td><td>F</td><td>2016-04-27T13:30:56Z</td><td>2016-06-07T00:00:00Z</td><td>54</td><td>MARIA ORTIZ    </td><td>0</td><td>0</td><td>0</td><td>0</td><td>0</td><td>1</td><td>No </td></tr>\n",
              "</tbody>\n",
              "</table>\n"
            ],
            "text/markdown": "\nA data.frame: 110523 × 14\n\n| <!--/--> | PatientId &lt;dbl&gt; | AppointmentID &lt;int&gt; | Gender &lt;chr&gt; | ScheduledDay &lt;chr&gt; | AppointmentDay &lt;chr&gt; | Age &lt;int&gt; | Neighbourhood &lt;chr&gt; | Scholarship &lt;int&gt; | Hipertension &lt;int&gt; | Diabetes &lt;int&gt; | Alcoholism &lt;int&gt; | Handcap &lt;int&gt; | SMS_received &lt;int&gt; | No.show &lt;chr&gt; |\n|---|---|---|---|---|---|---|---|---|---|---|---|---|---|---|\n| 1 | 2.987250e+13 | 5642903 | F | 2016-04-29T18:38:08Z | 2016-04-29T00:00:00Z | 62 | JARDIM DA PENHA   | 0 | 1 | 0 | 0 | 0 | 0 | No  |\n| 2 | 5.589980e+14 | 5642503 | M | 2016-04-29T16:08:27Z | 2016-04-29T00:00:00Z | 56 | JARDIM DA PENHA   | 0 | 0 | 0 | 0 | 0 | 0 | No  |\n| 3 | 4.262960e+12 | 5642549 | F | 2016-04-29T16:19:04Z | 2016-04-29T00:00:00Z | 62 | MATA DA PRAIA     | 0 | 0 | 0 | 0 | 0 | 0 | No  |\n| 4 | 8.679510e+11 | 5642828 | F | 2016-04-29T17:29:31Z | 2016-04-29T00:00:00Z |  8 | PONTAL DE CAMBURI | 0 | 0 | 0 | 0 | 0 | 0 | No  |\n| 5 | 8.841190e+12 | 5642494 | F | 2016-04-29T16:07:23Z | 2016-04-29T00:00:00Z | 56 | JARDIM DA PENHA   | 0 | 1 | 1 | 0 | 0 | 0 | No  |\n| 6 | 9.598510e+13 | 5626772 | F | 2016-04-27T08:36:51Z | 2016-04-29T00:00:00Z | 76 | REPÚBLICA         | 0 | 1 | 0 | 0 | 0 | 0 | No  |\n| 7 | 7.336880e+14 | 5630279 | F | 2016-04-27T15:05:12Z | 2016-04-29T00:00:00Z | 23 | GOIABEIRAS        | 0 | 0 | 0 | 0 | 0 | 0 | Yes |\n| 8 | 3.449830e+12 | 5630575 | F | 2016-04-27T15:39:58Z | 2016-04-29T00:00:00Z | 39 | GOIABEIRAS        | 0 | 0 | 0 | 0 | 0 | 0 | Yes |\n| 9 | 5.639470e+13 | 5638447 | F | 2016-04-29T08:02:16Z | 2016-04-29T00:00:00Z | 21 | ANDORINHAS        | 0 | 0 | 0 | 0 | 0 | 0 | No  |\n| 10 | 7.812460e+13 | 5629123 | F | 2016-04-27T12:48:25Z | 2016-04-29T00:00:00Z | 19 | CONQUISTA         | 0 | 0 | 0 | 0 | 0 | 0 | No  |\n| 11 | 7.345360e+14 | 5630213 | F | 2016-04-27T14:58:11Z | 2016-04-29T00:00:00Z | 30 | NOVA PALESTINA    | 0 | 0 | 0 | 0 | 0 | 0 | No  |\n| 12 | 7.542950e+12 | 5620163 | M | 2016-04-26T08:44:12Z | 2016-04-29T00:00:00Z | 29 | NOVA PALESTINA    | 0 | 0 | 0 | 0 | 0 | 1 | Yes |\n| 13 | 5.666550e+14 | 5634718 | F | 2016-04-28T11:33:51Z | 2016-04-29T00:00:00Z | 22 | NOVA PALESTINA    | 1 | 0 | 0 | 0 | 0 | 0 | No  |\n| 14 | 9.113950e+14 | 5636249 | M | 2016-04-28T14:52:07Z | 2016-04-29T00:00:00Z | 28 | NOVA PALESTINA    | 0 | 0 | 0 | 0 | 0 | 0 | No  |\n| 16 | 9.994839e+10 | 5620206 | F | 2016-04-26T08:47:27Z | 2016-04-29T00:00:00Z | 15 | NOVA PALESTINA    | 0 | 0 | 0 | 0 | 0 | 1 | No  |\n| 17 | 8.457440e+13 | 5633121 | M | 2016-04-28T08:51:47Z | 2016-04-29T00:00:00Z | 50 | NOVA PALESTINA    | 0 | 0 | 0 | 0 | 0 | 0 | No  |\n| 18 | 1.479500e+13 | 5633460 | F | 2016-04-28T09:28:57Z | 2016-04-29T00:00:00Z | 40 | CONQUISTA         | 1 | 0 | 0 | 0 | 0 | 0 | Yes |\n| 19 | 1.713540e+13 | 5621836 | F | 2016-04-26T10:54:18Z | 2016-04-29T00:00:00Z | 30 | NOVA PALESTINA    | 1 | 0 | 0 | 0 | 0 | 1 | No  |\n| 20 | 7.223290e+12 | 5640433 | F | 2016-04-29T10:43:14Z | 2016-04-29T00:00:00Z | 46 | DA PENHA          | 0 | 0 | 0 | 0 | 0 | 0 | No  |\n| 21 | 6.222570e+14 | 5626083 | F | 2016-04-27T07:51:14Z | 2016-04-29T00:00:00Z | 30 | NOVA PALESTINA    | 0 | 0 | 0 | 0 | 0 | 0 | Yes |\n| 22 | 1.215480e+13 | 5628338 | F | 2016-04-27T10:50:45Z | 2016-04-29T00:00:00Z |  4 | CONQUISTA         | 0 | 0 | 0 | 0 | 0 | 0 | Yes |\n| 23 | 8.632300e+14 | 5616091 | M | 2016-04-25T13:29:16Z | 2016-04-29T00:00:00Z | 13 | CONQUISTA         | 0 | 0 | 0 | 0 | 0 | 1 | Yes |\n| 24 | 2.137540e+14 | 5634142 | F | 2016-04-28T10:27:05Z | 2016-04-29T00:00:00Z | 46 | CONQUISTA         | 0 | 0 | 0 | 0 | 0 | 0 | No  |\n| 25 | 8.734860e+12 | 5641780 | F | 2016-04-29T14:19:19Z | 2016-04-29T00:00:00Z | 65 | TABUAZEIRO        | 0 | 0 | 0 | 0 | 0 | 0 | No  |\n| 26 | 5.819370e+12 | 5624020 | M | 2016-04-26T15:04:17Z | 2016-04-29T00:00:00Z | 46 | CONQUISTA         | 0 | 1 | 0 | 0 | 0 | 1 | No  |\n| 27 | 2.578785e+10 | 5641781 | F | 2016-04-29T14:19:42Z | 2016-04-29T00:00:00Z | 45 | BENTO FERREIRA    | 0 | 1 | 0 | 0 | 0 | 0 | No  |\n| 28 | 1.215480e+13 | 5628345 | F | 2016-04-27T10:51:45Z | 2016-04-29T00:00:00Z |  4 | CONQUISTA         | 0 | 0 | 0 | 0 | 0 | 0 | No  |\n| 29 | 5.926170e+12 | 5642400 | M | 2016-04-29T15:48:02Z | 2016-04-29T00:00:00Z | 51 | SÃO PEDRO         | 0 | 0 | 0 | 0 | 0 | 0 | No  |\n| 31 | 3.428160e+11 | 5628068 | F | 2016-04-27T10:24:52Z | 2016-04-29T00:00:00Z | 46 | NOVA PALESTINA    | 0 | 0 | 0 | 0 | 0 | 0 | No  |\n| 32 | 3.112850e+11 | 5628907 | M | 2016-04-27T12:07:14Z | 2016-04-29T00:00:00Z | 12 | NOVA PALESTINA    | 1 | 0 | 0 | 0 | 0 | 0 | Yes |\n| ⋮ | ⋮ | ⋮ | ⋮ | ⋮ | ⋮ | ⋮ | ⋮ | ⋮ | ⋮ | ⋮ | ⋮ | ⋮ | ⋮ | ⋮ |\n| 110498 | 7.93589e+14 | 5757745 | M | 2016-06-01T09:46:33Z | 2016-06-01T00:00:00Z | 76 | MARIA ORTIZ     | 0 | 0 | 0 | 0 | 0 | 0 | No  |\n| 110499 | 9.43365e+13 | 5787655 | F | 2016-06-08T10:21:14Z | 2016-06-08T00:00:00Z | 59 | MARIA ORTIZ     | 0 | 0 | 0 | 0 | 0 | 0 | No  |\n| 110500 | 8.21969e+14 | 5757697 | F | 2016-06-01T09:42:56Z | 2016-06-01T00:00:00Z | 66 | MARIA ORTIZ     | 0 | 1 | 1 | 0 | 0 | 0 | No  |\n| 110501 | 4.43438e+14 | 5787233 | F | 2016-06-08T09:35:13Z | 2016-06-08T00:00:00Z | 59 | MARIA ORTIZ     | 0 | 0 | 0 | 0 | 0 | 0 | No  |\n| 110502 | 4.54425e+11 | 5758133 | M | 2016-06-01T10:19:12Z | 2016-06-01T00:00:00Z | 44 | MARIA ORTIZ     | 0 | 0 | 0 | 0 | 0 | 0 | No  |\n| 110503 | 7.31623e+14 | 5787937 | F | 2016-06-08T10:50:42Z | 2016-06-08T00:00:00Z | 22 | GOIABEIRAS      | 0 | 0 | 0 | 0 | 0 | 0 | No  |\n| 110504 | 2.36218e+13 | 5759473 | F | 2016-06-01T13:00:36Z | 2016-06-01T00:00:00Z | 64 | SOLON BORGES    | 0 | 0 | 0 | 0 | 0 | 0 | No  |\n| 110505 | 9.94798e+12 | 5788052 | F | 2016-06-08T11:06:21Z | 2016-06-08T00:00:00Z |  4 | MARIA ORTIZ     | 0 | 0 | 0 | 0 | 0 | 0 | No  |\n| 110506 | 5.66734e+13 | 5758455 | F | 2016-06-01T10:45:50Z | 2016-06-01T00:00:00Z | 55 | MARIA ORTIZ     | 0 | 0 | 0 | 0 | 0 | 0 | No  |\n| 110507 | 8.97388e+11 | 5758779 | M | 2016-06-01T11:09:20Z | 2016-06-01T00:00:00Z |  5 | MARIA ORTIZ     | 0 | 0 | 0 | 0 | 0 | 0 | No  |\n| 110508 | 4.76946e+14 | 5786918 | F | 2016-06-08T09:04:18Z | 2016-06-08T00:00:00Z |  0 | MARIA ORTIZ     | 0 | 0 | 0 | 0 | 0 | 0 | No  |\n| 110509 | 9.43365e+13 | 5757656 | F | 2016-06-01T09:41:00Z | 2016-06-01T00:00:00Z | 59 | MARIA ORTIZ     | 0 | 0 | 0 | 0 | 0 | 0 | No  |\n| 110510 | 4.95297e+14 | 5786750 | M | 2016-06-08T08:50:51Z | 2016-06-08T00:00:00Z | 33 | MARIA ORTIZ     | 0 | 0 | 0 | 0 | 0 | 0 | No  |\n| 110511 | 2.36218e+13 | 5757587 | F | 2016-06-01T09:35:48Z | 2016-06-01T00:00:00Z | 64 | SOLON BORGES    | 0 | 0 | 0 | 0 | 0 | 0 | No  |\n| 110512 | 8.23600e+11 | 5786742 | F | 2016-06-08T08:50:20Z | 2016-06-08T00:00:00Z | 14 | MARIA ORTIZ     | 0 | 0 | 0 | 0 | 0 | 0 | No  |\n| 110513 | 9.87625e+13 | 5786368 | F | 2016-06-08T08:20:01Z | 2016-06-08T00:00:00Z | 41 | MARIA ORTIZ     | 0 | 0 | 0 | 0 | 0 | 0 | No  |\n| 110514 | 8.67478e+13 | 5785964 | M | 2016-06-08T07:52:55Z | 2016-06-08T00:00:00Z |  2 | ANTÔNIO HONÓRIO | 0 | 0 | 0 | 0 | 0 | 0 | No  |\n| 110515 | 2.69569e+12 | 5786567 | F | 2016-06-08T08:35:31Z | 2016-06-08T00:00:00Z | 58 | MARIA ORTIZ     | 0 | 0 | 0 | 0 | 0 | 0 | No  |\n| 110516 | 6.45634e+14 | 5778621 | M | 2016-06-06T15:58:05Z | 2016-06-08T00:00:00Z | 33 | MARIA ORTIZ     | 0 | 1 | 0 | 0 | 0 | 0 | Yes |\n| 110517 | 6.92377e+13 | 5780205 | F | 2016-06-07T07:45:16Z | 2016-06-08T00:00:00Z | 37 | MARIA ORTIZ     | 0 | 0 | 0 | 0 | 0 | 0 | Yes |\n| 110518 | 5.57494e+12 | 5780122 | F | 2016-06-07T07:38:34Z | 2016-06-07T00:00:00Z | 19 | MARIA ORTIZ     | 0 | 0 | 0 | 0 | 0 | 0 | No  |\n| 110519 | 7.26331e+13 | 5630375 | F | 2016-04-27T15:15:06Z | 2016-06-07T00:00:00Z | 50 | MARIA ORTIZ     | 0 | 0 | 0 | 0 | 0 | 1 | No  |\n| 110520 | 6.54239e+13 | 5630447 | F | 2016-04-27T15:23:14Z | 2016-06-07T00:00:00Z | 22 | MARIA ORTIZ     | 0 | 0 | 0 | 0 | 0 | 1 | No  |\n| 110521 | 9.96998e+14 | 5650534 | F | 2016-05-03T07:51:47Z | 2016-06-07T00:00:00Z | 42 | MARIA ORTIZ     | 0 | 0 | 0 | 0 | 0 | 1 | No  |\n| 110522 | 3.63553e+13 | 5651072 | F | 2016-05-03T08:23:40Z | 2016-06-07T00:00:00Z | 53 | MARIA ORTIZ     | 0 | 0 | 0 | 0 | 0 | 1 | No  |\n| 110523 | 2.57213e+12 | 5651768 | F | 2016-05-03T09:15:35Z | 2016-06-07T00:00:00Z | 56 | MARIA ORTIZ     | 0 | 0 | 0 | 0 | 0 | 1 | No  |\n| 110524 | 3.59627e+12 | 5650093 | F | 2016-05-03T07:27:33Z | 2016-06-07T00:00:00Z | 51 | MARIA ORTIZ     | 0 | 0 | 0 | 0 | 0 | 1 | No  |\n| 110525 | 1.55766e+13 | 5630692 | F | 2016-04-27T16:03:52Z | 2016-06-07T00:00:00Z | 21 | MARIA ORTIZ     | 0 | 0 | 0 | 0 | 0 | 1 | No  |\n| 110526 | 9.21349e+13 | 5630323 | F | 2016-04-27T15:09:23Z | 2016-06-07T00:00:00Z | 38 | MARIA ORTIZ     | 0 | 0 | 0 | 0 | 0 | 1 | No  |\n| 110527 | 3.77512e+14 | 5629448 | F | 2016-04-27T13:30:56Z | 2016-06-07T00:00:00Z | 54 | MARIA ORTIZ     | 0 | 0 | 0 | 0 | 0 | 1 | No  |\n\n",
            "text/latex": "A data.frame: 110523 × 14\n\\begin{tabular}{r|llllllllllllll}\n  & PatientId & AppointmentID & Gender & ScheduledDay & AppointmentDay & Age & Neighbourhood & Scholarship & Hipertension & Diabetes & Alcoholism & Handcap & SMS\\_received & No.show\\\\\n  & <dbl> & <int> & <chr> & <chr> & <chr> & <int> & <chr> & <int> & <int> & <int> & <int> & <int> & <int> & <chr>\\\\\n\\hline\n\t1 & 2.987250e+13 & 5642903 & F & 2016-04-29T18:38:08Z & 2016-04-29T00:00:00Z & 62 & JARDIM DA PENHA   & 0 & 1 & 0 & 0 & 0 & 0 & No \\\\\n\t2 & 5.589980e+14 & 5642503 & M & 2016-04-29T16:08:27Z & 2016-04-29T00:00:00Z & 56 & JARDIM DA PENHA   & 0 & 0 & 0 & 0 & 0 & 0 & No \\\\\n\t3 & 4.262960e+12 & 5642549 & F & 2016-04-29T16:19:04Z & 2016-04-29T00:00:00Z & 62 & MATA DA PRAIA     & 0 & 0 & 0 & 0 & 0 & 0 & No \\\\\n\t4 & 8.679510e+11 & 5642828 & F & 2016-04-29T17:29:31Z & 2016-04-29T00:00:00Z &  8 & PONTAL DE CAMBURI & 0 & 0 & 0 & 0 & 0 & 0 & No \\\\\n\t5 & 8.841190e+12 & 5642494 & F & 2016-04-29T16:07:23Z & 2016-04-29T00:00:00Z & 56 & JARDIM DA PENHA   & 0 & 1 & 1 & 0 & 0 & 0 & No \\\\\n\t6 & 9.598510e+13 & 5626772 & F & 2016-04-27T08:36:51Z & 2016-04-29T00:00:00Z & 76 & REPÚBLICA         & 0 & 1 & 0 & 0 & 0 & 0 & No \\\\\n\t7 & 7.336880e+14 & 5630279 & F & 2016-04-27T15:05:12Z & 2016-04-29T00:00:00Z & 23 & GOIABEIRAS        & 0 & 0 & 0 & 0 & 0 & 0 & Yes\\\\\n\t8 & 3.449830e+12 & 5630575 & F & 2016-04-27T15:39:58Z & 2016-04-29T00:00:00Z & 39 & GOIABEIRAS        & 0 & 0 & 0 & 0 & 0 & 0 & Yes\\\\\n\t9 & 5.639470e+13 & 5638447 & F & 2016-04-29T08:02:16Z & 2016-04-29T00:00:00Z & 21 & ANDORINHAS        & 0 & 0 & 0 & 0 & 0 & 0 & No \\\\\n\t10 & 7.812460e+13 & 5629123 & F & 2016-04-27T12:48:25Z & 2016-04-29T00:00:00Z & 19 & CONQUISTA         & 0 & 0 & 0 & 0 & 0 & 0 & No \\\\\n\t11 & 7.345360e+14 & 5630213 & F & 2016-04-27T14:58:11Z & 2016-04-29T00:00:00Z & 30 & NOVA PALESTINA    & 0 & 0 & 0 & 0 & 0 & 0 & No \\\\\n\t12 & 7.542950e+12 & 5620163 & M & 2016-04-26T08:44:12Z & 2016-04-29T00:00:00Z & 29 & NOVA PALESTINA    & 0 & 0 & 0 & 0 & 0 & 1 & Yes\\\\\n\t13 & 5.666550e+14 & 5634718 & F & 2016-04-28T11:33:51Z & 2016-04-29T00:00:00Z & 22 & NOVA PALESTINA    & 1 & 0 & 0 & 0 & 0 & 0 & No \\\\\n\t14 & 9.113950e+14 & 5636249 & M & 2016-04-28T14:52:07Z & 2016-04-29T00:00:00Z & 28 & NOVA PALESTINA    & 0 & 0 & 0 & 0 & 0 & 0 & No \\\\\n\t16 & 9.994839e+10 & 5620206 & F & 2016-04-26T08:47:27Z & 2016-04-29T00:00:00Z & 15 & NOVA PALESTINA    & 0 & 0 & 0 & 0 & 0 & 1 & No \\\\\n\t17 & 8.457440e+13 & 5633121 & M & 2016-04-28T08:51:47Z & 2016-04-29T00:00:00Z & 50 & NOVA PALESTINA    & 0 & 0 & 0 & 0 & 0 & 0 & No \\\\\n\t18 & 1.479500e+13 & 5633460 & F & 2016-04-28T09:28:57Z & 2016-04-29T00:00:00Z & 40 & CONQUISTA         & 1 & 0 & 0 & 0 & 0 & 0 & Yes\\\\\n\t19 & 1.713540e+13 & 5621836 & F & 2016-04-26T10:54:18Z & 2016-04-29T00:00:00Z & 30 & NOVA PALESTINA    & 1 & 0 & 0 & 0 & 0 & 1 & No \\\\\n\t20 & 7.223290e+12 & 5640433 & F & 2016-04-29T10:43:14Z & 2016-04-29T00:00:00Z & 46 & DA PENHA          & 0 & 0 & 0 & 0 & 0 & 0 & No \\\\\n\t21 & 6.222570e+14 & 5626083 & F & 2016-04-27T07:51:14Z & 2016-04-29T00:00:00Z & 30 & NOVA PALESTINA    & 0 & 0 & 0 & 0 & 0 & 0 & Yes\\\\\n\t22 & 1.215480e+13 & 5628338 & F & 2016-04-27T10:50:45Z & 2016-04-29T00:00:00Z &  4 & CONQUISTA         & 0 & 0 & 0 & 0 & 0 & 0 & Yes\\\\\n\t23 & 8.632300e+14 & 5616091 & M & 2016-04-25T13:29:16Z & 2016-04-29T00:00:00Z & 13 & CONQUISTA         & 0 & 0 & 0 & 0 & 0 & 1 & Yes\\\\\n\t24 & 2.137540e+14 & 5634142 & F & 2016-04-28T10:27:05Z & 2016-04-29T00:00:00Z & 46 & CONQUISTA         & 0 & 0 & 0 & 0 & 0 & 0 & No \\\\\n\t25 & 8.734860e+12 & 5641780 & F & 2016-04-29T14:19:19Z & 2016-04-29T00:00:00Z & 65 & TABUAZEIRO        & 0 & 0 & 0 & 0 & 0 & 0 & No \\\\\n\t26 & 5.819370e+12 & 5624020 & M & 2016-04-26T15:04:17Z & 2016-04-29T00:00:00Z & 46 & CONQUISTA         & 0 & 1 & 0 & 0 & 0 & 1 & No \\\\\n\t27 & 2.578785e+10 & 5641781 & F & 2016-04-29T14:19:42Z & 2016-04-29T00:00:00Z & 45 & BENTO FERREIRA    & 0 & 1 & 0 & 0 & 0 & 0 & No \\\\\n\t28 & 1.215480e+13 & 5628345 & F & 2016-04-27T10:51:45Z & 2016-04-29T00:00:00Z &  4 & CONQUISTA         & 0 & 0 & 0 & 0 & 0 & 0 & No \\\\\n\t29 & 5.926170e+12 & 5642400 & M & 2016-04-29T15:48:02Z & 2016-04-29T00:00:00Z & 51 & SÃO PEDRO         & 0 & 0 & 0 & 0 & 0 & 0 & No \\\\\n\t31 & 3.428160e+11 & 5628068 & F & 2016-04-27T10:24:52Z & 2016-04-29T00:00:00Z & 46 & NOVA PALESTINA    & 0 & 0 & 0 & 0 & 0 & 0 & No \\\\\n\t32 & 3.112850e+11 & 5628907 & M & 2016-04-27T12:07:14Z & 2016-04-29T00:00:00Z & 12 & NOVA PALESTINA    & 1 & 0 & 0 & 0 & 0 & 0 & Yes\\\\\n\t⋮ & ⋮ & ⋮ & ⋮ & ⋮ & ⋮ & ⋮ & ⋮ & ⋮ & ⋮ & ⋮ & ⋮ & ⋮ & ⋮ & ⋮\\\\\n\t110498 & 7.93589e+14 & 5757745 & M & 2016-06-01T09:46:33Z & 2016-06-01T00:00:00Z & 76 & MARIA ORTIZ     & 0 & 0 & 0 & 0 & 0 & 0 & No \\\\\n\t110499 & 9.43365e+13 & 5787655 & F & 2016-06-08T10:21:14Z & 2016-06-08T00:00:00Z & 59 & MARIA ORTIZ     & 0 & 0 & 0 & 0 & 0 & 0 & No \\\\\n\t110500 & 8.21969e+14 & 5757697 & F & 2016-06-01T09:42:56Z & 2016-06-01T00:00:00Z & 66 & MARIA ORTIZ     & 0 & 1 & 1 & 0 & 0 & 0 & No \\\\\n\t110501 & 4.43438e+14 & 5787233 & F & 2016-06-08T09:35:13Z & 2016-06-08T00:00:00Z & 59 & MARIA ORTIZ     & 0 & 0 & 0 & 0 & 0 & 0 & No \\\\\n\t110502 & 4.54425e+11 & 5758133 & M & 2016-06-01T10:19:12Z & 2016-06-01T00:00:00Z & 44 & MARIA ORTIZ     & 0 & 0 & 0 & 0 & 0 & 0 & No \\\\\n\t110503 & 7.31623e+14 & 5787937 & F & 2016-06-08T10:50:42Z & 2016-06-08T00:00:00Z & 22 & GOIABEIRAS      & 0 & 0 & 0 & 0 & 0 & 0 & No \\\\\n\t110504 & 2.36218e+13 & 5759473 & F & 2016-06-01T13:00:36Z & 2016-06-01T00:00:00Z & 64 & SOLON BORGES    & 0 & 0 & 0 & 0 & 0 & 0 & No \\\\\n\t110505 & 9.94798e+12 & 5788052 & F & 2016-06-08T11:06:21Z & 2016-06-08T00:00:00Z &  4 & MARIA ORTIZ     & 0 & 0 & 0 & 0 & 0 & 0 & No \\\\\n\t110506 & 5.66734e+13 & 5758455 & F & 2016-06-01T10:45:50Z & 2016-06-01T00:00:00Z & 55 & MARIA ORTIZ     & 0 & 0 & 0 & 0 & 0 & 0 & No \\\\\n\t110507 & 8.97388e+11 & 5758779 & M & 2016-06-01T11:09:20Z & 2016-06-01T00:00:00Z &  5 & MARIA ORTIZ     & 0 & 0 & 0 & 0 & 0 & 0 & No \\\\\n\t110508 & 4.76946e+14 & 5786918 & F & 2016-06-08T09:04:18Z & 2016-06-08T00:00:00Z &  0 & MARIA ORTIZ     & 0 & 0 & 0 & 0 & 0 & 0 & No \\\\\n\t110509 & 9.43365e+13 & 5757656 & F & 2016-06-01T09:41:00Z & 2016-06-01T00:00:00Z & 59 & MARIA ORTIZ     & 0 & 0 & 0 & 0 & 0 & 0 & No \\\\\n\t110510 & 4.95297e+14 & 5786750 & M & 2016-06-08T08:50:51Z & 2016-06-08T00:00:00Z & 33 & MARIA ORTIZ     & 0 & 0 & 0 & 0 & 0 & 0 & No \\\\\n\t110511 & 2.36218e+13 & 5757587 & F & 2016-06-01T09:35:48Z & 2016-06-01T00:00:00Z & 64 & SOLON BORGES    & 0 & 0 & 0 & 0 & 0 & 0 & No \\\\\n\t110512 & 8.23600e+11 & 5786742 & F & 2016-06-08T08:50:20Z & 2016-06-08T00:00:00Z & 14 & MARIA ORTIZ     & 0 & 0 & 0 & 0 & 0 & 0 & No \\\\\n\t110513 & 9.87625e+13 & 5786368 & F & 2016-06-08T08:20:01Z & 2016-06-08T00:00:00Z & 41 & MARIA ORTIZ     & 0 & 0 & 0 & 0 & 0 & 0 & No \\\\\n\t110514 & 8.67478e+13 & 5785964 & M & 2016-06-08T07:52:55Z & 2016-06-08T00:00:00Z &  2 & ANTÔNIO HONÓRIO & 0 & 0 & 0 & 0 & 0 & 0 & No \\\\\n\t110515 & 2.69569e+12 & 5786567 & F & 2016-06-08T08:35:31Z & 2016-06-08T00:00:00Z & 58 & MARIA ORTIZ     & 0 & 0 & 0 & 0 & 0 & 0 & No \\\\\n\t110516 & 6.45634e+14 & 5778621 & M & 2016-06-06T15:58:05Z & 2016-06-08T00:00:00Z & 33 & MARIA ORTIZ     & 0 & 1 & 0 & 0 & 0 & 0 & Yes\\\\\n\t110517 & 6.92377e+13 & 5780205 & F & 2016-06-07T07:45:16Z & 2016-06-08T00:00:00Z & 37 & MARIA ORTIZ     & 0 & 0 & 0 & 0 & 0 & 0 & Yes\\\\\n\t110518 & 5.57494e+12 & 5780122 & F & 2016-06-07T07:38:34Z & 2016-06-07T00:00:00Z & 19 & MARIA ORTIZ     & 0 & 0 & 0 & 0 & 0 & 0 & No \\\\\n\t110519 & 7.26331e+13 & 5630375 & F & 2016-04-27T15:15:06Z & 2016-06-07T00:00:00Z & 50 & MARIA ORTIZ     & 0 & 0 & 0 & 0 & 0 & 1 & No \\\\\n\t110520 & 6.54239e+13 & 5630447 & F & 2016-04-27T15:23:14Z & 2016-06-07T00:00:00Z & 22 & MARIA ORTIZ     & 0 & 0 & 0 & 0 & 0 & 1 & No \\\\\n\t110521 & 9.96998e+14 & 5650534 & F & 2016-05-03T07:51:47Z & 2016-06-07T00:00:00Z & 42 & MARIA ORTIZ     & 0 & 0 & 0 & 0 & 0 & 1 & No \\\\\n\t110522 & 3.63553e+13 & 5651072 & F & 2016-05-03T08:23:40Z & 2016-06-07T00:00:00Z & 53 & MARIA ORTIZ     & 0 & 0 & 0 & 0 & 0 & 1 & No \\\\\n\t110523 & 2.57213e+12 & 5651768 & F & 2016-05-03T09:15:35Z & 2016-06-07T00:00:00Z & 56 & MARIA ORTIZ     & 0 & 0 & 0 & 0 & 0 & 1 & No \\\\\n\t110524 & 3.59627e+12 & 5650093 & F & 2016-05-03T07:27:33Z & 2016-06-07T00:00:00Z & 51 & MARIA ORTIZ     & 0 & 0 & 0 & 0 & 0 & 1 & No \\\\\n\t110525 & 1.55766e+13 & 5630692 & F & 2016-04-27T16:03:52Z & 2016-06-07T00:00:00Z & 21 & MARIA ORTIZ     & 0 & 0 & 0 & 0 & 0 & 1 & No \\\\\n\t110526 & 9.21349e+13 & 5630323 & F & 2016-04-27T15:09:23Z & 2016-06-07T00:00:00Z & 38 & MARIA ORTIZ     & 0 & 0 & 0 & 0 & 0 & 1 & No \\\\\n\t110527 & 3.77512e+14 & 5629448 & F & 2016-04-27T13:30:56Z & 2016-06-07T00:00:00Z & 54 & MARIA ORTIZ     & 0 & 0 & 0 & 0 & 0 & 1 & No \\\\\n\\end{tabular}\n",
            "text/plain": [
              "       PatientId    AppointmentID Gender ScheduledDay        \n",
              "1      2.987250e+13 5642903       F      2016-04-29T18:38:08Z\n",
              "2      5.589980e+14 5642503       M      2016-04-29T16:08:27Z\n",
              "3      4.262960e+12 5642549       F      2016-04-29T16:19:04Z\n",
              "4      8.679510e+11 5642828       F      2016-04-29T17:29:31Z\n",
              "5      8.841190e+12 5642494       F      2016-04-29T16:07:23Z\n",
              "6      9.598510e+13 5626772       F      2016-04-27T08:36:51Z\n",
              "7      7.336880e+14 5630279       F      2016-04-27T15:05:12Z\n",
              "8      3.449830e+12 5630575       F      2016-04-27T15:39:58Z\n",
              "9      5.639470e+13 5638447       F      2016-04-29T08:02:16Z\n",
              "10     7.812460e+13 5629123       F      2016-04-27T12:48:25Z\n",
              "11     7.345360e+14 5630213       F      2016-04-27T14:58:11Z\n",
              "12     7.542950e+12 5620163       M      2016-04-26T08:44:12Z\n",
              "13     5.666550e+14 5634718       F      2016-04-28T11:33:51Z\n",
              "14     9.113950e+14 5636249       M      2016-04-28T14:52:07Z\n",
              "16     9.994839e+10 5620206       F      2016-04-26T08:47:27Z\n",
              "17     8.457440e+13 5633121       M      2016-04-28T08:51:47Z\n",
              "18     1.479500e+13 5633460       F      2016-04-28T09:28:57Z\n",
              "19     1.713540e+13 5621836       F      2016-04-26T10:54:18Z\n",
              "20     7.223290e+12 5640433       F      2016-04-29T10:43:14Z\n",
              "21     6.222570e+14 5626083       F      2016-04-27T07:51:14Z\n",
              "22     1.215480e+13 5628338       F      2016-04-27T10:50:45Z\n",
              "23     8.632300e+14 5616091       M      2016-04-25T13:29:16Z\n",
              "24     2.137540e+14 5634142       F      2016-04-28T10:27:05Z\n",
              "25     8.734860e+12 5641780       F      2016-04-29T14:19:19Z\n",
              "26     5.819370e+12 5624020       M      2016-04-26T15:04:17Z\n",
              "27     2.578785e+10 5641781       F      2016-04-29T14:19:42Z\n",
              "28     1.215480e+13 5628345       F      2016-04-27T10:51:45Z\n",
              "29     5.926170e+12 5642400       M      2016-04-29T15:48:02Z\n",
              "31     3.428160e+11 5628068       F      2016-04-27T10:24:52Z\n",
              "32     3.112850e+11 5628907       M      2016-04-27T12:07:14Z\n",
              "⋮      ⋮            ⋮             ⋮      ⋮                   \n",
              "110498 7.93589e+14  5757745       M      2016-06-01T09:46:33Z\n",
              "110499 9.43365e+13  5787655       F      2016-06-08T10:21:14Z\n",
              "110500 8.21969e+14  5757697       F      2016-06-01T09:42:56Z\n",
              "110501 4.43438e+14  5787233       F      2016-06-08T09:35:13Z\n",
              "110502 4.54425e+11  5758133       M      2016-06-01T10:19:12Z\n",
              "110503 7.31623e+14  5787937       F      2016-06-08T10:50:42Z\n",
              "110504 2.36218e+13  5759473       F      2016-06-01T13:00:36Z\n",
              "110505 9.94798e+12  5788052       F      2016-06-08T11:06:21Z\n",
              "110506 5.66734e+13  5758455       F      2016-06-01T10:45:50Z\n",
              "110507 8.97388e+11  5758779       M      2016-06-01T11:09:20Z\n",
              "110508 4.76946e+14  5786918       F      2016-06-08T09:04:18Z\n",
              "110509 9.43365e+13  5757656       F      2016-06-01T09:41:00Z\n",
              "110510 4.95297e+14  5786750       M      2016-06-08T08:50:51Z\n",
              "110511 2.36218e+13  5757587       F      2016-06-01T09:35:48Z\n",
              "110512 8.23600e+11  5786742       F      2016-06-08T08:50:20Z\n",
              "110513 9.87625e+13  5786368       F      2016-06-08T08:20:01Z\n",
              "110514 8.67478e+13  5785964       M      2016-06-08T07:52:55Z\n",
              "110515 2.69569e+12  5786567       F      2016-06-08T08:35:31Z\n",
              "110516 6.45634e+14  5778621       M      2016-06-06T15:58:05Z\n",
              "110517 6.92377e+13  5780205       F      2016-06-07T07:45:16Z\n",
              "110518 5.57494e+12  5780122       F      2016-06-07T07:38:34Z\n",
              "110519 7.26331e+13  5630375       F      2016-04-27T15:15:06Z\n",
              "110520 6.54239e+13  5630447       F      2016-04-27T15:23:14Z\n",
              "110521 9.96998e+14  5650534       F      2016-05-03T07:51:47Z\n",
              "110522 3.63553e+13  5651072       F      2016-05-03T08:23:40Z\n",
              "110523 2.57213e+12  5651768       F      2016-05-03T09:15:35Z\n",
              "110524 3.59627e+12  5650093       F      2016-05-03T07:27:33Z\n",
              "110525 1.55766e+13  5630692       F      2016-04-27T16:03:52Z\n",
              "110526 9.21349e+13  5630323       F      2016-04-27T15:09:23Z\n",
              "110527 3.77512e+14  5629448       F      2016-04-27T13:30:56Z\n",
              "       AppointmentDay       Age Neighbourhood     Scholarship Hipertension\n",
              "1      2016-04-29T00:00:00Z 62  JARDIM DA PENHA   0           1           \n",
              "2      2016-04-29T00:00:00Z 56  JARDIM DA PENHA   0           0           \n",
              "3      2016-04-29T00:00:00Z 62  MATA DA PRAIA     0           0           \n",
              "4      2016-04-29T00:00:00Z  8  PONTAL DE CAMBURI 0           0           \n",
              "5      2016-04-29T00:00:00Z 56  JARDIM DA PENHA   0           1           \n",
              "6      2016-04-29T00:00:00Z 76  REPÚBLICA         0           1           \n",
              "7      2016-04-29T00:00:00Z 23  GOIABEIRAS        0           0           \n",
              "8      2016-04-29T00:00:00Z 39  GOIABEIRAS        0           0           \n",
              "9      2016-04-29T00:00:00Z 21  ANDORINHAS        0           0           \n",
              "10     2016-04-29T00:00:00Z 19  CONQUISTA         0           0           \n",
              "11     2016-04-29T00:00:00Z 30  NOVA PALESTINA    0           0           \n",
              "12     2016-04-29T00:00:00Z 29  NOVA PALESTINA    0           0           \n",
              "13     2016-04-29T00:00:00Z 22  NOVA PALESTINA    1           0           \n",
              "14     2016-04-29T00:00:00Z 28  NOVA PALESTINA    0           0           \n",
              "16     2016-04-29T00:00:00Z 15  NOVA PALESTINA    0           0           \n",
              "17     2016-04-29T00:00:00Z 50  NOVA PALESTINA    0           0           \n",
              "18     2016-04-29T00:00:00Z 40  CONQUISTA         1           0           \n",
              "19     2016-04-29T00:00:00Z 30  NOVA PALESTINA    1           0           \n",
              "20     2016-04-29T00:00:00Z 46  DA PENHA          0           0           \n",
              "21     2016-04-29T00:00:00Z 30  NOVA PALESTINA    0           0           \n",
              "22     2016-04-29T00:00:00Z  4  CONQUISTA         0           0           \n",
              "23     2016-04-29T00:00:00Z 13  CONQUISTA         0           0           \n",
              "24     2016-04-29T00:00:00Z 46  CONQUISTA         0           0           \n",
              "25     2016-04-29T00:00:00Z 65  TABUAZEIRO        0           0           \n",
              "26     2016-04-29T00:00:00Z 46  CONQUISTA         0           1           \n",
              "27     2016-04-29T00:00:00Z 45  BENTO FERREIRA    0           1           \n",
              "28     2016-04-29T00:00:00Z  4  CONQUISTA         0           0           \n",
              "29     2016-04-29T00:00:00Z 51  SÃO PEDRO         0           0           \n",
              "31     2016-04-29T00:00:00Z 46  NOVA PALESTINA    0           0           \n",
              "32     2016-04-29T00:00:00Z 12  NOVA PALESTINA    1           0           \n",
              "⋮      ⋮                    ⋮   ⋮                 ⋮           ⋮           \n",
              "110498 2016-06-01T00:00:00Z 76  MARIA ORTIZ       0           0           \n",
              "110499 2016-06-08T00:00:00Z 59  MARIA ORTIZ       0           0           \n",
              "110500 2016-06-01T00:00:00Z 66  MARIA ORTIZ       0           1           \n",
              "110501 2016-06-08T00:00:00Z 59  MARIA ORTIZ       0           0           \n",
              "110502 2016-06-01T00:00:00Z 44  MARIA ORTIZ       0           0           \n",
              "110503 2016-06-08T00:00:00Z 22  GOIABEIRAS        0           0           \n",
              "110504 2016-06-01T00:00:00Z 64  SOLON BORGES      0           0           \n",
              "110505 2016-06-08T00:00:00Z  4  MARIA ORTIZ       0           0           \n",
              "110506 2016-06-01T00:00:00Z 55  MARIA ORTIZ       0           0           \n",
              "110507 2016-06-01T00:00:00Z  5  MARIA ORTIZ       0           0           \n",
              "110508 2016-06-08T00:00:00Z  0  MARIA ORTIZ       0           0           \n",
              "110509 2016-06-01T00:00:00Z 59  MARIA ORTIZ       0           0           \n",
              "110510 2016-06-08T00:00:00Z 33  MARIA ORTIZ       0           0           \n",
              "110511 2016-06-01T00:00:00Z 64  SOLON BORGES      0           0           \n",
              "110512 2016-06-08T00:00:00Z 14  MARIA ORTIZ       0           0           \n",
              "110513 2016-06-08T00:00:00Z 41  MARIA ORTIZ       0           0           \n",
              "110514 2016-06-08T00:00:00Z  2  ANTÔNIO HONÓRIO   0           0           \n",
              "110515 2016-06-08T00:00:00Z 58  MARIA ORTIZ       0           0           \n",
              "110516 2016-06-08T00:00:00Z 33  MARIA ORTIZ       0           1           \n",
              "110517 2016-06-08T00:00:00Z 37  MARIA ORTIZ       0           0           \n",
              "110518 2016-06-07T00:00:00Z 19  MARIA ORTIZ       0           0           \n",
              "110519 2016-06-07T00:00:00Z 50  MARIA ORTIZ       0           0           \n",
              "110520 2016-06-07T00:00:00Z 22  MARIA ORTIZ       0           0           \n",
              "110521 2016-06-07T00:00:00Z 42  MARIA ORTIZ       0           0           \n",
              "110522 2016-06-07T00:00:00Z 53  MARIA ORTIZ       0           0           \n",
              "110523 2016-06-07T00:00:00Z 56  MARIA ORTIZ       0           0           \n",
              "110524 2016-06-07T00:00:00Z 51  MARIA ORTIZ       0           0           \n",
              "110525 2016-06-07T00:00:00Z 21  MARIA ORTIZ       0           0           \n",
              "110526 2016-06-07T00:00:00Z 38  MARIA ORTIZ       0           0           \n",
              "110527 2016-06-07T00:00:00Z 54  MARIA ORTIZ       0           0           \n",
              "       Diabetes Alcoholism Handcap SMS_received No.show\n",
              "1      0        0          0       0            No     \n",
              "2      0        0          0       0            No     \n",
              "3      0        0          0       0            No     \n",
              "4      0        0          0       0            No     \n",
              "5      1        0          0       0            No     \n",
              "6      0        0          0       0            No     \n",
              "7      0        0          0       0            Yes    \n",
              "8      0        0          0       0            Yes    \n",
              "9      0        0          0       0            No     \n",
              "10     0        0          0       0            No     \n",
              "11     0        0          0       0            No     \n",
              "12     0        0          0       1            Yes    \n",
              "13     0        0          0       0            No     \n",
              "14     0        0          0       0            No     \n",
              "16     0        0          0       1            No     \n",
              "17     0        0          0       0            No     \n",
              "18     0        0          0       0            Yes    \n",
              "19     0        0          0       1            No     \n",
              "20     0        0          0       0            No     \n",
              "21     0        0          0       0            Yes    \n",
              "22     0        0          0       0            Yes    \n",
              "23     0        0          0       1            Yes    \n",
              "24     0        0          0       0            No     \n",
              "25     0        0          0       0            No     \n",
              "26     0        0          0       1            No     \n",
              "27     0        0          0       0            No     \n",
              "28     0        0          0       0            No     \n",
              "29     0        0          0       0            No     \n",
              "31     0        0          0       0            No     \n",
              "32     0        0          0       0            Yes    \n",
              "⋮      ⋮        ⋮          ⋮       ⋮            ⋮      \n",
              "110498 0        0          0       0            No     \n",
              "110499 0        0          0       0            No     \n",
              "110500 1        0          0       0            No     \n",
              "110501 0        0          0       0            No     \n",
              "110502 0        0          0       0            No     \n",
              "110503 0        0          0       0            No     \n",
              "110504 0        0          0       0            No     \n",
              "110505 0        0          0       0            No     \n",
              "110506 0        0          0       0            No     \n",
              "110507 0        0          0       0            No     \n",
              "110508 0        0          0       0            No     \n",
              "110509 0        0          0       0            No     \n",
              "110510 0        0          0       0            No     \n",
              "110511 0        0          0       0            No     \n",
              "110512 0        0          0       0            No     \n",
              "110513 0        0          0       0            No     \n",
              "110514 0        0          0       0            No     \n",
              "110515 0        0          0       0            No     \n",
              "110516 0        0          0       0            Yes    \n",
              "110517 0        0          0       0            Yes    \n",
              "110518 0        0          0       0            No     \n",
              "110519 0        0          0       1            No     \n",
              "110520 0        0          0       1            No     \n",
              "110521 0        0          0       1            No     \n",
              "110522 0        0          0       1            No     \n",
              "110523 0        0          0       1            No     \n",
              "110524 0        0          0       1            No     \n",
              "110525 0        0          0       1            No     \n",
              "110526 0        0          0       1            No     \n",
              "110527 0        0          0       1            No     "
            ]
          },
          "metadata": {}
        }
      ],
      "source": [
        "#3\n",
        "neg_age<-sum(data_after_null$Age<0)\n",
        "neg_age\n",
        "data_after_null<-data_after_null[data_after_null$Age>=0,]\n",
        "data_after_null"
      ]
    },
    {
      "cell_type": "code",
      "execution_count": 122,
      "metadata": {
        "colab": {
          "base_uri": "https://localhost:8080/",
          "height": 1000
        },
        "id": "ZqXOXVoHBko2",
        "outputId": "36f6501d-4612-4eae-ac66-9a98254b803a"
      },
      "outputs": [
        {
          "output_type": "display_data",
          "data": {
            "text/html": [
              "<table class=\"dataframe\">\n",
              "<caption>A data.frame: 110523 × 15</caption>\n",
              "<thead>\n",
              "\t<tr><th></th><th scope=col>PatientId</th><th scope=col>AppointmentID</th><th scope=col>Gender</th><th scope=col>ScheduledDay</th><th scope=col>AppointmentDay</th><th scope=col>Age</th><th scope=col>Neighbourhood</th><th scope=col>Scholarship</th><th scope=col>Hipertension</th><th scope=col>Diabetes</th><th scope=col>Alcoholism</th><th scope=col>Handcap</th><th scope=col>SMS_received</th><th scope=col>No.show</th><th scope=col>AwaitingTime</th></tr>\n",
              "\t<tr><th></th><th scope=col>&lt;dbl&gt;</th><th scope=col>&lt;int&gt;</th><th scope=col>&lt;chr&gt;</th><th scope=col>&lt;chr&gt;</th><th scope=col>&lt;chr&gt;</th><th scope=col>&lt;int&gt;</th><th scope=col>&lt;chr&gt;</th><th scope=col>&lt;int&gt;</th><th scope=col>&lt;int&gt;</th><th scope=col>&lt;int&gt;</th><th scope=col>&lt;int&gt;</th><th scope=col>&lt;int&gt;</th><th scope=col>&lt;int&gt;</th><th scope=col>&lt;chr&gt;</th><th scope=col>&lt;dbl&gt;</th></tr>\n",
              "</thead>\n",
              "<tbody>\n",
              "\t<tr><th scope=row>1</th><td>2.987250e+13</td><td>5642903</td><td>F</td><td>2016-04-29T18:38:08Z</td><td>2016-04-29T00:00:00Z</td><td>62</td><td>JARDIM DA PENHA  </td><td>0</td><td>1</td><td>0</td><td>0</td><td>0</td><td>0</td><td>No </td><td>0</td></tr>\n",
              "\t<tr><th scope=row>2</th><td>5.589980e+14</td><td>5642503</td><td>M</td><td>2016-04-29T16:08:27Z</td><td>2016-04-29T00:00:00Z</td><td>56</td><td>JARDIM DA PENHA  </td><td>0</td><td>0</td><td>0</td><td>0</td><td>0</td><td>0</td><td>No </td><td>0</td></tr>\n",
              "\t<tr><th scope=row>3</th><td>4.262960e+12</td><td>5642549</td><td>F</td><td>2016-04-29T16:19:04Z</td><td>2016-04-29T00:00:00Z</td><td>62</td><td>MATA DA PRAIA    </td><td>0</td><td>0</td><td>0</td><td>0</td><td>0</td><td>0</td><td>No </td><td>0</td></tr>\n",
              "\t<tr><th scope=row>4</th><td>8.679510e+11</td><td>5642828</td><td>F</td><td>2016-04-29T17:29:31Z</td><td>2016-04-29T00:00:00Z</td><td> 8</td><td>PONTAL DE CAMBURI</td><td>0</td><td>0</td><td>0</td><td>0</td><td>0</td><td>0</td><td>No </td><td>0</td></tr>\n",
              "\t<tr><th scope=row>5</th><td>8.841190e+12</td><td>5642494</td><td>F</td><td>2016-04-29T16:07:23Z</td><td>2016-04-29T00:00:00Z</td><td>56</td><td>JARDIM DA PENHA  </td><td>0</td><td>1</td><td>1</td><td>0</td><td>0</td><td>0</td><td>No </td><td>0</td></tr>\n",
              "\t<tr><th scope=row>6</th><td>9.598510e+13</td><td>5626772</td><td>F</td><td>2016-04-27T08:36:51Z</td><td>2016-04-29T00:00:00Z</td><td>76</td><td>REPÚBLICA        </td><td>0</td><td>1</td><td>0</td><td>0</td><td>0</td><td>0</td><td>No </td><td>2</td></tr>\n",
              "\t<tr><th scope=row>7</th><td>7.336880e+14</td><td>5630279</td><td>F</td><td>2016-04-27T15:05:12Z</td><td>2016-04-29T00:00:00Z</td><td>23</td><td>GOIABEIRAS       </td><td>0</td><td>0</td><td>0</td><td>0</td><td>0</td><td>0</td><td>Yes</td><td>2</td></tr>\n",
              "\t<tr><th scope=row>8</th><td>3.449830e+12</td><td>5630575</td><td>F</td><td>2016-04-27T15:39:58Z</td><td>2016-04-29T00:00:00Z</td><td>39</td><td>GOIABEIRAS       </td><td>0</td><td>0</td><td>0</td><td>0</td><td>0</td><td>0</td><td>Yes</td><td>2</td></tr>\n",
              "\t<tr><th scope=row>9</th><td>5.639470e+13</td><td>5638447</td><td>F</td><td>2016-04-29T08:02:16Z</td><td>2016-04-29T00:00:00Z</td><td>21</td><td>ANDORINHAS       </td><td>0</td><td>0</td><td>0</td><td>0</td><td>0</td><td>0</td><td>No </td><td>0</td></tr>\n",
              "\t<tr><th scope=row>10</th><td>7.812460e+13</td><td>5629123</td><td>F</td><td>2016-04-27T12:48:25Z</td><td>2016-04-29T00:00:00Z</td><td>19</td><td>CONQUISTA        </td><td>0</td><td>0</td><td>0</td><td>0</td><td>0</td><td>0</td><td>No </td><td>2</td></tr>\n",
              "\t<tr><th scope=row>11</th><td>7.345360e+14</td><td>5630213</td><td>F</td><td>2016-04-27T14:58:11Z</td><td>2016-04-29T00:00:00Z</td><td>30</td><td>NOVA PALESTINA   </td><td>0</td><td>0</td><td>0</td><td>0</td><td>0</td><td>0</td><td>No </td><td>2</td></tr>\n",
              "\t<tr><th scope=row>12</th><td>7.542950e+12</td><td>5620163</td><td>M</td><td>2016-04-26T08:44:12Z</td><td>2016-04-29T00:00:00Z</td><td>29</td><td>NOVA PALESTINA   </td><td>0</td><td>0</td><td>0</td><td>0</td><td>0</td><td>1</td><td>Yes</td><td>3</td></tr>\n",
              "\t<tr><th scope=row>13</th><td>5.666550e+14</td><td>5634718</td><td>F</td><td>2016-04-28T11:33:51Z</td><td>2016-04-29T00:00:00Z</td><td>22</td><td>NOVA PALESTINA   </td><td>1</td><td>0</td><td>0</td><td>0</td><td>0</td><td>0</td><td>No </td><td>1</td></tr>\n",
              "\t<tr><th scope=row>14</th><td>9.113950e+14</td><td>5636249</td><td>M</td><td>2016-04-28T14:52:07Z</td><td>2016-04-29T00:00:00Z</td><td>28</td><td>NOVA PALESTINA   </td><td>0</td><td>0</td><td>0</td><td>0</td><td>0</td><td>0</td><td>No </td><td>1</td></tr>\n",
              "\t<tr><th scope=row>16</th><td>9.994839e+10</td><td>5620206</td><td>F</td><td>2016-04-26T08:47:27Z</td><td>2016-04-29T00:00:00Z</td><td>15</td><td>NOVA PALESTINA   </td><td>0</td><td>0</td><td>0</td><td>0</td><td>0</td><td>1</td><td>No </td><td>3</td></tr>\n",
              "\t<tr><th scope=row>17</th><td>8.457440e+13</td><td>5633121</td><td>M</td><td>2016-04-28T08:51:47Z</td><td>2016-04-29T00:00:00Z</td><td>50</td><td>NOVA PALESTINA   </td><td>0</td><td>0</td><td>0</td><td>0</td><td>0</td><td>0</td><td>No </td><td>1</td></tr>\n",
              "\t<tr><th scope=row>18</th><td>1.479500e+13</td><td>5633460</td><td>F</td><td>2016-04-28T09:28:57Z</td><td>2016-04-29T00:00:00Z</td><td>40</td><td>CONQUISTA        </td><td>1</td><td>0</td><td>0</td><td>0</td><td>0</td><td>0</td><td>Yes</td><td>1</td></tr>\n",
              "\t<tr><th scope=row>19</th><td>1.713540e+13</td><td>5621836</td><td>F</td><td>2016-04-26T10:54:18Z</td><td>2016-04-29T00:00:00Z</td><td>30</td><td>NOVA PALESTINA   </td><td>1</td><td>0</td><td>0</td><td>0</td><td>0</td><td>1</td><td>No </td><td>3</td></tr>\n",
              "\t<tr><th scope=row>20</th><td>7.223290e+12</td><td>5640433</td><td>F</td><td>2016-04-29T10:43:14Z</td><td>2016-04-29T00:00:00Z</td><td>46</td><td>DA PENHA         </td><td>0</td><td>0</td><td>0</td><td>0</td><td>0</td><td>0</td><td>No </td><td>0</td></tr>\n",
              "\t<tr><th scope=row>21</th><td>6.222570e+14</td><td>5626083</td><td>F</td><td>2016-04-27T07:51:14Z</td><td>2016-04-29T00:00:00Z</td><td>30</td><td>NOVA PALESTINA   </td><td>0</td><td>0</td><td>0</td><td>0</td><td>0</td><td>0</td><td>Yes</td><td>2</td></tr>\n",
              "\t<tr><th scope=row>22</th><td>1.215480e+13</td><td>5628338</td><td>F</td><td>2016-04-27T10:50:45Z</td><td>2016-04-29T00:00:00Z</td><td> 4</td><td>CONQUISTA        </td><td>0</td><td>0</td><td>0</td><td>0</td><td>0</td><td>0</td><td>Yes</td><td>2</td></tr>\n",
              "\t<tr><th scope=row>23</th><td>8.632300e+14</td><td>5616091</td><td>M</td><td>2016-04-25T13:29:16Z</td><td>2016-04-29T00:00:00Z</td><td>13</td><td>CONQUISTA        </td><td>0</td><td>0</td><td>0</td><td>0</td><td>0</td><td>1</td><td>Yes</td><td>4</td></tr>\n",
              "\t<tr><th scope=row>24</th><td>2.137540e+14</td><td>5634142</td><td>F</td><td>2016-04-28T10:27:05Z</td><td>2016-04-29T00:00:00Z</td><td>46</td><td>CONQUISTA        </td><td>0</td><td>0</td><td>0</td><td>0</td><td>0</td><td>0</td><td>No </td><td>1</td></tr>\n",
              "\t<tr><th scope=row>25</th><td>8.734860e+12</td><td>5641780</td><td>F</td><td>2016-04-29T14:19:19Z</td><td>2016-04-29T00:00:00Z</td><td>65</td><td>TABUAZEIRO       </td><td>0</td><td>0</td><td>0</td><td>0</td><td>0</td><td>0</td><td>No </td><td>0</td></tr>\n",
              "\t<tr><th scope=row>26</th><td>5.819370e+12</td><td>5624020</td><td>M</td><td>2016-04-26T15:04:17Z</td><td>2016-04-29T00:00:00Z</td><td>46</td><td>CONQUISTA        </td><td>0</td><td>1</td><td>0</td><td>0</td><td>0</td><td>1</td><td>No </td><td>3</td></tr>\n",
              "\t<tr><th scope=row>27</th><td>2.578785e+10</td><td>5641781</td><td>F</td><td>2016-04-29T14:19:42Z</td><td>2016-04-29T00:00:00Z</td><td>45</td><td>BENTO FERREIRA   </td><td>0</td><td>1</td><td>0</td><td>0</td><td>0</td><td>0</td><td>No </td><td>0</td></tr>\n",
              "\t<tr><th scope=row>28</th><td>1.215480e+13</td><td>5628345</td><td>F</td><td>2016-04-27T10:51:45Z</td><td>2016-04-29T00:00:00Z</td><td> 4</td><td>CONQUISTA        </td><td>0</td><td>0</td><td>0</td><td>0</td><td>0</td><td>0</td><td>No </td><td>2</td></tr>\n",
              "\t<tr><th scope=row>29</th><td>5.926170e+12</td><td>5642400</td><td>M</td><td>2016-04-29T15:48:02Z</td><td>2016-04-29T00:00:00Z</td><td>51</td><td>SÃO PEDRO        </td><td>0</td><td>0</td><td>0</td><td>0</td><td>0</td><td>0</td><td>No </td><td>0</td></tr>\n",
              "\t<tr><th scope=row>31</th><td>3.428160e+11</td><td>5628068</td><td>F</td><td>2016-04-27T10:24:52Z</td><td>2016-04-29T00:00:00Z</td><td>46</td><td>NOVA PALESTINA   </td><td>0</td><td>0</td><td>0</td><td>0</td><td>0</td><td>0</td><td>No </td><td>2</td></tr>\n",
              "\t<tr><th scope=row>32</th><td>3.112850e+11</td><td>5628907</td><td>M</td><td>2016-04-27T12:07:14Z</td><td>2016-04-29T00:00:00Z</td><td>12</td><td>NOVA PALESTINA   </td><td>1</td><td>0</td><td>0</td><td>0</td><td>0</td><td>0</td><td>Yes</td><td>2</td></tr>\n",
              "\t<tr><th scope=row>⋮</th><td>⋮</td><td>⋮</td><td>⋮</td><td>⋮</td><td>⋮</td><td>⋮</td><td>⋮</td><td>⋮</td><td>⋮</td><td>⋮</td><td>⋮</td><td>⋮</td><td>⋮</td><td>⋮</td><td>⋮</td></tr>\n",
              "\t<tr><th scope=row>110498</th><td>7.93589e+14</td><td>5757745</td><td>M</td><td>2016-06-01T09:46:33Z</td><td>2016-06-01T00:00:00Z</td><td>76</td><td>MARIA ORTIZ    </td><td>0</td><td>0</td><td>0</td><td>0</td><td>0</td><td>0</td><td>No </td><td> 0</td></tr>\n",
              "\t<tr><th scope=row>110499</th><td>9.43365e+13</td><td>5787655</td><td>F</td><td>2016-06-08T10:21:14Z</td><td>2016-06-08T00:00:00Z</td><td>59</td><td>MARIA ORTIZ    </td><td>0</td><td>0</td><td>0</td><td>0</td><td>0</td><td>0</td><td>No </td><td> 0</td></tr>\n",
              "\t<tr><th scope=row>110500</th><td>8.21969e+14</td><td>5757697</td><td>F</td><td>2016-06-01T09:42:56Z</td><td>2016-06-01T00:00:00Z</td><td>66</td><td>MARIA ORTIZ    </td><td>0</td><td>1</td><td>1</td><td>0</td><td>0</td><td>0</td><td>No </td><td> 0</td></tr>\n",
              "\t<tr><th scope=row>110501</th><td>4.43438e+14</td><td>5787233</td><td>F</td><td>2016-06-08T09:35:13Z</td><td>2016-06-08T00:00:00Z</td><td>59</td><td>MARIA ORTIZ    </td><td>0</td><td>0</td><td>0</td><td>0</td><td>0</td><td>0</td><td>No </td><td> 0</td></tr>\n",
              "\t<tr><th scope=row>110502</th><td>4.54425e+11</td><td>5758133</td><td>M</td><td>2016-06-01T10:19:12Z</td><td>2016-06-01T00:00:00Z</td><td>44</td><td>MARIA ORTIZ    </td><td>0</td><td>0</td><td>0</td><td>0</td><td>0</td><td>0</td><td>No </td><td> 0</td></tr>\n",
              "\t<tr><th scope=row>110503</th><td>7.31623e+14</td><td>5787937</td><td>F</td><td>2016-06-08T10:50:42Z</td><td>2016-06-08T00:00:00Z</td><td>22</td><td>GOIABEIRAS     </td><td>0</td><td>0</td><td>0</td><td>0</td><td>0</td><td>0</td><td>No </td><td> 0</td></tr>\n",
              "\t<tr><th scope=row>110504</th><td>2.36218e+13</td><td>5759473</td><td>F</td><td>2016-06-01T13:00:36Z</td><td>2016-06-01T00:00:00Z</td><td>64</td><td>SOLON BORGES   </td><td>0</td><td>0</td><td>0</td><td>0</td><td>0</td><td>0</td><td>No </td><td> 0</td></tr>\n",
              "\t<tr><th scope=row>110505</th><td>9.94798e+12</td><td>5788052</td><td>F</td><td>2016-06-08T11:06:21Z</td><td>2016-06-08T00:00:00Z</td><td> 4</td><td>MARIA ORTIZ    </td><td>0</td><td>0</td><td>0</td><td>0</td><td>0</td><td>0</td><td>No </td><td> 0</td></tr>\n",
              "\t<tr><th scope=row>110506</th><td>5.66734e+13</td><td>5758455</td><td>F</td><td>2016-06-01T10:45:50Z</td><td>2016-06-01T00:00:00Z</td><td>55</td><td>MARIA ORTIZ    </td><td>0</td><td>0</td><td>0</td><td>0</td><td>0</td><td>0</td><td>No </td><td> 0</td></tr>\n",
              "\t<tr><th scope=row>110507</th><td>8.97388e+11</td><td>5758779</td><td>M</td><td>2016-06-01T11:09:20Z</td><td>2016-06-01T00:00:00Z</td><td> 5</td><td>MARIA ORTIZ    </td><td>0</td><td>0</td><td>0</td><td>0</td><td>0</td><td>0</td><td>No </td><td> 0</td></tr>\n",
              "\t<tr><th scope=row>110508</th><td>4.76946e+14</td><td>5786918</td><td>F</td><td>2016-06-08T09:04:18Z</td><td>2016-06-08T00:00:00Z</td><td> 0</td><td>MARIA ORTIZ    </td><td>0</td><td>0</td><td>0</td><td>0</td><td>0</td><td>0</td><td>No </td><td> 0</td></tr>\n",
              "\t<tr><th scope=row>110509</th><td>9.43365e+13</td><td>5757656</td><td>F</td><td>2016-06-01T09:41:00Z</td><td>2016-06-01T00:00:00Z</td><td>59</td><td>MARIA ORTIZ    </td><td>0</td><td>0</td><td>0</td><td>0</td><td>0</td><td>0</td><td>No </td><td> 0</td></tr>\n",
              "\t<tr><th scope=row>110510</th><td>4.95297e+14</td><td>5786750</td><td>M</td><td>2016-06-08T08:50:51Z</td><td>2016-06-08T00:00:00Z</td><td>33</td><td>MARIA ORTIZ    </td><td>0</td><td>0</td><td>0</td><td>0</td><td>0</td><td>0</td><td>No </td><td> 0</td></tr>\n",
              "\t<tr><th scope=row>110511</th><td>2.36218e+13</td><td>5757587</td><td>F</td><td>2016-06-01T09:35:48Z</td><td>2016-06-01T00:00:00Z</td><td>64</td><td>SOLON BORGES   </td><td>0</td><td>0</td><td>0</td><td>0</td><td>0</td><td>0</td><td>No </td><td> 0</td></tr>\n",
              "\t<tr><th scope=row>110512</th><td>8.23600e+11</td><td>5786742</td><td>F</td><td>2016-06-08T08:50:20Z</td><td>2016-06-08T00:00:00Z</td><td>14</td><td>MARIA ORTIZ    </td><td>0</td><td>0</td><td>0</td><td>0</td><td>0</td><td>0</td><td>No </td><td> 0</td></tr>\n",
              "\t<tr><th scope=row>110513</th><td>9.87625e+13</td><td>5786368</td><td>F</td><td>2016-06-08T08:20:01Z</td><td>2016-06-08T00:00:00Z</td><td>41</td><td>MARIA ORTIZ    </td><td>0</td><td>0</td><td>0</td><td>0</td><td>0</td><td>0</td><td>No </td><td> 0</td></tr>\n",
              "\t<tr><th scope=row>110514</th><td>8.67478e+13</td><td>5785964</td><td>M</td><td>2016-06-08T07:52:55Z</td><td>2016-06-08T00:00:00Z</td><td> 2</td><td>ANTÔNIO HONÓRIO</td><td>0</td><td>0</td><td>0</td><td>0</td><td>0</td><td>0</td><td>No </td><td> 0</td></tr>\n",
              "\t<tr><th scope=row>110515</th><td>2.69569e+12</td><td>5786567</td><td>F</td><td>2016-06-08T08:35:31Z</td><td>2016-06-08T00:00:00Z</td><td>58</td><td>MARIA ORTIZ    </td><td>0</td><td>0</td><td>0</td><td>0</td><td>0</td><td>0</td><td>No </td><td> 0</td></tr>\n",
              "\t<tr><th scope=row>110516</th><td>6.45634e+14</td><td>5778621</td><td>M</td><td>2016-06-06T15:58:05Z</td><td>2016-06-08T00:00:00Z</td><td>33</td><td>MARIA ORTIZ    </td><td>0</td><td>1</td><td>0</td><td>0</td><td>0</td><td>0</td><td>Yes</td><td> 2</td></tr>\n",
              "\t<tr><th scope=row>110517</th><td>6.92377e+13</td><td>5780205</td><td>F</td><td>2016-06-07T07:45:16Z</td><td>2016-06-08T00:00:00Z</td><td>37</td><td>MARIA ORTIZ    </td><td>0</td><td>0</td><td>0</td><td>0</td><td>0</td><td>0</td><td>Yes</td><td> 1</td></tr>\n",
              "\t<tr><th scope=row>110518</th><td>5.57494e+12</td><td>5780122</td><td>F</td><td>2016-06-07T07:38:34Z</td><td>2016-06-07T00:00:00Z</td><td>19</td><td>MARIA ORTIZ    </td><td>0</td><td>0</td><td>0</td><td>0</td><td>0</td><td>0</td><td>No </td><td> 0</td></tr>\n",
              "\t<tr><th scope=row>110519</th><td>7.26331e+13</td><td>5630375</td><td>F</td><td>2016-04-27T15:15:06Z</td><td>2016-06-07T00:00:00Z</td><td>50</td><td>MARIA ORTIZ    </td><td>0</td><td>0</td><td>0</td><td>0</td><td>0</td><td>1</td><td>No </td><td>41</td></tr>\n",
              "\t<tr><th scope=row>110520</th><td>6.54239e+13</td><td>5630447</td><td>F</td><td>2016-04-27T15:23:14Z</td><td>2016-06-07T00:00:00Z</td><td>22</td><td>MARIA ORTIZ    </td><td>0</td><td>0</td><td>0</td><td>0</td><td>0</td><td>1</td><td>No </td><td>41</td></tr>\n",
              "\t<tr><th scope=row>110521</th><td>9.96998e+14</td><td>5650534</td><td>F</td><td>2016-05-03T07:51:47Z</td><td>2016-06-07T00:00:00Z</td><td>42</td><td>MARIA ORTIZ    </td><td>0</td><td>0</td><td>0</td><td>0</td><td>0</td><td>1</td><td>No </td><td>35</td></tr>\n",
              "\t<tr><th scope=row>110522</th><td>3.63553e+13</td><td>5651072</td><td>F</td><td>2016-05-03T08:23:40Z</td><td>2016-06-07T00:00:00Z</td><td>53</td><td>MARIA ORTIZ    </td><td>0</td><td>0</td><td>0</td><td>0</td><td>0</td><td>1</td><td>No </td><td>35</td></tr>\n",
              "\t<tr><th scope=row>110523</th><td>2.57213e+12</td><td>5651768</td><td>F</td><td>2016-05-03T09:15:35Z</td><td>2016-06-07T00:00:00Z</td><td>56</td><td>MARIA ORTIZ    </td><td>0</td><td>0</td><td>0</td><td>0</td><td>0</td><td>1</td><td>No </td><td>35</td></tr>\n",
              "\t<tr><th scope=row>110524</th><td>3.59627e+12</td><td>5650093</td><td>F</td><td>2016-05-03T07:27:33Z</td><td>2016-06-07T00:00:00Z</td><td>51</td><td>MARIA ORTIZ    </td><td>0</td><td>0</td><td>0</td><td>0</td><td>0</td><td>1</td><td>No </td><td>35</td></tr>\n",
              "\t<tr><th scope=row>110525</th><td>1.55766e+13</td><td>5630692</td><td>F</td><td>2016-04-27T16:03:52Z</td><td>2016-06-07T00:00:00Z</td><td>21</td><td>MARIA ORTIZ    </td><td>0</td><td>0</td><td>0</td><td>0</td><td>0</td><td>1</td><td>No </td><td>41</td></tr>\n",
              "\t<tr><th scope=row>110526</th><td>9.21349e+13</td><td>5630323</td><td>F</td><td>2016-04-27T15:09:23Z</td><td>2016-06-07T00:00:00Z</td><td>38</td><td>MARIA ORTIZ    </td><td>0</td><td>0</td><td>0</td><td>0</td><td>0</td><td>1</td><td>No </td><td>41</td></tr>\n",
              "\t<tr><th scope=row>110527</th><td>3.77512e+14</td><td>5629448</td><td>F</td><td>2016-04-27T13:30:56Z</td><td>2016-06-07T00:00:00Z</td><td>54</td><td>MARIA ORTIZ    </td><td>0</td><td>0</td><td>0</td><td>0</td><td>0</td><td>1</td><td>No </td><td>41</td></tr>\n",
              "</tbody>\n",
              "</table>\n"
            ],
            "text/markdown": "\nA data.frame: 110523 × 15\n\n| <!--/--> | PatientId &lt;dbl&gt; | AppointmentID &lt;int&gt; | Gender &lt;chr&gt; | ScheduledDay &lt;chr&gt; | AppointmentDay &lt;chr&gt; | Age &lt;int&gt; | Neighbourhood &lt;chr&gt; | Scholarship &lt;int&gt; | Hipertension &lt;int&gt; | Diabetes &lt;int&gt; | Alcoholism &lt;int&gt; | Handcap &lt;int&gt; | SMS_received &lt;int&gt; | No.show &lt;chr&gt; | AwaitingTime &lt;dbl&gt; |\n|---|---|---|---|---|---|---|---|---|---|---|---|---|---|---|---|\n| 1 | 2.987250e+13 | 5642903 | F | 2016-04-29T18:38:08Z | 2016-04-29T00:00:00Z | 62 | JARDIM DA PENHA   | 0 | 1 | 0 | 0 | 0 | 0 | No  | 0 |\n| 2 | 5.589980e+14 | 5642503 | M | 2016-04-29T16:08:27Z | 2016-04-29T00:00:00Z | 56 | JARDIM DA PENHA   | 0 | 0 | 0 | 0 | 0 | 0 | No  | 0 |\n| 3 | 4.262960e+12 | 5642549 | F | 2016-04-29T16:19:04Z | 2016-04-29T00:00:00Z | 62 | MATA DA PRAIA     | 0 | 0 | 0 | 0 | 0 | 0 | No  | 0 |\n| 4 | 8.679510e+11 | 5642828 | F | 2016-04-29T17:29:31Z | 2016-04-29T00:00:00Z |  8 | PONTAL DE CAMBURI | 0 | 0 | 0 | 0 | 0 | 0 | No  | 0 |\n| 5 | 8.841190e+12 | 5642494 | F | 2016-04-29T16:07:23Z | 2016-04-29T00:00:00Z | 56 | JARDIM DA PENHA   | 0 | 1 | 1 | 0 | 0 | 0 | No  | 0 |\n| 6 | 9.598510e+13 | 5626772 | F | 2016-04-27T08:36:51Z | 2016-04-29T00:00:00Z | 76 | REPÚBLICA         | 0 | 1 | 0 | 0 | 0 | 0 | No  | 2 |\n| 7 | 7.336880e+14 | 5630279 | F | 2016-04-27T15:05:12Z | 2016-04-29T00:00:00Z | 23 | GOIABEIRAS        | 0 | 0 | 0 | 0 | 0 | 0 | Yes | 2 |\n| 8 | 3.449830e+12 | 5630575 | F | 2016-04-27T15:39:58Z | 2016-04-29T00:00:00Z | 39 | GOIABEIRAS        | 0 | 0 | 0 | 0 | 0 | 0 | Yes | 2 |\n| 9 | 5.639470e+13 | 5638447 | F | 2016-04-29T08:02:16Z | 2016-04-29T00:00:00Z | 21 | ANDORINHAS        | 0 | 0 | 0 | 0 | 0 | 0 | No  | 0 |\n| 10 | 7.812460e+13 | 5629123 | F | 2016-04-27T12:48:25Z | 2016-04-29T00:00:00Z | 19 | CONQUISTA         | 0 | 0 | 0 | 0 | 0 | 0 | No  | 2 |\n| 11 | 7.345360e+14 | 5630213 | F | 2016-04-27T14:58:11Z | 2016-04-29T00:00:00Z | 30 | NOVA PALESTINA    | 0 | 0 | 0 | 0 | 0 | 0 | No  | 2 |\n| 12 | 7.542950e+12 | 5620163 | M | 2016-04-26T08:44:12Z | 2016-04-29T00:00:00Z | 29 | NOVA PALESTINA    | 0 | 0 | 0 | 0 | 0 | 1 | Yes | 3 |\n| 13 | 5.666550e+14 | 5634718 | F | 2016-04-28T11:33:51Z | 2016-04-29T00:00:00Z | 22 | NOVA PALESTINA    | 1 | 0 | 0 | 0 | 0 | 0 | No  | 1 |\n| 14 | 9.113950e+14 | 5636249 | M | 2016-04-28T14:52:07Z | 2016-04-29T00:00:00Z | 28 | NOVA PALESTINA    | 0 | 0 | 0 | 0 | 0 | 0 | No  | 1 |\n| 16 | 9.994839e+10 | 5620206 | F | 2016-04-26T08:47:27Z | 2016-04-29T00:00:00Z | 15 | NOVA PALESTINA    | 0 | 0 | 0 | 0 | 0 | 1 | No  | 3 |\n| 17 | 8.457440e+13 | 5633121 | M | 2016-04-28T08:51:47Z | 2016-04-29T00:00:00Z | 50 | NOVA PALESTINA    | 0 | 0 | 0 | 0 | 0 | 0 | No  | 1 |\n| 18 | 1.479500e+13 | 5633460 | F | 2016-04-28T09:28:57Z | 2016-04-29T00:00:00Z | 40 | CONQUISTA         | 1 | 0 | 0 | 0 | 0 | 0 | Yes | 1 |\n| 19 | 1.713540e+13 | 5621836 | F | 2016-04-26T10:54:18Z | 2016-04-29T00:00:00Z | 30 | NOVA PALESTINA    | 1 | 0 | 0 | 0 | 0 | 1 | No  | 3 |\n| 20 | 7.223290e+12 | 5640433 | F | 2016-04-29T10:43:14Z | 2016-04-29T00:00:00Z | 46 | DA PENHA          | 0 | 0 | 0 | 0 | 0 | 0 | No  | 0 |\n| 21 | 6.222570e+14 | 5626083 | F | 2016-04-27T07:51:14Z | 2016-04-29T00:00:00Z | 30 | NOVA PALESTINA    | 0 | 0 | 0 | 0 | 0 | 0 | Yes | 2 |\n| 22 | 1.215480e+13 | 5628338 | F | 2016-04-27T10:50:45Z | 2016-04-29T00:00:00Z |  4 | CONQUISTA         | 0 | 0 | 0 | 0 | 0 | 0 | Yes | 2 |\n| 23 | 8.632300e+14 | 5616091 | M | 2016-04-25T13:29:16Z | 2016-04-29T00:00:00Z | 13 | CONQUISTA         | 0 | 0 | 0 | 0 | 0 | 1 | Yes | 4 |\n| 24 | 2.137540e+14 | 5634142 | F | 2016-04-28T10:27:05Z | 2016-04-29T00:00:00Z | 46 | CONQUISTA         | 0 | 0 | 0 | 0 | 0 | 0 | No  | 1 |\n| 25 | 8.734860e+12 | 5641780 | F | 2016-04-29T14:19:19Z | 2016-04-29T00:00:00Z | 65 | TABUAZEIRO        | 0 | 0 | 0 | 0 | 0 | 0 | No  | 0 |\n| 26 | 5.819370e+12 | 5624020 | M | 2016-04-26T15:04:17Z | 2016-04-29T00:00:00Z | 46 | CONQUISTA         | 0 | 1 | 0 | 0 | 0 | 1 | No  | 3 |\n| 27 | 2.578785e+10 | 5641781 | F | 2016-04-29T14:19:42Z | 2016-04-29T00:00:00Z | 45 | BENTO FERREIRA    | 0 | 1 | 0 | 0 | 0 | 0 | No  | 0 |\n| 28 | 1.215480e+13 | 5628345 | F | 2016-04-27T10:51:45Z | 2016-04-29T00:00:00Z |  4 | CONQUISTA         | 0 | 0 | 0 | 0 | 0 | 0 | No  | 2 |\n| 29 | 5.926170e+12 | 5642400 | M | 2016-04-29T15:48:02Z | 2016-04-29T00:00:00Z | 51 | SÃO PEDRO         | 0 | 0 | 0 | 0 | 0 | 0 | No  | 0 |\n| 31 | 3.428160e+11 | 5628068 | F | 2016-04-27T10:24:52Z | 2016-04-29T00:00:00Z | 46 | NOVA PALESTINA    | 0 | 0 | 0 | 0 | 0 | 0 | No  | 2 |\n| 32 | 3.112850e+11 | 5628907 | M | 2016-04-27T12:07:14Z | 2016-04-29T00:00:00Z | 12 | NOVA PALESTINA    | 1 | 0 | 0 | 0 | 0 | 0 | Yes | 2 |\n| ⋮ | ⋮ | ⋮ | ⋮ | ⋮ | ⋮ | ⋮ | ⋮ | ⋮ | ⋮ | ⋮ | ⋮ | ⋮ | ⋮ | ⋮ | ⋮ |\n| 110498 | 7.93589e+14 | 5757745 | M | 2016-06-01T09:46:33Z | 2016-06-01T00:00:00Z | 76 | MARIA ORTIZ     | 0 | 0 | 0 | 0 | 0 | 0 | No  |  0 |\n| 110499 | 9.43365e+13 | 5787655 | F | 2016-06-08T10:21:14Z | 2016-06-08T00:00:00Z | 59 | MARIA ORTIZ     | 0 | 0 | 0 | 0 | 0 | 0 | No  |  0 |\n| 110500 | 8.21969e+14 | 5757697 | F | 2016-06-01T09:42:56Z | 2016-06-01T00:00:00Z | 66 | MARIA ORTIZ     | 0 | 1 | 1 | 0 | 0 | 0 | No  |  0 |\n| 110501 | 4.43438e+14 | 5787233 | F | 2016-06-08T09:35:13Z | 2016-06-08T00:00:00Z | 59 | MARIA ORTIZ     | 0 | 0 | 0 | 0 | 0 | 0 | No  |  0 |\n| 110502 | 4.54425e+11 | 5758133 | M | 2016-06-01T10:19:12Z | 2016-06-01T00:00:00Z | 44 | MARIA ORTIZ     | 0 | 0 | 0 | 0 | 0 | 0 | No  |  0 |\n| 110503 | 7.31623e+14 | 5787937 | F | 2016-06-08T10:50:42Z | 2016-06-08T00:00:00Z | 22 | GOIABEIRAS      | 0 | 0 | 0 | 0 | 0 | 0 | No  |  0 |\n| 110504 | 2.36218e+13 | 5759473 | F | 2016-06-01T13:00:36Z | 2016-06-01T00:00:00Z | 64 | SOLON BORGES    | 0 | 0 | 0 | 0 | 0 | 0 | No  |  0 |\n| 110505 | 9.94798e+12 | 5788052 | F | 2016-06-08T11:06:21Z | 2016-06-08T00:00:00Z |  4 | MARIA ORTIZ     | 0 | 0 | 0 | 0 | 0 | 0 | No  |  0 |\n| 110506 | 5.66734e+13 | 5758455 | F | 2016-06-01T10:45:50Z | 2016-06-01T00:00:00Z | 55 | MARIA ORTIZ     | 0 | 0 | 0 | 0 | 0 | 0 | No  |  0 |\n| 110507 | 8.97388e+11 | 5758779 | M | 2016-06-01T11:09:20Z | 2016-06-01T00:00:00Z |  5 | MARIA ORTIZ     | 0 | 0 | 0 | 0 | 0 | 0 | No  |  0 |\n| 110508 | 4.76946e+14 | 5786918 | F | 2016-06-08T09:04:18Z | 2016-06-08T00:00:00Z |  0 | MARIA ORTIZ     | 0 | 0 | 0 | 0 | 0 | 0 | No  |  0 |\n| 110509 | 9.43365e+13 | 5757656 | F | 2016-06-01T09:41:00Z | 2016-06-01T00:00:00Z | 59 | MARIA ORTIZ     | 0 | 0 | 0 | 0 | 0 | 0 | No  |  0 |\n| 110510 | 4.95297e+14 | 5786750 | M | 2016-06-08T08:50:51Z | 2016-06-08T00:00:00Z | 33 | MARIA ORTIZ     | 0 | 0 | 0 | 0 | 0 | 0 | No  |  0 |\n| 110511 | 2.36218e+13 | 5757587 | F | 2016-06-01T09:35:48Z | 2016-06-01T00:00:00Z | 64 | SOLON BORGES    | 0 | 0 | 0 | 0 | 0 | 0 | No  |  0 |\n| 110512 | 8.23600e+11 | 5786742 | F | 2016-06-08T08:50:20Z | 2016-06-08T00:00:00Z | 14 | MARIA ORTIZ     | 0 | 0 | 0 | 0 | 0 | 0 | No  |  0 |\n| 110513 | 9.87625e+13 | 5786368 | F | 2016-06-08T08:20:01Z | 2016-06-08T00:00:00Z | 41 | MARIA ORTIZ     | 0 | 0 | 0 | 0 | 0 | 0 | No  |  0 |\n| 110514 | 8.67478e+13 | 5785964 | M | 2016-06-08T07:52:55Z | 2016-06-08T00:00:00Z |  2 | ANTÔNIO HONÓRIO | 0 | 0 | 0 | 0 | 0 | 0 | No  |  0 |\n| 110515 | 2.69569e+12 | 5786567 | F | 2016-06-08T08:35:31Z | 2016-06-08T00:00:00Z | 58 | MARIA ORTIZ     | 0 | 0 | 0 | 0 | 0 | 0 | No  |  0 |\n| 110516 | 6.45634e+14 | 5778621 | M | 2016-06-06T15:58:05Z | 2016-06-08T00:00:00Z | 33 | MARIA ORTIZ     | 0 | 1 | 0 | 0 | 0 | 0 | Yes |  2 |\n| 110517 | 6.92377e+13 | 5780205 | F | 2016-06-07T07:45:16Z | 2016-06-08T00:00:00Z | 37 | MARIA ORTIZ     | 0 | 0 | 0 | 0 | 0 | 0 | Yes |  1 |\n| 110518 | 5.57494e+12 | 5780122 | F | 2016-06-07T07:38:34Z | 2016-06-07T00:00:00Z | 19 | MARIA ORTIZ     | 0 | 0 | 0 | 0 | 0 | 0 | No  |  0 |\n| 110519 | 7.26331e+13 | 5630375 | F | 2016-04-27T15:15:06Z | 2016-06-07T00:00:00Z | 50 | MARIA ORTIZ     | 0 | 0 | 0 | 0 | 0 | 1 | No  | 41 |\n| 110520 | 6.54239e+13 | 5630447 | F | 2016-04-27T15:23:14Z | 2016-06-07T00:00:00Z | 22 | MARIA ORTIZ     | 0 | 0 | 0 | 0 | 0 | 1 | No  | 41 |\n| 110521 | 9.96998e+14 | 5650534 | F | 2016-05-03T07:51:47Z | 2016-06-07T00:00:00Z | 42 | MARIA ORTIZ     | 0 | 0 | 0 | 0 | 0 | 1 | No  | 35 |\n| 110522 | 3.63553e+13 | 5651072 | F | 2016-05-03T08:23:40Z | 2016-06-07T00:00:00Z | 53 | MARIA ORTIZ     | 0 | 0 | 0 | 0 | 0 | 1 | No  | 35 |\n| 110523 | 2.57213e+12 | 5651768 | F | 2016-05-03T09:15:35Z | 2016-06-07T00:00:00Z | 56 | MARIA ORTIZ     | 0 | 0 | 0 | 0 | 0 | 1 | No  | 35 |\n| 110524 | 3.59627e+12 | 5650093 | F | 2016-05-03T07:27:33Z | 2016-06-07T00:00:00Z | 51 | MARIA ORTIZ     | 0 | 0 | 0 | 0 | 0 | 1 | No  | 35 |\n| 110525 | 1.55766e+13 | 5630692 | F | 2016-04-27T16:03:52Z | 2016-06-07T00:00:00Z | 21 | MARIA ORTIZ     | 0 | 0 | 0 | 0 | 0 | 1 | No  | 41 |\n| 110526 | 9.21349e+13 | 5630323 | F | 2016-04-27T15:09:23Z | 2016-06-07T00:00:00Z | 38 | MARIA ORTIZ     | 0 | 0 | 0 | 0 | 0 | 1 | No  | 41 |\n| 110527 | 3.77512e+14 | 5629448 | F | 2016-04-27T13:30:56Z | 2016-06-07T00:00:00Z | 54 | MARIA ORTIZ     | 0 | 0 | 0 | 0 | 0 | 1 | No  | 41 |\n\n",
            "text/latex": "A data.frame: 110523 × 15\n\\begin{tabular}{r|lllllllllllllll}\n  & PatientId & AppointmentID & Gender & ScheduledDay & AppointmentDay & Age & Neighbourhood & Scholarship & Hipertension & Diabetes & Alcoholism & Handcap & SMS\\_received & No.show & AwaitingTime\\\\\n  & <dbl> & <int> & <chr> & <chr> & <chr> & <int> & <chr> & <int> & <int> & <int> & <int> & <int> & <int> & <chr> & <dbl>\\\\\n\\hline\n\t1 & 2.987250e+13 & 5642903 & F & 2016-04-29T18:38:08Z & 2016-04-29T00:00:00Z & 62 & JARDIM DA PENHA   & 0 & 1 & 0 & 0 & 0 & 0 & No  & 0\\\\\n\t2 & 5.589980e+14 & 5642503 & M & 2016-04-29T16:08:27Z & 2016-04-29T00:00:00Z & 56 & JARDIM DA PENHA   & 0 & 0 & 0 & 0 & 0 & 0 & No  & 0\\\\\n\t3 & 4.262960e+12 & 5642549 & F & 2016-04-29T16:19:04Z & 2016-04-29T00:00:00Z & 62 & MATA DA PRAIA     & 0 & 0 & 0 & 0 & 0 & 0 & No  & 0\\\\\n\t4 & 8.679510e+11 & 5642828 & F & 2016-04-29T17:29:31Z & 2016-04-29T00:00:00Z &  8 & PONTAL DE CAMBURI & 0 & 0 & 0 & 0 & 0 & 0 & No  & 0\\\\\n\t5 & 8.841190e+12 & 5642494 & F & 2016-04-29T16:07:23Z & 2016-04-29T00:00:00Z & 56 & JARDIM DA PENHA   & 0 & 1 & 1 & 0 & 0 & 0 & No  & 0\\\\\n\t6 & 9.598510e+13 & 5626772 & F & 2016-04-27T08:36:51Z & 2016-04-29T00:00:00Z & 76 & REPÚBLICA         & 0 & 1 & 0 & 0 & 0 & 0 & No  & 2\\\\\n\t7 & 7.336880e+14 & 5630279 & F & 2016-04-27T15:05:12Z & 2016-04-29T00:00:00Z & 23 & GOIABEIRAS        & 0 & 0 & 0 & 0 & 0 & 0 & Yes & 2\\\\\n\t8 & 3.449830e+12 & 5630575 & F & 2016-04-27T15:39:58Z & 2016-04-29T00:00:00Z & 39 & GOIABEIRAS        & 0 & 0 & 0 & 0 & 0 & 0 & Yes & 2\\\\\n\t9 & 5.639470e+13 & 5638447 & F & 2016-04-29T08:02:16Z & 2016-04-29T00:00:00Z & 21 & ANDORINHAS        & 0 & 0 & 0 & 0 & 0 & 0 & No  & 0\\\\\n\t10 & 7.812460e+13 & 5629123 & F & 2016-04-27T12:48:25Z & 2016-04-29T00:00:00Z & 19 & CONQUISTA         & 0 & 0 & 0 & 0 & 0 & 0 & No  & 2\\\\\n\t11 & 7.345360e+14 & 5630213 & F & 2016-04-27T14:58:11Z & 2016-04-29T00:00:00Z & 30 & NOVA PALESTINA    & 0 & 0 & 0 & 0 & 0 & 0 & No  & 2\\\\\n\t12 & 7.542950e+12 & 5620163 & M & 2016-04-26T08:44:12Z & 2016-04-29T00:00:00Z & 29 & NOVA PALESTINA    & 0 & 0 & 0 & 0 & 0 & 1 & Yes & 3\\\\\n\t13 & 5.666550e+14 & 5634718 & F & 2016-04-28T11:33:51Z & 2016-04-29T00:00:00Z & 22 & NOVA PALESTINA    & 1 & 0 & 0 & 0 & 0 & 0 & No  & 1\\\\\n\t14 & 9.113950e+14 & 5636249 & M & 2016-04-28T14:52:07Z & 2016-04-29T00:00:00Z & 28 & NOVA PALESTINA    & 0 & 0 & 0 & 0 & 0 & 0 & No  & 1\\\\\n\t16 & 9.994839e+10 & 5620206 & F & 2016-04-26T08:47:27Z & 2016-04-29T00:00:00Z & 15 & NOVA PALESTINA    & 0 & 0 & 0 & 0 & 0 & 1 & No  & 3\\\\\n\t17 & 8.457440e+13 & 5633121 & M & 2016-04-28T08:51:47Z & 2016-04-29T00:00:00Z & 50 & NOVA PALESTINA    & 0 & 0 & 0 & 0 & 0 & 0 & No  & 1\\\\\n\t18 & 1.479500e+13 & 5633460 & F & 2016-04-28T09:28:57Z & 2016-04-29T00:00:00Z & 40 & CONQUISTA         & 1 & 0 & 0 & 0 & 0 & 0 & Yes & 1\\\\\n\t19 & 1.713540e+13 & 5621836 & F & 2016-04-26T10:54:18Z & 2016-04-29T00:00:00Z & 30 & NOVA PALESTINA    & 1 & 0 & 0 & 0 & 0 & 1 & No  & 3\\\\\n\t20 & 7.223290e+12 & 5640433 & F & 2016-04-29T10:43:14Z & 2016-04-29T00:00:00Z & 46 & DA PENHA          & 0 & 0 & 0 & 0 & 0 & 0 & No  & 0\\\\\n\t21 & 6.222570e+14 & 5626083 & F & 2016-04-27T07:51:14Z & 2016-04-29T00:00:00Z & 30 & NOVA PALESTINA    & 0 & 0 & 0 & 0 & 0 & 0 & Yes & 2\\\\\n\t22 & 1.215480e+13 & 5628338 & F & 2016-04-27T10:50:45Z & 2016-04-29T00:00:00Z &  4 & CONQUISTA         & 0 & 0 & 0 & 0 & 0 & 0 & Yes & 2\\\\\n\t23 & 8.632300e+14 & 5616091 & M & 2016-04-25T13:29:16Z & 2016-04-29T00:00:00Z & 13 & CONQUISTA         & 0 & 0 & 0 & 0 & 0 & 1 & Yes & 4\\\\\n\t24 & 2.137540e+14 & 5634142 & F & 2016-04-28T10:27:05Z & 2016-04-29T00:00:00Z & 46 & CONQUISTA         & 0 & 0 & 0 & 0 & 0 & 0 & No  & 1\\\\\n\t25 & 8.734860e+12 & 5641780 & F & 2016-04-29T14:19:19Z & 2016-04-29T00:00:00Z & 65 & TABUAZEIRO        & 0 & 0 & 0 & 0 & 0 & 0 & No  & 0\\\\\n\t26 & 5.819370e+12 & 5624020 & M & 2016-04-26T15:04:17Z & 2016-04-29T00:00:00Z & 46 & CONQUISTA         & 0 & 1 & 0 & 0 & 0 & 1 & No  & 3\\\\\n\t27 & 2.578785e+10 & 5641781 & F & 2016-04-29T14:19:42Z & 2016-04-29T00:00:00Z & 45 & BENTO FERREIRA    & 0 & 1 & 0 & 0 & 0 & 0 & No  & 0\\\\\n\t28 & 1.215480e+13 & 5628345 & F & 2016-04-27T10:51:45Z & 2016-04-29T00:00:00Z &  4 & CONQUISTA         & 0 & 0 & 0 & 0 & 0 & 0 & No  & 2\\\\\n\t29 & 5.926170e+12 & 5642400 & M & 2016-04-29T15:48:02Z & 2016-04-29T00:00:00Z & 51 & SÃO PEDRO         & 0 & 0 & 0 & 0 & 0 & 0 & No  & 0\\\\\n\t31 & 3.428160e+11 & 5628068 & F & 2016-04-27T10:24:52Z & 2016-04-29T00:00:00Z & 46 & NOVA PALESTINA    & 0 & 0 & 0 & 0 & 0 & 0 & No  & 2\\\\\n\t32 & 3.112850e+11 & 5628907 & M & 2016-04-27T12:07:14Z & 2016-04-29T00:00:00Z & 12 & NOVA PALESTINA    & 1 & 0 & 0 & 0 & 0 & 0 & Yes & 2\\\\\n\t⋮ & ⋮ & ⋮ & ⋮ & ⋮ & ⋮ & ⋮ & ⋮ & ⋮ & ⋮ & ⋮ & ⋮ & ⋮ & ⋮ & ⋮ & ⋮\\\\\n\t110498 & 7.93589e+14 & 5757745 & M & 2016-06-01T09:46:33Z & 2016-06-01T00:00:00Z & 76 & MARIA ORTIZ     & 0 & 0 & 0 & 0 & 0 & 0 & No  &  0\\\\\n\t110499 & 9.43365e+13 & 5787655 & F & 2016-06-08T10:21:14Z & 2016-06-08T00:00:00Z & 59 & MARIA ORTIZ     & 0 & 0 & 0 & 0 & 0 & 0 & No  &  0\\\\\n\t110500 & 8.21969e+14 & 5757697 & F & 2016-06-01T09:42:56Z & 2016-06-01T00:00:00Z & 66 & MARIA ORTIZ     & 0 & 1 & 1 & 0 & 0 & 0 & No  &  0\\\\\n\t110501 & 4.43438e+14 & 5787233 & F & 2016-06-08T09:35:13Z & 2016-06-08T00:00:00Z & 59 & MARIA ORTIZ     & 0 & 0 & 0 & 0 & 0 & 0 & No  &  0\\\\\n\t110502 & 4.54425e+11 & 5758133 & M & 2016-06-01T10:19:12Z & 2016-06-01T00:00:00Z & 44 & MARIA ORTIZ     & 0 & 0 & 0 & 0 & 0 & 0 & No  &  0\\\\\n\t110503 & 7.31623e+14 & 5787937 & F & 2016-06-08T10:50:42Z & 2016-06-08T00:00:00Z & 22 & GOIABEIRAS      & 0 & 0 & 0 & 0 & 0 & 0 & No  &  0\\\\\n\t110504 & 2.36218e+13 & 5759473 & F & 2016-06-01T13:00:36Z & 2016-06-01T00:00:00Z & 64 & SOLON BORGES    & 0 & 0 & 0 & 0 & 0 & 0 & No  &  0\\\\\n\t110505 & 9.94798e+12 & 5788052 & F & 2016-06-08T11:06:21Z & 2016-06-08T00:00:00Z &  4 & MARIA ORTIZ     & 0 & 0 & 0 & 0 & 0 & 0 & No  &  0\\\\\n\t110506 & 5.66734e+13 & 5758455 & F & 2016-06-01T10:45:50Z & 2016-06-01T00:00:00Z & 55 & MARIA ORTIZ     & 0 & 0 & 0 & 0 & 0 & 0 & No  &  0\\\\\n\t110507 & 8.97388e+11 & 5758779 & M & 2016-06-01T11:09:20Z & 2016-06-01T00:00:00Z &  5 & MARIA ORTIZ     & 0 & 0 & 0 & 0 & 0 & 0 & No  &  0\\\\\n\t110508 & 4.76946e+14 & 5786918 & F & 2016-06-08T09:04:18Z & 2016-06-08T00:00:00Z &  0 & MARIA ORTIZ     & 0 & 0 & 0 & 0 & 0 & 0 & No  &  0\\\\\n\t110509 & 9.43365e+13 & 5757656 & F & 2016-06-01T09:41:00Z & 2016-06-01T00:00:00Z & 59 & MARIA ORTIZ     & 0 & 0 & 0 & 0 & 0 & 0 & No  &  0\\\\\n\t110510 & 4.95297e+14 & 5786750 & M & 2016-06-08T08:50:51Z & 2016-06-08T00:00:00Z & 33 & MARIA ORTIZ     & 0 & 0 & 0 & 0 & 0 & 0 & No  &  0\\\\\n\t110511 & 2.36218e+13 & 5757587 & F & 2016-06-01T09:35:48Z & 2016-06-01T00:00:00Z & 64 & SOLON BORGES    & 0 & 0 & 0 & 0 & 0 & 0 & No  &  0\\\\\n\t110512 & 8.23600e+11 & 5786742 & F & 2016-06-08T08:50:20Z & 2016-06-08T00:00:00Z & 14 & MARIA ORTIZ     & 0 & 0 & 0 & 0 & 0 & 0 & No  &  0\\\\\n\t110513 & 9.87625e+13 & 5786368 & F & 2016-06-08T08:20:01Z & 2016-06-08T00:00:00Z & 41 & MARIA ORTIZ     & 0 & 0 & 0 & 0 & 0 & 0 & No  &  0\\\\\n\t110514 & 8.67478e+13 & 5785964 & M & 2016-06-08T07:52:55Z & 2016-06-08T00:00:00Z &  2 & ANTÔNIO HONÓRIO & 0 & 0 & 0 & 0 & 0 & 0 & No  &  0\\\\\n\t110515 & 2.69569e+12 & 5786567 & F & 2016-06-08T08:35:31Z & 2016-06-08T00:00:00Z & 58 & MARIA ORTIZ     & 0 & 0 & 0 & 0 & 0 & 0 & No  &  0\\\\\n\t110516 & 6.45634e+14 & 5778621 & M & 2016-06-06T15:58:05Z & 2016-06-08T00:00:00Z & 33 & MARIA ORTIZ     & 0 & 1 & 0 & 0 & 0 & 0 & Yes &  2\\\\\n\t110517 & 6.92377e+13 & 5780205 & F & 2016-06-07T07:45:16Z & 2016-06-08T00:00:00Z & 37 & MARIA ORTIZ     & 0 & 0 & 0 & 0 & 0 & 0 & Yes &  1\\\\\n\t110518 & 5.57494e+12 & 5780122 & F & 2016-06-07T07:38:34Z & 2016-06-07T00:00:00Z & 19 & MARIA ORTIZ     & 0 & 0 & 0 & 0 & 0 & 0 & No  &  0\\\\\n\t110519 & 7.26331e+13 & 5630375 & F & 2016-04-27T15:15:06Z & 2016-06-07T00:00:00Z & 50 & MARIA ORTIZ     & 0 & 0 & 0 & 0 & 0 & 1 & No  & 41\\\\\n\t110520 & 6.54239e+13 & 5630447 & F & 2016-04-27T15:23:14Z & 2016-06-07T00:00:00Z & 22 & MARIA ORTIZ     & 0 & 0 & 0 & 0 & 0 & 1 & No  & 41\\\\\n\t110521 & 9.96998e+14 & 5650534 & F & 2016-05-03T07:51:47Z & 2016-06-07T00:00:00Z & 42 & MARIA ORTIZ     & 0 & 0 & 0 & 0 & 0 & 1 & No  & 35\\\\\n\t110522 & 3.63553e+13 & 5651072 & F & 2016-05-03T08:23:40Z & 2016-06-07T00:00:00Z & 53 & MARIA ORTIZ     & 0 & 0 & 0 & 0 & 0 & 1 & No  & 35\\\\\n\t110523 & 2.57213e+12 & 5651768 & F & 2016-05-03T09:15:35Z & 2016-06-07T00:00:00Z & 56 & MARIA ORTIZ     & 0 & 0 & 0 & 0 & 0 & 1 & No  & 35\\\\\n\t110524 & 3.59627e+12 & 5650093 & F & 2016-05-03T07:27:33Z & 2016-06-07T00:00:00Z & 51 & MARIA ORTIZ     & 0 & 0 & 0 & 0 & 0 & 1 & No  & 35\\\\\n\t110525 & 1.55766e+13 & 5630692 & F & 2016-04-27T16:03:52Z & 2016-06-07T00:00:00Z & 21 & MARIA ORTIZ     & 0 & 0 & 0 & 0 & 0 & 1 & No  & 41\\\\\n\t110526 & 9.21349e+13 & 5630323 & F & 2016-04-27T15:09:23Z & 2016-06-07T00:00:00Z & 38 & MARIA ORTIZ     & 0 & 0 & 0 & 0 & 0 & 1 & No  & 41\\\\\n\t110527 & 3.77512e+14 & 5629448 & F & 2016-04-27T13:30:56Z & 2016-06-07T00:00:00Z & 54 & MARIA ORTIZ     & 0 & 0 & 0 & 0 & 0 & 1 & No  & 41\\\\\n\\end{tabular}\n",
            "text/plain": [
              "       PatientId    AppointmentID Gender ScheduledDay        \n",
              "1      2.987250e+13 5642903       F      2016-04-29T18:38:08Z\n",
              "2      5.589980e+14 5642503       M      2016-04-29T16:08:27Z\n",
              "3      4.262960e+12 5642549       F      2016-04-29T16:19:04Z\n",
              "4      8.679510e+11 5642828       F      2016-04-29T17:29:31Z\n",
              "5      8.841190e+12 5642494       F      2016-04-29T16:07:23Z\n",
              "6      9.598510e+13 5626772       F      2016-04-27T08:36:51Z\n",
              "7      7.336880e+14 5630279       F      2016-04-27T15:05:12Z\n",
              "8      3.449830e+12 5630575       F      2016-04-27T15:39:58Z\n",
              "9      5.639470e+13 5638447       F      2016-04-29T08:02:16Z\n",
              "10     7.812460e+13 5629123       F      2016-04-27T12:48:25Z\n",
              "11     7.345360e+14 5630213       F      2016-04-27T14:58:11Z\n",
              "12     7.542950e+12 5620163       M      2016-04-26T08:44:12Z\n",
              "13     5.666550e+14 5634718       F      2016-04-28T11:33:51Z\n",
              "14     9.113950e+14 5636249       M      2016-04-28T14:52:07Z\n",
              "16     9.994839e+10 5620206       F      2016-04-26T08:47:27Z\n",
              "17     8.457440e+13 5633121       M      2016-04-28T08:51:47Z\n",
              "18     1.479500e+13 5633460       F      2016-04-28T09:28:57Z\n",
              "19     1.713540e+13 5621836       F      2016-04-26T10:54:18Z\n",
              "20     7.223290e+12 5640433       F      2016-04-29T10:43:14Z\n",
              "21     6.222570e+14 5626083       F      2016-04-27T07:51:14Z\n",
              "22     1.215480e+13 5628338       F      2016-04-27T10:50:45Z\n",
              "23     8.632300e+14 5616091       M      2016-04-25T13:29:16Z\n",
              "24     2.137540e+14 5634142       F      2016-04-28T10:27:05Z\n",
              "25     8.734860e+12 5641780       F      2016-04-29T14:19:19Z\n",
              "26     5.819370e+12 5624020       M      2016-04-26T15:04:17Z\n",
              "27     2.578785e+10 5641781       F      2016-04-29T14:19:42Z\n",
              "28     1.215480e+13 5628345       F      2016-04-27T10:51:45Z\n",
              "29     5.926170e+12 5642400       M      2016-04-29T15:48:02Z\n",
              "31     3.428160e+11 5628068       F      2016-04-27T10:24:52Z\n",
              "32     3.112850e+11 5628907       M      2016-04-27T12:07:14Z\n",
              "⋮      ⋮            ⋮             ⋮      ⋮                   \n",
              "110498 7.93589e+14  5757745       M      2016-06-01T09:46:33Z\n",
              "110499 9.43365e+13  5787655       F      2016-06-08T10:21:14Z\n",
              "110500 8.21969e+14  5757697       F      2016-06-01T09:42:56Z\n",
              "110501 4.43438e+14  5787233       F      2016-06-08T09:35:13Z\n",
              "110502 4.54425e+11  5758133       M      2016-06-01T10:19:12Z\n",
              "110503 7.31623e+14  5787937       F      2016-06-08T10:50:42Z\n",
              "110504 2.36218e+13  5759473       F      2016-06-01T13:00:36Z\n",
              "110505 9.94798e+12  5788052       F      2016-06-08T11:06:21Z\n",
              "110506 5.66734e+13  5758455       F      2016-06-01T10:45:50Z\n",
              "110507 8.97388e+11  5758779       M      2016-06-01T11:09:20Z\n",
              "110508 4.76946e+14  5786918       F      2016-06-08T09:04:18Z\n",
              "110509 9.43365e+13  5757656       F      2016-06-01T09:41:00Z\n",
              "110510 4.95297e+14  5786750       M      2016-06-08T08:50:51Z\n",
              "110511 2.36218e+13  5757587       F      2016-06-01T09:35:48Z\n",
              "110512 8.23600e+11  5786742       F      2016-06-08T08:50:20Z\n",
              "110513 9.87625e+13  5786368       F      2016-06-08T08:20:01Z\n",
              "110514 8.67478e+13  5785964       M      2016-06-08T07:52:55Z\n",
              "110515 2.69569e+12  5786567       F      2016-06-08T08:35:31Z\n",
              "110516 6.45634e+14  5778621       M      2016-06-06T15:58:05Z\n",
              "110517 6.92377e+13  5780205       F      2016-06-07T07:45:16Z\n",
              "110518 5.57494e+12  5780122       F      2016-06-07T07:38:34Z\n",
              "110519 7.26331e+13  5630375       F      2016-04-27T15:15:06Z\n",
              "110520 6.54239e+13  5630447       F      2016-04-27T15:23:14Z\n",
              "110521 9.96998e+14  5650534       F      2016-05-03T07:51:47Z\n",
              "110522 3.63553e+13  5651072       F      2016-05-03T08:23:40Z\n",
              "110523 2.57213e+12  5651768       F      2016-05-03T09:15:35Z\n",
              "110524 3.59627e+12  5650093       F      2016-05-03T07:27:33Z\n",
              "110525 1.55766e+13  5630692       F      2016-04-27T16:03:52Z\n",
              "110526 9.21349e+13  5630323       F      2016-04-27T15:09:23Z\n",
              "110527 3.77512e+14  5629448       F      2016-04-27T13:30:56Z\n",
              "       AppointmentDay       Age Neighbourhood     Scholarship Hipertension\n",
              "1      2016-04-29T00:00:00Z 62  JARDIM DA PENHA   0           1           \n",
              "2      2016-04-29T00:00:00Z 56  JARDIM DA PENHA   0           0           \n",
              "3      2016-04-29T00:00:00Z 62  MATA DA PRAIA     0           0           \n",
              "4      2016-04-29T00:00:00Z  8  PONTAL DE CAMBURI 0           0           \n",
              "5      2016-04-29T00:00:00Z 56  JARDIM DA PENHA   0           1           \n",
              "6      2016-04-29T00:00:00Z 76  REPÚBLICA         0           1           \n",
              "7      2016-04-29T00:00:00Z 23  GOIABEIRAS        0           0           \n",
              "8      2016-04-29T00:00:00Z 39  GOIABEIRAS        0           0           \n",
              "9      2016-04-29T00:00:00Z 21  ANDORINHAS        0           0           \n",
              "10     2016-04-29T00:00:00Z 19  CONQUISTA         0           0           \n",
              "11     2016-04-29T00:00:00Z 30  NOVA PALESTINA    0           0           \n",
              "12     2016-04-29T00:00:00Z 29  NOVA PALESTINA    0           0           \n",
              "13     2016-04-29T00:00:00Z 22  NOVA PALESTINA    1           0           \n",
              "14     2016-04-29T00:00:00Z 28  NOVA PALESTINA    0           0           \n",
              "16     2016-04-29T00:00:00Z 15  NOVA PALESTINA    0           0           \n",
              "17     2016-04-29T00:00:00Z 50  NOVA PALESTINA    0           0           \n",
              "18     2016-04-29T00:00:00Z 40  CONQUISTA         1           0           \n",
              "19     2016-04-29T00:00:00Z 30  NOVA PALESTINA    1           0           \n",
              "20     2016-04-29T00:00:00Z 46  DA PENHA          0           0           \n",
              "21     2016-04-29T00:00:00Z 30  NOVA PALESTINA    0           0           \n",
              "22     2016-04-29T00:00:00Z  4  CONQUISTA         0           0           \n",
              "23     2016-04-29T00:00:00Z 13  CONQUISTA         0           0           \n",
              "24     2016-04-29T00:00:00Z 46  CONQUISTA         0           0           \n",
              "25     2016-04-29T00:00:00Z 65  TABUAZEIRO        0           0           \n",
              "26     2016-04-29T00:00:00Z 46  CONQUISTA         0           1           \n",
              "27     2016-04-29T00:00:00Z 45  BENTO FERREIRA    0           1           \n",
              "28     2016-04-29T00:00:00Z  4  CONQUISTA         0           0           \n",
              "29     2016-04-29T00:00:00Z 51  SÃO PEDRO         0           0           \n",
              "31     2016-04-29T00:00:00Z 46  NOVA PALESTINA    0           0           \n",
              "32     2016-04-29T00:00:00Z 12  NOVA PALESTINA    1           0           \n",
              "⋮      ⋮                    ⋮   ⋮                 ⋮           ⋮           \n",
              "110498 2016-06-01T00:00:00Z 76  MARIA ORTIZ       0           0           \n",
              "110499 2016-06-08T00:00:00Z 59  MARIA ORTIZ       0           0           \n",
              "110500 2016-06-01T00:00:00Z 66  MARIA ORTIZ       0           1           \n",
              "110501 2016-06-08T00:00:00Z 59  MARIA ORTIZ       0           0           \n",
              "110502 2016-06-01T00:00:00Z 44  MARIA ORTIZ       0           0           \n",
              "110503 2016-06-08T00:00:00Z 22  GOIABEIRAS        0           0           \n",
              "110504 2016-06-01T00:00:00Z 64  SOLON BORGES      0           0           \n",
              "110505 2016-06-08T00:00:00Z  4  MARIA ORTIZ       0           0           \n",
              "110506 2016-06-01T00:00:00Z 55  MARIA ORTIZ       0           0           \n",
              "110507 2016-06-01T00:00:00Z  5  MARIA ORTIZ       0           0           \n",
              "110508 2016-06-08T00:00:00Z  0  MARIA ORTIZ       0           0           \n",
              "110509 2016-06-01T00:00:00Z 59  MARIA ORTIZ       0           0           \n",
              "110510 2016-06-08T00:00:00Z 33  MARIA ORTIZ       0           0           \n",
              "110511 2016-06-01T00:00:00Z 64  SOLON BORGES      0           0           \n",
              "110512 2016-06-08T00:00:00Z 14  MARIA ORTIZ       0           0           \n",
              "110513 2016-06-08T00:00:00Z 41  MARIA ORTIZ       0           0           \n",
              "110514 2016-06-08T00:00:00Z  2  ANTÔNIO HONÓRIO   0           0           \n",
              "110515 2016-06-08T00:00:00Z 58  MARIA ORTIZ       0           0           \n",
              "110516 2016-06-08T00:00:00Z 33  MARIA ORTIZ       0           1           \n",
              "110517 2016-06-08T00:00:00Z 37  MARIA ORTIZ       0           0           \n",
              "110518 2016-06-07T00:00:00Z 19  MARIA ORTIZ       0           0           \n",
              "110519 2016-06-07T00:00:00Z 50  MARIA ORTIZ       0           0           \n",
              "110520 2016-06-07T00:00:00Z 22  MARIA ORTIZ       0           0           \n",
              "110521 2016-06-07T00:00:00Z 42  MARIA ORTIZ       0           0           \n",
              "110522 2016-06-07T00:00:00Z 53  MARIA ORTIZ       0           0           \n",
              "110523 2016-06-07T00:00:00Z 56  MARIA ORTIZ       0           0           \n",
              "110524 2016-06-07T00:00:00Z 51  MARIA ORTIZ       0           0           \n",
              "110525 2016-06-07T00:00:00Z 21  MARIA ORTIZ       0           0           \n",
              "110526 2016-06-07T00:00:00Z 38  MARIA ORTIZ       0           0           \n",
              "110527 2016-06-07T00:00:00Z 54  MARIA ORTIZ       0           0           \n",
              "       Diabetes Alcoholism Handcap SMS_received No.show AwaitingTime\n",
              "1      0        0          0       0            No      0           \n",
              "2      0        0          0       0            No      0           \n",
              "3      0        0          0       0            No      0           \n",
              "4      0        0          0       0            No      0           \n",
              "5      1        0          0       0            No      0           \n",
              "6      0        0          0       0            No      2           \n",
              "7      0        0          0       0            Yes     2           \n",
              "8      0        0          0       0            Yes     2           \n",
              "9      0        0          0       0            No      0           \n",
              "10     0        0          0       0            No      2           \n",
              "11     0        0          0       0            No      2           \n",
              "12     0        0          0       1            Yes     3           \n",
              "13     0        0          0       0            No      1           \n",
              "14     0        0          0       0            No      1           \n",
              "16     0        0          0       1            No      3           \n",
              "17     0        0          0       0            No      1           \n",
              "18     0        0          0       0            Yes     1           \n",
              "19     0        0          0       1            No      3           \n",
              "20     0        0          0       0            No      0           \n",
              "21     0        0          0       0            Yes     2           \n",
              "22     0        0          0       0            Yes     2           \n",
              "23     0        0          0       1            Yes     4           \n",
              "24     0        0          0       0            No      1           \n",
              "25     0        0          0       0            No      0           \n",
              "26     0        0          0       1            No      3           \n",
              "27     0        0          0       0            No      0           \n",
              "28     0        0          0       0            No      2           \n",
              "29     0        0          0       0            No      0           \n",
              "31     0        0          0       0            No      2           \n",
              "32     0        0          0       0            Yes     2           \n",
              "⋮      ⋮        ⋮          ⋮       ⋮            ⋮       ⋮           \n",
              "110498 0        0          0       0            No       0          \n",
              "110499 0        0          0       0            No       0          \n",
              "110500 1        0          0       0            No       0          \n",
              "110501 0        0          0       0            No       0          \n",
              "110502 0        0          0       0            No       0          \n",
              "110503 0        0          0       0            No       0          \n",
              "110504 0        0          0       0            No       0          \n",
              "110505 0        0          0       0            No       0          \n",
              "110506 0        0          0       0            No       0          \n",
              "110507 0        0          0       0            No       0          \n",
              "110508 0        0          0       0            No       0          \n",
              "110509 0        0          0       0            No       0          \n",
              "110510 0        0          0       0            No       0          \n",
              "110511 0        0          0       0            No       0          \n",
              "110512 0        0          0       0            No       0          \n",
              "110513 0        0          0       0            No       0          \n",
              "110514 0        0          0       0            No       0          \n",
              "110515 0        0          0       0            No       0          \n",
              "110516 0        0          0       0            Yes      2          \n",
              "110517 0        0          0       0            Yes      1          \n",
              "110518 0        0          0       0            No       0          \n",
              "110519 0        0          0       1            No      41          \n",
              "110520 0        0          0       1            No      41          \n",
              "110521 0        0          0       1            No      35          \n",
              "110522 0        0          0       1            No      35          \n",
              "110523 0        0          0       1            No      35          \n",
              "110524 0        0          0       1            No      35          \n",
              "110525 0        0          0       1            No      41          \n",
              "110526 0        0          0       1            No      41          \n",
              "110527 0        0          0       1            No      41          "
            ]
          },
          "metadata": {}
        }
      ],
      "source": [
        "#4\n",
        "data_after_null$AwaitingTime<-as.numeric(difftime(as.POSIXct(data_after_null$ScheduledDay,tz = \"UTC\"), as.POSIXct(data_after_null$AppointmentDay,tz = \"UTC\"),units = \"day\"))\n",
        "data_after_null$AwaitingTime <- abs(data_after_null$AwaitingTime)\n",
        "data_after_null\n",
        "#data_after_null$AwaitingTime <- gsub(\"day\", \"\", data_after_null$AwaitingTime)"
      ]
    },
    {
      "cell_type": "code",
      "execution_count": 123,
      "metadata": {
        "colab": {
          "base_uri": "https://localhost:8080/",
          "height": 1000
        },
        "id": "ZFkLjMooBkrn",
        "outputId": "8337caf7-816d-484b-af17-9e6c36aba562"
      },
      "outputs": [
        {
          "output_type": "display_data",
          "data": {
            "text/html": [
              "<table class=\"dataframe\">\n",
              "<caption>A data.frame: 110523 × 15</caption>\n",
              "<thead>\n",
              "\t<tr><th></th><th scope=col>PatientId</th><th scope=col>AppointmentID</th><th scope=col>Gender</th><th scope=col>ScheduledDay</th><th scope=col>AppointmentDay</th><th scope=col>Age</th><th scope=col>Neighbourhood</th><th scope=col>Scholarship</th><th scope=col>Hipertension</th><th scope=col>Diabetes</th><th scope=col>Alcoholism</th><th scope=col>Handcap</th><th scope=col>SMS_received</th><th scope=col>No.show</th><th scope=col>AwaitingTime</th></tr>\n",
              "\t<tr><th></th><th scope=col>&lt;dbl&gt;</th><th scope=col>&lt;int&gt;</th><th scope=col>&lt;dbl&gt;</th><th scope=col>&lt;chr&gt;</th><th scope=col>&lt;chr&gt;</th><th scope=col>&lt;int&gt;</th><th scope=col>&lt;int&gt;</th><th scope=col>&lt;int&gt;</th><th scope=col>&lt;int&gt;</th><th scope=col>&lt;int&gt;</th><th scope=col>&lt;int&gt;</th><th scope=col>&lt;int&gt;</th><th scope=col>&lt;int&gt;</th><th scope=col>&lt;dbl&gt;</th><th scope=col>&lt;dbl&gt;</th></tr>\n",
              "</thead>\n",
              "<tbody>\n",
              "\t<tr><th scope=row>1</th><td>2.987250e+13</td><td>5642903</td><td>0</td><td>2016-04-29T18:38:08Z</td><td>2016-04-29T00:00:00Z</td><td>62</td><td>40</td><td>0</td><td>1</td><td>0</td><td>0</td><td>0</td><td>0</td><td>0</td><td>0</td></tr>\n",
              "\t<tr><th scope=row>2</th><td>5.589980e+14</td><td>5642503</td><td>1</td><td>2016-04-29T16:08:27Z</td><td>2016-04-29T00:00:00Z</td><td>56</td><td>40</td><td>0</td><td>0</td><td>0</td><td>0</td><td>0</td><td>0</td><td>0</td><td>0</td></tr>\n",
              "\t<tr><th scope=row>3</th><td>4.262960e+12</td><td>5642549</td><td>0</td><td>2016-04-29T16:19:04Z</td><td>2016-04-29T00:00:00Z</td><td>62</td><td>47</td><td>0</td><td>0</td><td>0</td><td>0</td><td>0</td><td>0</td><td>0</td><td>0</td></tr>\n",
              "\t<tr><th scope=row>4</th><td>8.679510e+11</td><td>5642828</td><td>0</td><td>2016-04-29T17:29:31Z</td><td>2016-04-29T00:00:00Z</td><td> 8</td><td>55</td><td>0</td><td>0</td><td>0</td><td>0</td><td>0</td><td>0</td><td>0</td><td>0</td></tr>\n",
              "\t<tr><th scope=row>5</th><td>8.841190e+12</td><td>5642494</td><td>0</td><td>2016-04-29T16:07:23Z</td><td>2016-04-29T00:00:00Z</td><td>56</td><td>40</td><td>0</td><td>1</td><td>1</td><td>0</td><td>0</td><td>0</td><td>0</td><td>0</td></tr>\n",
              "\t<tr><th scope=row>6</th><td>9.598510e+13</td><td>5626772</td><td>0</td><td>2016-04-27T08:36:51Z</td><td>2016-04-29T00:00:00Z</td><td>76</td><td>59</td><td>0</td><td>1</td><td>0</td><td>0</td><td>0</td><td>0</td><td>0</td><td>2</td></tr>\n",
              "\t<tr><th scope=row>7</th><td>7.336880e+14</td><td>5630279</td><td>0</td><td>2016-04-27T15:05:12Z</td><td>2016-04-29T00:00:00Z</td><td>23</td><td>26</td><td>0</td><td>0</td><td>0</td><td>0</td><td>0</td><td>0</td><td>1</td><td>2</td></tr>\n",
              "\t<tr><th scope=row>8</th><td>3.449830e+12</td><td>5630575</td><td>0</td><td>2016-04-27T15:39:58Z</td><td>2016-04-29T00:00:00Z</td><td>39</td><td>26</td><td>0</td><td>0</td><td>0</td><td>0</td><td>0</td><td>0</td><td>1</td><td>2</td></tr>\n",
              "\t<tr><th scope=row>9</th><td>5.639470e+13</td><td>5638447</td><td>0</td><td>2016-04-29T08:02:16Z</td><td>2016-04-29T00:00:00Z</td><td>21</td><td> 2</td><td>0</td><td>0</td><td>0</td><td>0</td><td>0</td><td>0</td><td>0</td><td>0</td></tr>\n",
              "\t<tr><th scope=row>10</th><td>7.812460e+13</td><td>5629123</td><td>0</td><td>2016-04-27T12:48:25Z</td><td>2016-04-29T00:00:00Z</td><td>19</td><td>13</td><td>0</td><td>0</td><td>0</td><td>0</td><td>0</td><td>0</td><td>0</td><td>2</td></tr>\n",
              "\t<tr><th scope=row>11</th><td>7.345360e+14</td><td>5630213</td><td>0</td><td>2016-04-27T14:58:11Z</td><td>2016-04-29T00:00:00Z</td><td>30</td><td>51</td><td>0</td><td>0</td><td>0</td><td>0</td><td>0</td><td>0</td><td>0</td><td>2</td></tr>\n",
              "\t<tr><th scope=row>12</th><td>7.542950e+12</td><td>5620163</td><td>1</td><td>2016-04-26T08:44:12Z</td><td>2016-04-29T00:00:00Z</td><td>29</td><td>51</td><td>0</td><td>0</td><td>0</td><td>0</td><td>0</td><td>1</td><td>1</td><td>3</td></tr>\n",
              "\t<tr><th scope=row>13</th><td>5.666550e+14</td><td>5634718</td><td>0</td><td>2016-04-28T11:33:51Z</td><td>2016-04-29T00:00:00Z</td><td>22</td><td>51</td><td>1</td><td>0</td><td>0</td><td>0</td><td>0</td><td>0</td><td>0</td><td>1</td></tr>\n",
              "\t<tr><th scope=row>14</th><td>9.113950e+14</td><td>5636249</td><td>1</td><td>2016-04-28T14:52:07Z</td><td>2016-04-29T00:00:00Z</td><td>28</td><td>51</td><td>0</td><td>0</td><td>0</td><td>0</td><td>0</td><td>0</td><td>0</td><td>1</td></tr>\n",
              "\t<tr><th scope=row>16</th><td>9.994839e+10</td><td>5620206</td><td>0</td><td>2016-04-26T08:47:27Z</td><td>2016-04-29T00:00:00Z</td><td>15</td><td>51</td><td>0</td><td>0</td><td>0</td><td>0</td><td>0</td><td>1</td><td>0</td><td>3</td></tr>\n",
              "\t<tr><th scope=row>17</th><td>8.457440e+13</td><td>5633121</td><td>1</td><td>2016-04-28T08:51:47Z</td><td>2016-04-29T00:00:00Z</td><td>50</td><td>51</td><td>0</td><td>0</td><td>0</td><td>0</td><td>0</td><td>0</td><td>0</td><td>1</td></tr>\n",
              "\t<tr><th scope=row>18</th><td>1.479500e+13</td><td>5633460</td><td>0</td><td>2016-04-28T09:28:57Z</td><td>2016-04-29T00:00:00Z</td><td>40</td><td>13</td><td>1</td><td>0</td><td>0</td><td>0</td><td>0</td><td>0</td><td>1</td><td>1</td></tr>\n",
              "\t<tr><th scope=row>19</th><td>1.713540e+13</td><td>5621836</td><td>0</td><td>2016-04-26T10:54:18Z</td><td>2016-04-29T00:00:00Z</td><td>30</td><td>51</td><td>1</td><td>0</td><td>0</td><td>0</td><td>0</td><td>1</td><td>0</td><td>3</td></tr>\n",
              "\t<tr><th scope=row>20</th><td>7.223290e+12</td><td>5640433</td><td>0</td><td>2016-04-29T10:43:14Z</td><td>2016-04-29T00:00:00Z</td><td>46</td><td>16</td><td>0</td><td>0</td><td>0</td><td>0</td><td>0</td><td>0</td><td>0</td><td>0</td></tr>\n",
              "\t<tr><th scope=row>21</th><td>6.222570e+14</td><td>5626083</td><td>0</td><td>2016-04-27T07:51:14Z</td><td>2016-04-29T00:00:00Z</td><td>30</td><td>51</td><td>0</td><td>0</td><td>0</td><td>0</td><td>0</td><td>0</td><td>1</td><td>2</td></tr>\n",
              "\t<tr><th scope=row>22</th><td>1.215480e+13</td><td>5628338</td><td>0</td><td>2016-04-27T10:50:45Z</td><td>2016-04-29T00:00:00Z</td><td> 4</td><td>13</td><td>0</td><td>0</td><td>0</td><td>0</td><td>0</td><td>0</td><td>1</td><td>2</td></tr>\n",
              "\t<tr><th scope=row>23</th><td>8.632300e+14</td><td>5616091</td><td>1</td><td>2016-04-25T13:29:16Z</td><td>2016-04-29T00:00:00Z</td><td>13</td><td>13</td><td>0</td><td>0</td><td>0</td><td>0</td><td>0</td><td>1</td><td>1</td><td>4</td></tr>\n",
              "\t<tr><th scope=row>24</th><td>2.137540e+14</td><td>5634142</td><td>0</td><td>2016-04-28T10:27:05Z</td><td>2016-04-29T00:00:00Z</td><td>46</td><td>13</td><td>0</td><td>0</td><td>0</td><td>0</td><td>0</td><td>0</td><td>0</td><td>1</td></tr>\n",
              "\t<tr><th scope=row>25</th><td>8.734860e+12</td><td>5641780</td><td>0</td><td>2016-04-29T14:19:19Z</td><td>2016-04-29T00:00:00Z</td><td>65</td><td>79</td><td>0</td><td>0</td><td>0</td><td>0</td><td>0</td><td>0</td><td>0</td><td>0</td></tr>\n",
              "\t<tr><th scope=row>26</th><td>5.819370e+12</td><td>5624020</td><td>1</td><td>2016-04-26T15:04:17Z</td><td>2016-04-29T00:00:00Z</td><td>46</td><td>13</td><td>0</td><td>1</td><td>0</td><td>0</td><td>0</td><td>1</td><td>0</td><td>3</td></tr>\n",
              "\t<tr><th scope=row>27</th><td>2.578785e+10</td><td>5641781</td><td>0</td><td>2016-04-29T14:19:42Z</td><td>2016-04-29T00:00:00Z</td><td>45</td><td> 7</td><td>0</td><td>1</td><td>0</td><td>0</td><td>0</td><td>0</td><td>0</td><td>0</td></tr>\n",
              "\t<tr><th scope=row>28</th><td>1.215480e+13</td><td>5628345</td><td>0</td><td>2016-04-27T10:51:45Z</td><td>2016-04-29T00:00:00Z</td><td> 4</td><td>13</td><td>0</td><td>0</td><td>0</td><td>0</td><td>0</td><td>0</td><td>0</td><td>2</td></tr>\n",
              "\t<tr><th scope=row>29</th><td>5.926170e+12</td><td>5642400</td><td>1</td><td>2016-04-29T15:48:02Z</td><td>2016-04-29T00:00:00Z</td><td>51</td><td>76</td><td>0</td><td>0</td><td>0</td><td>0</td><td>0</td><td>0</td><td>0</td><td>0</td></tr>\n",
              "\t<tr><th scope=row>31</th><td>3.428160e+11</td><td>5628068</td><td>0</td><td>2016-04-27T10:24:52Z</td><td>2016-04-29T00:00:00Z</td><td>46</td><td>51</td><td>0</td><td>0</td><td>0</td><td>0</td><td>0</td><td>0</td><td>0</td><td>2</td></tr>\n",
              "\t<tr><th scope=row>32</th><td>3.112850e+11</td><td>5628907</td><td>1</td><td>2016-04-27T12:07:14Z</td><td>2016-04-29T00:00:00Z</td><td>12</td><td>51</td><td>1</td><td>0</td><td>0</td><td>0</td><td>0</td><td>0</td><td>1</td><td>2</td></tr>\n",
              "\t<tr><th scope=row>⋮</th><td>⋮</td><td>⋮</td><td>⋮</td><td>⋮</td><td>⋮</td><td>⋮</td><td>⋮</td><td>⋮</td><td>⋮</td><td>⋮</td><td>⋮</td><td>⋮</td><td>⋮</td><td>⋮</td><td>⋮</td></tr>\n",
              "\t<tr><th scope=row>110498</th><td>7.93589e+14</td><td>5757745</td><td>1</td><td>2016-06-01T09:46:33Z</td><td>2016-06-01T00:00:00Z</td><td>76</td><td>44</td><td>0</td><td>0</td><td>0</td><td>0</td><td>0</td><td>0</td><td>0</td><td> 0</td></tr>\n",
              "\t<tr><th scope=row>110499</th><td>9.43365e+13</td><td>5787655</td><td>0</td><td>2016-06-08T10:21:14Z</td><td>2016-06-08T00:00:00Z</td><td>59</td><td>44</td><td>0</td><td>0</td><td>0</td><td>0</td><td>0</td><td>0</td><td>0</td><td> 0</td></tr>\n",
              "\t<tr><th scope=row>110500</th><td>8.21969e+14</td><td>5757697</td><td>0</td><td>2016-06-01T09:42:56Z</td><td>2016-06-01T00:00:00Z</td><td>66</td><td>44</td><td>0</td><td>1</td><td>1</td><td>0</td><td>0</td><td>0</td><td>0</td><td> 0</td></tr>\n",
              "\t<tr><th scope=row>110501</th><td>4.43438e+14</td><td>5787233</td><td>0</td><td>2016-06-08T09:35:13Z</td><td>2016-06-08T00:00:00Z</td><td>59</td><td>44</td><td>0</td><td>0</td><td>0</td><td>0</td><td>0</td><td>0</td><td>0</td><td> 0</td></tr>\n",
              "\t<tr><th scope=row>110502</th><td>4.54425e+11</td><td>5758133</td><td>1</td><td>2016-06-01T10:19:12Z</td><td>2016-06-01T00:00:00Z</td><td>44</td><td>44</td><td>0</td><td>0</td><td>0</td><td>0</td><td>0</td><td>0</td><td>0</td><td> 0</td></tr>\n",
              "\t<tr><th scope=row>110503</th><td>7.31623e+14</td><td>5787937</td><td>0</td><td>2016-06-08T10:50:42Z</td><td>2016-06-08T00:00:00Z</td><td>22</td><td>26</td><td>0</td><td>0</td><td>0</td><td>0</td><td>0</td><td>0</td><td>0</td><td> 0</td></tr>\n",
              "\t<tr><th scope=row>110504</th><td>2.36218e+13</td><td>5759473</td><td>0</td><td>2016-06-01T13:00:36Z</td><td>2016-06-01T00:00:00Z</td><td>64</td><td>78</td><td>0</td><td>0</td><td>0</td><td>0</td><td>0</td><td>0</td><td>0</td><td> 0</td></tr>\n",
              "\t<tr><th scope=row>110505</th><td>9.94798e+12</td><td>5788052</td><td>0</td><td>2016-06-08T11:06:21Z</td><td>2016-06-08T00:00:00Z</td><td> 4</td><td>44</td><td>0</td><td>0</td><td>0</td><td>0</td><td>0</td><td>0</td><td>0</td><td> 0</td></tr>\n",
              "\t<tr><th scope=row>110506</th><td>5.66734e+13</td><td>5758455</td><td>0</td><td>2016-06-01T10:45:50Z</td><td>2016-06-01T00:00:00Z</td><td>55</td><td>44</td><td>0</td><td>0</td><td>0</td><td>0</td><td>0</td><td>0</td><td>0</td><td> 0</td></tr>\n",
              "\t<tr><th scope=row>110507</th><td>8.97388e+11</td><td>5758779</td><td>1</td><td>2016-06-01T11:09:20Z</td><td>2016-06-01T00:00:00Z</td><td> 5</td><td>44</td><td>0</td><td>0</td><td>0</td><td>0</td><td>0</td><td>0</td><td>0</td><td> 0</td></tr>\n",
              "\t<tr><th scope=row>110508</th><td>4.76946e+14</td><td>5786918</td><td>0</td><td>2016-06-08T09:04:18Z</td><td>2016-06-08T00:00:00Z</td><td> 0</td><td>44</td><td>0</td><td>0</td><td>0</td><td>0</td><td>0</td><td>0</td><td>0</td><td> 0</td></tr>\n",
              "\t<tr><th scope=row>110509</th><td>9.43365e+13</td><td>5757656</td><td>0</td><td>2016-06-01T09:41:00Z</td><td>2016-06-01T00:00:00Z</td><td>59</td><td>44</td><td>0</td><td>0</td><td>0</td><td>0</td><td>0</td><td>0</td><td>0</td><td> 0</td></tr>\n",
              "\t<tr><th scope=row>110510</th><td>4.95297e+14</td><td>5786750</td><td>1</td><td>2016-06-08T08:50:51Z</td><td>2016-06-08T00:00:00Z</td><td>33</td><td>44</td><td>0</td><td>0</td><td>0</td><td>0</td><td>0</td><td>0</td><td>0</td><td> 0</td></tr>\n",
              "\t<tr><th scope=row>110511</th><td>2.36218e+13</td><td>5757587</td><td>0</td><td>2016-06-01T09:35:48Z</td><td>2016-06-01T00:00:00Z</td><td>64</td><td>78</td><td>0</td><td>0</td><td>0</td><td>0</td><td>0</td><td>0</td><td>0</td><td> 0</td></tr>\n",
              "\t<tr><th scope=row>110512</th><td>8.23600e+11</td><td>5786742</td><td>0</td><td>2016-06-08T08:50:20Z</td><td>2016-06-08T00:00:00Z</td><td>14</td><td>44</td><td>0</td><td>0</td><td>0</td><td>0</td><td>0</td><td>0</td><td>0</td><td> 0</td></tr>\n",
              "\t<tr><th scope=row>110513</th><td>9.87625e+13</td><td>5786368</td><td>0</td><td>2016-06-08T08:20:01Z</td><td>2016-06-08T00:00:00Z</td><td>41</td><td>44</td><td>0</td><td>0</td><td>0</td><td>0</td><td>0</td><td>0</td><td>0</td><td> 0</td></tr>\n",
              "\t<tr><th scope=row>110514</th><td>8.67478e+13</td><td>5785964</td><td>1</td><td>2016-06-08T07:52:55Z</td><td>2016-06-08T00:00:00Z</td><td> 2</td><td> 3</td><td>0</td><td>0</td><td>0</td><td>0</td><td>0</td><td>0</td><td>0</td><td> 0</td></tr>\n",
              "\t<tr><th scope=row>110515</th><td>2.69569e+12</td><td>5786567</td><td>0</td><td>2016-06-08T08:35:31Z</td><td>2016-06-08T00:00:00Z</td><td>58</td><td>44</td><td>0</td><td>0</td><td>0</td><td>0</td><td>0</td><td>0</td><td>0</td><td> 0</td></tr>\n",
              "\t<tr><th scope=row>110516</th><td>6.45634e+14</td><td>5778621</td><td>1</td><td>2016-06-06T15:58:05Z</td><td>2016-06-08T00:00:00Z</td><td>33</td><td>44</td><td>0</td><td>1</td><td>0</td><td>0</td><td>0</td><td>0</td><td>1</td><td> 2</td></tr>\n",
              "\t<tr><th scope=row>110517</th><td>6.92377e+13</td><td>5780205</td><td>0</td><td>2016-06-07T07:45:16Z</td><td>2016-06-08T00:00:00Z</td><td>37</td><td>44</td><td>0</td><td>0</td><td>0</td><td>0</td><td>0</td><td>0</td><td>1</td><td> 1</td></tr>\n",
              "\t<tr><th scope=row>110518</th><td>5.57494e+12</td><td>5780122</td><td>0</td><td>2016-06-07T07:38:34Z</td><td>2016-06-07T00:00:00Z</td><td>19</td><td>44</td><td>0</td><td>0</td><td>0</td><td>0</td><td>0</td><td>0</td><td>0</td><td> 0</td></tr>\n",
              "\t<tr><th scope=row>110519</th><td>7.26331e+13</td><td>5630375</td><td>0</td><td>2016-04-27T15:15:06Z</td><td>2016-06-07T00:00:00Z</td><td>50</td><td>44</td><td>0</td><td>0</td><td>0</td><td>0</td><td>0</td><td>1</td><td>0</td><td>41</td></tr>\n",
              "\t<tr><th scope=row>110520</th><td>6.54239e+13</td><td>5630447</td><td>0</td><td>2016-04-27T15:23:14Z</td><td>2016-06-07T00:00:00Z</td><td>22</td><td>44</td><td>0</td><td>0</td><td>0</td><td>0</td><td>0</td><td>1</td><td>0</td><td>41</td></tr>\n",
              "\t<tr><th scope=row>110521</th><td>9.96998e+14</td><td>5650534</td><td>0</td><td>2016-05-03T07:51:47Z</td><td>2016-06-07T00:00:00Z</td><td>42</td><td>44</td><td>0</td><td>0</td><td>0</td><td>0</td><td>0</td><td>1</td><td>0</td><td>35</td></tr>\n",
              "\t<tr><th scope=row>110522</th><td>3.63553e+13</td><td>5651072</td><td>0</td><td>2016-05-03T08:23:40Z</td><td>2016-06-07T00:00:00Z</td><td>53</td><td>44</td><td>0</td><td>0</td><td>0</td><td>0</td><td>0</td><td>1</td><td>0</td><td>35</td></tr>\n",
              "\t<tr><th scope=row>110523</th><td>2.57213e+12</td><td>5651768</td><td>0</td><td>2016-05-03T09:15:35Z</td><td>2016-06-07T00:00:00Z</td><td>56</td><td>44</td><td>0</td><td>0</td><td>0</td><td>0</td><td>0</td><td>1</td><td>0</td><td>35</td></tr>\n",
              "\t<tr><th scope=row>110524</th><td>3.59627e+12</td><td>5650093</td><td>0</td><td>2016-05-03T07:27:33Z</td><td>2016-06-07T00:00:00Z</td><td>51</td><td>44</td><td>0</td><td>0</td><td>0</td><td>0</td><td>0</td><td>1</td><td>0</td><td>35</td></tr>\n",
              "\t<tr><th scope=row>110525</th><td>1.55766e+13</td><td>5630692</td><td>0</td><td>2016-04-27T16:03:52Z</td><td>2016-06-07T00:00:00Z</td><td>21</td><td>44</td><td>0</td><td>0</td><td>0</td><td>0</td><td>0</td><td>1</td><td>0</td><td>41</td></tr>\n",
              "\t<tr><th scope=row>110526</th><td>9.21349e+13</td><td>5630323</td><td>0</td><td>2016-04-27T15:09:23Z</td><td>2016-06-07T00:00:00Z</td><td>38</td><td>44</td><td>0</td><td>0</td><td>0</td><td>0</td><td>0</td><td>1</td><td>0</td><td>41</td></tr>\n",
              "\t<tr><th scope=row>110527</th><td>3.77512e+14</td><td>5629448</td><td>0</td><td>2016-04-27T13:30:56Z</td><td>2016-06-07T00:00:00Z</td><td>54</td><td>44</td><td>0</td><td>0</td><td>0</td><td>0</td><td>0</td><td>1</td><td>0</td><td>41</td></tr>\n",
              "</tbody>\n",
              "</table>\n"
            ],
            "text/markdown": "\nA data.frame: 110523 × 15\n\n| <!--/--> | PatientId &lt;dbl&gt; | AppointmentID &lt;int&gt; | Gender &lt;dbl&gt; | ScheduledDay &lt;chr&gt; | AppointmentDay &lt;chr&gt; | Age &lt;int&gt; | Neighbourhood &lt;int&gt; | Scholarship &lt;int&gt; | Hipertension &lt;int&gt; | Diabetes &lt;int&gt; | Alcoholism &lt;int&gt; | Handcap &lt;int&gt; | SMS_received &lt;int&gt; | No.show &lt;dbl&gt; | AwaitingTime &lt;dbl&gt; |\n|---|---|---|---|---|---|---|---|---|---|---|---|---|---|---|---|\n| 1 | 2.987250e+13 | 5642903 | 0 | 2016-04-29T18:38:08Z | 2016-04-29T00:00:00Z | 62 | 40 | 0 | 1 | 0 | 0 | 0 | 0 | 0 | 0 |\n| 2 | 5.589980e+14 | 5642503 | 1 | 2016-04-29T16:08:27Z | 2016-04-29T00:00:00Z | 56 | 40 | 0 | 0 | 0 | 0 | 0 | 0 | 0 | 0 |\n| 3 | 4.262960e+12 | 5642549 | 0 | 2016-04-29T16:19:04Z | 2016-04-29T00:00:00Z | 62 | 47 | 0 | 0 | 0 | 0 | 0 | 0 | 0 | 0 |\n| 4 | 8.679510e+11 | 5642828 | 0 | 2016-04-29T17:29:31Z | 2016-04-29T00:00:00Z |  8 | 55 | 0 | 0 | 0 | 0 | 0 | 0 | 0 | 0 |\n| 5 | 8.841190e+12 | 5642494 | 0 | 2016-04-29T16:07:23Z | 2016-04-29T00:00:00Z | 56 | 40 | 0 | 1 | 1 | 0 | 0 | 0 | 0 | 0 |\n| 6 | 9.598510e+13 | 5626772 | 0 | 2016-04-27T08:36:51Z | 2016-04-29T00:00:00Z | 76 | 59 | 0 | 1 | 0 | 0 | 0 | 0 | 0 | 2 |\n| 7 | 7.336880e+14 | 5630279 | 0 | 2016-04-27T15:05:12Z | 2016-04-29T00:00:00Z | 23 | 26 | 0 | 0 | 0 | 0 | 0 | 0 | 1 | 2 |\n| 8 | 3.449830e+12 | 5630575 | 0 | 2016-04-27T15:39:58Z | 2016-04-29T00:00:00Z | 39 | 26 | 0 | 0 | 0 | 0 | 0 | 0 | 1 | 2 |\n| 9 | 5.639470e+13 | 5638447 | 0 | 2016-04-29T08:02:16Z | 2016-04-29T00:00:00Z | 21 |  2 | 0 | 0 | 0 | 0 | 0 | 0 | 0 | 0 |\n| 10 | 7.812460e+13 | 5629123 | 0 | 2016-04-27T12:48:25Z | 2016-04-29T00:00:00Z | 19 | 13 | 0 | 0 | 0 | 0 | 0 | 0 | 0 | 2 |\n| 11 | 7.345360e+14 | 5630213 | 0 | 2016-04-27T14:58:11Z | 2016-04-29T00:00:00Z | 30 | 51 | 0 | 0 | 0 | 0 | 0 | 0 | 0 | 2 |\n| 12 | 7.542950e+12 | 5620163 | 1 | 2016-04-26T08:44:12Z | 2016-04-29T00:00:00Z | 29 | 51 | 0 | 0 | 0 | 0 | 0 | 1 | 1 | 3 |\n| 13 | 5.666550e+14 | 5634718 | 0 | 2016-04-28T11:33:51Z | 2016-04-29T00:00:00Z | 22 | 51 | 1 | 0 | 0 | 0 | 0 | 0 | 0 | 1 |\n| 14 | 9.113950e+14 | 5636249 | 1 | 2016-04-28T14:52:07Z | 2016-04-29T00:00:00Z | 28 | 51 | 0 | 0 | 0 | 0 | 0 | 0 | 0 | 1 |\n| 16 | 9.994839e+10 | 5620206 | 0 | 2016-04-26T08:47:27Z | 2016-04-29T00:00:00Z | 15 | 51 | 0 | 0 | 0 | 0 | 0 | 1 | 0 | 3 |\n| 17 | 8.457440e+13 | 5633121 | 1 | 2016-04-28T08:51:47Z | 2016-04-29T00:00:00Z | 50 | 51 | 0 | 0 | 0 | 0 | 0 | 0 | 0 | 1 |\n| 18 | 1.479500e+13 | 5633460 | 0 | 2016-04-28T09:28:57Z | 2016-04-29T00:00:00Z | 40 | 13 | 1 | 0 | 0 | 0 | 0 | 0 | 1 | 1 |\n| 19 | 1.713540e+13 | 5621836 | 0 | 2016-04-26T10:54:18Z | 2016-04-29T00:00:00Z | 30 | 51 | 1 | 0 | 0 | 0 | 0 | 1 | 0 | 3 |\n| 20 | 7.223290e+12 | 5640433 | 0 | 2016-04-29T10:43:14Z | 2016-04-29T00:00:00Z | 46 | 16 | 0 | 0 | 0 | 0 | 0 | 0 | 0 | 0 |\n| 21 | 6.222570e+14 | 5626083 | 0 | 2016-04-27T07:51:14Z | 2016-04-29T00:00:00Z | 30 | 51 | 0 | 0 | 0 | 0 | 0 | 0 | 1 | 2 |\n| 22 | 1.215480e+13 | 5628338 | 0 | 2016-04-27T10:50:45Z | 2016-04-29T00:00:00Z |  4 | 13 | 0 | 0 | 0 | 0 | 0 | 0 | 1 | 2 |\n| 23 | 8.632300e+14 | 5616091 | 1 | 2016-04-25T13:29:16Z | 2016-04-29T00:00:00Z | 13 | 13 | 0 | 0 | 0 | 0 | 0 | 1 | 1 | 4 |\n| 24 | 2.137540e+14 | 5634142 | 0 | 2016-04-28T10:27:05Z | 2016-04-29T00:00:00Z | 46 | 13 | 0 | 0 | 0 | 0 | 0 | 0 | 0 | 1 |\n| 25 | 8.734860e+12 | 5641780 | 0 | 2016-04-29T14:19:19Z | 2016-04-29T00:00:00Z | 65 | 79 | 0 | 0 | 0 | 0 | 0 | 0 | 0 | 0 |\n| 26 | 5.819370e+12 | 5624020 | 1 | 2016-04-26T15:04:17Z | 2016-04-29T00:00:00Z | 46 | 13 | 0 | 1 | 0 | 0 | 0 | 1 | 0 | 3 |\n| 27 | 2.578785e+10 | 5641781 | 0 | 2016-04-29T14:19:42Z | 2016-04-29T00:00:00Z | 45 |  7 | 0 | 1 | 0 | 0 | 0 | 0 | 0 | 0 |\n| 28 | 1.215480e+13 | 5628345 | 0 | 2016-04-27T10:51:45Z | 2016-04-29T00:00:00Z |  4 | 13 | 0 | 0 | 0 | 0 | 0 | 0 | 0 | 2 |\n| 29 | 5.926170e+12 | 5642400 | 1 | 2016-04-29T15:48:02Z | 2016-04-29T00:00:00Z | 51 | 76 | 0 | 0 | 0 | 0 | 0 | 0 | 0 | 0 |\n| 31 | 3.428160e+11 | 5628068 | 0 | 2016-04-27T10:24:52Z | 2016-04-29T00:00:00Z | 46 | 51 | 0 | 0 | 0 | 0 | 0 | 0 | 0 | 2 |\n| 32 | 3.112850e+11 | 5628907 | 1 | 2016-04-27T12:07:14Z | 2016-04-29T00:00:00Z | 12 | 51 | 1 | 0 | 0 | 0 | 0 | 0 | 1 | 2 |\n| ⋮ | ⋮ | ⋮ | ⋮ | ⋮ | ⋮ | ⋮ | ⋮ | ⋮ | ⋮ | ⋮ | ⋮ | ⋮ | ⋮ | ⋮ | ⋮ |\n| 110498 | 7.93589e+14 | 5757745 | 1 | 2016-06-01T09:46:33Z | 2016-06-01T00:00:00Z | 76 | 44 | 0 | 0 | 0 | 0 | 0 | 0 | 0 |  0 |\n| 110499 | 9.43365e+13 | 5787655 | 0 | 2016-06-08T10:21:14Z | 2016-06-08T00:00:00Z | 59 | 44 | 0 | 0 | 0 | 0 | 0 | 0 | 0 |  0 |\n| 110500 | 8.21969e+14 | 5757697 | 0 | 2016-06-01T09:42:56Z | 2016-06-01T00:00:00Z | 66 | 44 | 0 | 1 | 1 | 0 | 0 | 0 | 0 |  0 |\n| 110501 | 4.43438e+14 | 5787233 | 0 | 2016-06-08T09:35:13Z | 2016-06-08T00:00:00Z | 59 | 44 | 0 | 0 | 0 | 0 | 0 | 0 | 0 |  0 |\n| 110502 | 4.54425e+11 | 5758133 | 1 | 2016-06-01T10:19:12Z | 2016-06-01T00:00:00Z | 44 | 44 | 0 | 0 | 0 | 0 | 0 | 0 | 0 |  0 |\n| 110503 | 7.31623e+14 | 5787937 | 0 | 2016-06-08T10:50:42Z | 2016-06-08T00:00:00Z | 22 | 26 | 0 | 0 | 0 | 0 | 0 | 0 | 0 |  0 |\n| 110504 | 2.36218e+13 | 5759473 | 0 | 2016-06-01T13:00:36Z | 2016-06-01T00:00:00Z | 64 | 78 | 0 | 0 | 0 | 0 | 0 | 0 | 0 |  0 |\n| 110505 | 9.94798e+12 | 5788052 | 0 | 2016-06-08T11:06:21Z | 2016-06-08T00:00:00Z |  4 | 44 | 0 | 0 | 0 | 0 | 0 | 0 | 0 |  0 |\n| 110506 | 5.66734e+13 | 5758455 | 0 | 2016-06-01T10:45:50Z | 2016-06-01T00:00:00Z | 55 | 44 | 0 | 0 | 0 | 0 | 0 | 0 | 0 |  0 |\n| 110507 | 8.97388e+11 | 5758779 | 1 | 2016-06-01T11:09:20Z | 2016-06-01T00:00:00Z |  5 | 44 | 0 | 0 | 0 | 0 | 0 | 0 | 0 |  0 |\n| 110508 | 4.76946e+14 | 5786918 | 0 | 2016-06-08T09:04:18Z | 2016-06-08T00:00:00Z |  0 | 44 | 0 | 0 | 0 | 0 | 0 | 0 | 0 |  0 |\n| 110509 | 9.43365e+13 | 5757656 | 0 | 2016-06-01T09:41:00Z | 2016-06-01T00:00:00Z | 59 | 44 | 0 | 0 | 0 | 0 | 0 | 0 | 0 |  0 |\n| 110510 | 4.95297e+14 | 5786750 | 1 | 2016-06-08T08:50:51Z | 2016-06-08T00:00:00Z | 33 | 44 | 0 | 0 | 0 | 0 | 0 | 0 | 0 |  0 |\n| 110511 | 2.36218e+13 | 5757587 | 0 | 2016-06-01T09:35:48Z | 2016-06-01T00:00:00Z | 64 | 78 | 0 | 0 | 0 | 0 | 0 | 0 | 0 |  0 |\n| 110512 | 8.23600e+11 | 5786742 | 0 | 2016-06-08T08:50:20Z | 2016-06-08T00:00:00Z | 14 | 44 | 0 | 0 | 0 | 0 | 0 | 0 | 0 |  0 |\n| 110513 | 9.87625e+13 | 5786368 | 0 | 2016-06-08T08:20:01Z | 2016-06-08T00:00:00Z | 41 | 44 | 0 | 0 | 0 | 0 | 0 | 0 | 0 |  0 |\n| 110514 | 8.67478e+13 | 5785964 | 1 | 2016-06-08T07:52:55Z | 2016-06-08T00:00:00Z |  2 |  3 | 0 | 0 | 0 | 0 | 0 | 0 | 0 |  0 |\n| 110515 | 2.69569e+12 | 5786567 | 0 | 2016-06-08T08:35:31Z | 2016-06-08T00:00:00Z | 58 | 44 | 0 | 0 | 0 | 0 | 0 | 0 | 0 |  0 |\n| 110516 | 6.45634e+14 | 5778621 | 1 | 2016-06-06T15:58:05Z | 2016-06-08T00:00:00Z | 33 | 44 | 0 | 1 | 0 | 0 | 0 | 0 | 1 |  2 |\n| 110517 | 6.92377e+13 | 5780205 | 0 | 2016-06-07T07:45:16Z | 2016-06-08T00:00:00Z | 37 | 44 | 0 | 0 | 0 | 0 | 0 | 0 | 1 |  1 |\n| 110518 | 5.57494e+12 | 5780122 | 0 | 2016-06-07T07:38:34Z | 2016-06-07T00:00:00Z | 19 | 44 | 0 | 0 | 0 | 0 | 0 | 0 | 0 |  0 |\n| 110519 | 7.26331e+13 | 5630375 | 0 | 2016-04-27T15:15:06Z | 2016-06-07T00:00:00Z | 50 | 44 | 0 | 0 | 0 | 0 | 0 | 1 | 0 | 41 |\n| 110520 | 6.54239e+13 | 5630447 | 0 | 2016-04-27T15:23:14Z | 2016-06-07T00:00:00Z | 22 | 44 | 0 | 0 | 0 | 0 | 0 | 1 | 0 | 41 |\n| 110521 | 9.96998e+14 | 5650534 | 0 | 2016-05-03T07:51:47Z | 2016-06-07T00:00:00Z | 42 | 44 | 0 | 0 | 0 | 0 | 0 | 1 | 0 | 35 |\n| 110522 | 3.63553e+13 | 5651072 | 0 | 2016-05-03T08:23:40Z | 2016-06-07T00:00:00Z | 53 | 44 | 0 | 0 | 0 | 0 | 0 | 1 | 0 | 35 |\n| 110523 | 2.57213e+12 | 5651768 | 0 | 2016-05-03T09:15:35Z | 2016-06-07T00:00:00Z | 56 | 44 | 0 | 0 | 0 | 0 | 0 | 1 | 0 | 35 |\n| 110524 | 3.59627e+12 | 5650093 | 0 | 2016-05-03T07:27:33Z | 2016-06-07T00:00:00Z | 51 | 44 | 0 | 0 | 0 | 0 | 0 | 1 | 0 | 35 |\n| 110525 | 1.55766e+13 | 5630692 | 0 | 2016-04-27T16:03:52Z | 2016-06-07T00:00:00Z | 21 | 44 | 0 | 0 | 0 | 0 | 0 | 1 | 0 | 41 |\n| 110526 | 9.21349e+13 | 5630323 | 0 | 2016-04-27T15:09:23Z | 2016-06-07T00:00:00Z | 38 | 44 | 0 | 0 | 0 | 0 | 0 | 1 | 0 | 41 |\n| 110527 | 3.77512e+14 | 5629448 | 0 | 2016-04-27T13:30:56Z | 2016-06-07T00:00:00Z | 54 | 44 | 0 | 0 | 0 | 0 | 0 | 1 | 0 | 41 |\n\n",
            "text/latex": "A data.frame: 110523 × 15\n\\begin{tabular}{r|lllllllllllllll}\n  & PatientId & AppointmentID & Gender & ScheduledDay & AppointmentDay & Age & Neighbourhood & Scholarship & Hipertension & Diabetes & Alcoholism & Handcap & SMS\\_received & No.show & AwaitingTime\\\\\n  & <dbl> & <int> & <dbl> & <chr> & <chr> & <int> & <int> & <int> & <int> & <int> & <int> & <int> & <int> & <dbl> & <dbl>\\\\\n\\hline\n\t1 & 2.987250e+13 & 5642903 & 0 & 2016-04-29T18:38:08Z & 2016-04-29T00:00:00Z & 62 & 40 & 0 & 1 & 0 & 0 & 0 & 0 & 0 & 0\\\\\n\t2 & 5.589980e+14 & 5642503 & 1 & 2016-04-29T16:08:27Z & 2016-04-29T00:00:00Z & 56 & 40 & 0 & 0 & 0 & 0 & 0 & 0 & 0 & 0\\\\\n\t3 & 4.262960e+12 & 5642549 & 0 & 2016-04-29T16:19:04Z & 2016-04-29T00:00:00Z & 62 & 47 & 0 & 0 & 0 & 0 & 0 & 0 & 0 & 0\\\\\n\t4 & 8.679510e+11 & 5642828 & 0 & 2016-04-29T17:29:31Z & 2016-04-29T00:00:00Z &  8 & 55 & 0 & 0 & 0 & 0 & 0 & 0 & 0 & 0\\\\\n\t5 & 8.841190e+12 & 5642494 & 0 & 2016-04-29T16:07:23Z & 2016-04-29T00:00:00Z & 56 & 40 & 0 & 1 & 1 & 0 & 0 & 0 & 0 & 0\\\\\n\t6 & 9.598510e+13 & 5626772 & 0 & 2016-04-27T08:36:51Z & 2016-04-29T00:00:00Z & 76 & 59 & 0 & 1 & 0 & 0 & 0 & 0 & 0 & 2\\\\\n\t7 & 7.336880e+14 & 5630279 & 0 & 2016-04-27T15:05:12Z & 2016-04-29T00:00:00Z & 23 & 26 & 0 & 0 & 0 & 0 & 0 & 0 & 1 & 2\\\\\n\t8 & 3.449830e+12 & 5630575 & 0 & 2016-04-27T15:39:58Z & 2016-04-29T00:00:00Z & 39 & 26 & 0 & 0 & 0 & 0 & 0 & 0 & 1 & 2\\\\\n\t9 & 5.639470e+13 & 5638447 & 0 & 2016-04-29T08:02:16Z & 2016-04-29T00:00:00Z & 21 &  2 & 0 & 0 & 0 & 0 & 0 & 0 & 0 & 0\\\\\n\t10 & 7.812460e+13 & 5629123 & 0 & 2016-04-27T12:48:25Z & 2016-04-29T00:00:00Z & 19 & 13 & 0 & 0 & 0 & 0 & 0 & 0 & 0 & 2\\\\\n\t11 & 7.345360e+14 & 5630213 & 0 & 2016-04-27T14:58:11Z & 2016-04-29T00:00:00Z & 30 & 51 & 0 & 0 & 0 & 0 & 0 & 0 & 0 & 2\\\\\n\t12 & 7.542950e+12 & 5620163 & 1 & 2016-04-26T08:44:12Z & 2016-04-29T00:00:00Z & 29 & 51 & 0 & 0 & 0 & 0 & 0 & 1 & 1 & 3\\\\\n\t13 & 5.666550e+14 & 5634718 & 0 & 2016-04-28T11:33:51Z & 2016-04-29T00:00:00Z & 22 & 51 & 1 & 0 & 0 & 0 & 0 & 0 & 0 & 1\\\\\n\t14 & 9.113950e+14 & 5636249 & 1 & 2016-04-28T14:52:07Z & 2016-04-29T00:00:00Z & 28 & 51 & 0 & 0 & 0 & 0 & 0 & 0 & 0 & 1\\\\\n\t16 & 9.994839e+10 & 5620206 & 0 & 2016-04-26T08:47:27Z & 2016-04-29T00:00:00Z & 15 & 51 & 0 & 0 & 0 & 0 & 0 & 1 & 0 & 3\\\\\n\t17 & 8.457440e+13 & 5633121 & 1 & 2016-04-28T08:51:47Z & 2016-04-29T00:00:00Z & 50 & 51 & 0 & 0 & 0 & 0 & 0 & 0 & 0 & 1\\\\\n\t18 & 1.479500e+13 & 5633460 & 0 & 2016-04-28T09:28:57Z & 2016-04-29T00:00:00Z & 40 & 13 & 1 & 0 & 0 & 0 & 0 & 0 & 1 & 1\\\\\n\t19 & 1.713540e+13 & 5621836 & 0 & 2016-04-26T10:54:18Z & 2016-04-29T00:00:00Z & 30 & 51 & 1 & 0 & 0 & 0 & 0 & 1 & 0 & 3\\\\\n\t20 & 7.223290e+12 & 5640433 & 0 & 2016-04-29T10:43:14Z & 2016-04-29T00:00:00Z & 46 & 16 & 0 & 0 & 0 & 0 & 0 & 0 & 0 & 0\\\\\n\t21 & 6.222570e+14 & 5626083 & 0 & 2016-04-27T07:51:14Z & 2016-04-29T00:00:00Z & 30 & 51 & 0 & 0 & 0 & 0 & 0 & 0 & 1 & 2\\\\\n\t22 & 1.215480e+13 & 5628338 & 0 & 2016-04-27T10:50:45Z & 2016-04-29T00:00:00Z &  4 & 13 & 0 & 0 & 0 & 0 & 0 & 0 & 1 & 2\\\\\n\t23 & 8.632300e+14 & 5616091 & 1 & 2016-04-25T13:29:16Z & 2016-04-29T00:00:00Z & 13 & 13 & 0 & 0 & 0 & 0 & 0 & 1 & 1 & 4\\\\\n\t24 & 2.137540e+14 & 5634142 & 0 & 2016-04-28T10:27:05Z & 2016-04-29T00:00:00Z & 46 & 13 & 0 & 0 & 0 & 0 & 0 & 0 & 0 & 1\\\\\n\t25 & 8.734860e+12 & 5641780 & 0 & 2016-04-29T14:19:19Z & 2016-04-29T00:00:00Z & 65 & 79 & 0 & 0 & 0 & 0 & 0 & 0 & 0 & 0\\\\\n\t26 & 5.819370e+12 & 5624020 & 1 & 2016-04-26T15:04:17Z & 2016-04-29T00:00:00Z & 46 & 13 & 0 & 1 & 0 & 0 & 0 & 1 & 0 & 3\\\\\n\t27 & 2.578785e+10 & 5641781 & 0 & 2016-04-29T14:19:42Z & 2016-04-29T00:00:00Z & 45 &  7 & 0 & 1 & 0 & 0 & 0 & 0 & 0 & 0\\\\\n\t28 & 1.215480e+13 & 5628345 & 0 & 2016-04-27T10:51:45Z & 2016-04-29T00:00:00Z &  4 & 13 & 0 & 0 & 0 & 0 & 0 & 0 & 0 & 2\\\\\n\t29 & 5.926170e+12 & 5642400 & 1 & 2016-04-29T15:48:02Z & 2016-04-29T00:00:00Z & 51 & 76 & 0 & 0 & 0 & 0 & 0 & 0 & 0 & 0\\\\\n\t31 & 3.428160e+11 & 5628068 & 0 & 2016-04-27T10:24:52Z & 2016-04-29T00:00:00Z & 46 & 51 & 0 & 0 & 0 & 0 & 0 & 0 & 0 & 2\\\\\n\t32 & 3.112850e+11 & 5628907 & 1 & 2016-04-27T12:07:14Z & 2016-04-29T00:00:00Z & 12 & 51 & 1 & 0 & 0 & 0 & 0 & 0 & 1 & 2\\\\\n\t⋮ & ⋮ & ⋮ & ⋮ & ⋮ & ⋮ & ⋮ & ⋮ & ⋮ & ⋮ & ⋮ & ⋮ & ⋮ & ⋮ & ⋮ & ⋮\\\\\n\t110498 & 7.93589e+14 & 5757745 & 1 & 2016-06-01T09:46:33Z & 2016-06-01T00:00:00Z & 76 & 44 & 0 & 0 & 0 & 0 & 0 & 0 & 0 &  0\\\\\n\t110499 & 9.43365e+13 & 5787655 & 0 & 2016-06-08T10:21:14Z & 2016-06-08T00:00:00Z & 59 & 44 & 0 & 0 & 0 & 0 & 0 & 0 & 0 &  0\\\\\n\t110500 & 8.21969e+14 & 5757697 & 0 & 2016-06-01T09:42:56Z & 2016-06-01T00:00:00Z & 66 & 44 & 0 & 1 & 1 & 0 & 0 & 0 & 0 &  0\\\\\n\t110501 & 4.43438e+14 & 5787233 & 0 & 2016-06-08T09:35:13Z & 2016-06-08T00:00:00Z & 59 & 44 & 0 & 0 & 0 & 0 & 0 & 0 & 0 &  0\\\\\n\t110502 & 4.54425e+11 & 5758133 & 1 & 2016-06-01T10:19:12Z & 2016-06-01T00:00:00Z & 44 & 44 & 0 & 0 & 0 & 0 & 0 & 0 & 0 &  0\\\\\n\t110503 & 7.31623e+14 & 5787937 & 0 & 2016-06-08T10:50:42Z & 2016-06-08T00:00:00Z & 22 & 26 & 0 & 0 & 0 & 0 & 0 & 0 & 0 &  0\\\\\n\t110504 & 2.36218e+13 & 5759473 & 0 & 2016-06-01T13:00:36Z & 2016-06-01T00:00:00Z & 64 & 78 & 0 & 0 & 0 & 0 & 0 & 0 & 0 &  0\\\\\n\t110505 & 9.94798e+12 & 5788052 & 0 & 2016-06-08T11:06:21Z & 2016-06-08T00:00:00Z &  4 & 44 & 0 & 0 & 0 & 0 & 0 & 0 & 0 &  0\\\\\n\t110506 & 5.66734e+13 & 5758455 & 0 & 2016-06-01T10:45:50Z & 2016-06-01T00:00:00Z & 55 & 44 & 0 & 0 & 0 & 0 & 0 & 0 & 0 &  0\\\\\n\t110507 & 8.97388e+11 & 5758779 & 1 & 2016-06-01T11:09:20Z & 2016-06-01T00:00:00Z &  5 & 44 & 0 & 0 & 0 & 0 & 0 & 0 & 0 &  0\\\\\n\t110508 & 4.76946e+14 & 5786918 & 0 & 2016-06-08T09:04:18Z & 2016-06-08T00:00:00Z &  0 & 44 & 0 & 0 & 0 & 0 & 0 & 0 & 0 &  0\\\\\n\t110509 & 9.43365e+13 & 5757656 & 0 & 2016-06-01T09:41:00Z & 2016-06-01T00:00:00Z & 59 & 44 & 0 & 0 & 0 & 0 & 0 & 0 & 0 &  0\\\\\n\t110510 & 4.95297e+14 & 5786750 & 1 & 2016-06-08T08:50:51Z & 2016-06-08T00:00:00Z & 33 & 44 & 0 & 0 & 0 & 0 & 0 & 0 & 0 &  0\\\\\n\t110511 & 2.36218e+13 & 5757587 & 0 & 2016-06-01T09:35:48Z & 2016-06-01T00:00:00Z & 64 & 78 & 0 & 0 & 0 & 0 & 0 & 0 & 0 &  0\\\\\n\t110512 & 8.23600e+11 & 5786742 & 0 & 2016-06-08T08:50:20Z & 2016-06-08T00:00:00Z & 14 & 44 & 0 & 0 & 0 & 0 & 0 & 0 & 0 &  0\\\\\n\t110513 & 9.87625e+13 & 5786368 & 0 & 2016-06-08T08:20:01Z & 2016-06-08T00:00:00Z & 41 & 44 & 0 & 0 & 0 & 0 & 0 & 0 & 0 &  0\\\\\n\t110514 & 8.67478e+13 & 5785964 & 1 & 2016-06-08T07:52:55Z & 2016-06-08T00:00:00Z &  2 &  3 & 0 & 0 & 0 & 0 & 0 & 0 & 0 &  0\\\\\n\t110515 & 2.69569e+12 & 5786567 & 0 & 2016-06-08T08:35:31Z & 2016-06-08T00:00:00Z & 58 & 44 & 0 & 0 & 0 & 0 & 0 & 0 & 0 &  0\\\\\n\t110516 & 6.45634e+14 & 5778621 & 1 & 2016-06-06T15:58:05Z & 2016-06-08T00:00:00Z & 33 & 44 & 0 & 1 & 0 & 0 & 0 & 0 & 1 &  2\\\\\n\t110517 & 6.92377e+13 & 5780205 & 0 & 2016-06-07T07:45:16Z & 2016-06-08T00:00:00Z & 37 & 44 & 0 & 0 & 0 & 0 & 0 & 0 & 1 &  1\\\\\n\t110518 & 5.57494e+12 & 5780122 & 0 & 2016-06-07T07:38:34Z & 2016-06-07T00:00:00Z & 19 & 44 & 0 & 0 & 0 & 0 & 0 & 0 & 0 &  0\\\\\n\t110519 & 7.26331e+13 & 5630375 & 0 & 2016-04-27T15:15:06Z & 2016-06-07T00:00:00Z & 50 & 44 & 0 & 0 & 0 & 0 & 0 & 1 & 0 & 41\\\\\n\t110520 & 6.54239e+13 & 5630447 & 0 & 2016-04-27T15:23:14Z & 2016-06-07T00:00:00Z & 22 & 44 & 0 & 0 & 0 & 0 & 0 & 1 & 0 & 41\\\\\n\t110521 & 9.96998e+14 & 5650534 & 0 & 2016-05-03T07:51:47Z & 2016-06-07T00:00:00Z & 42 & 44 & 0 & 0 & 0 & 0 & 0 & 1 & 0 & 35\\\\\n\t110522 & 3.63553e+13 & 5651072 & 0 & 2016-05-03T08:23:40Z & 2016-06-07T00:00:00Z & 53 & 44 & 0 & 0 & 0 & 0 & 0 & 1 & 0 & 35\\\\\n\t110523 & 2.57213e+12 & 5651768 & 0 & 2016-05-03T09:15:35Z & 2016-06-07T00:00:00Z & 56 & 44 & 0 & 0 & 0 & 0 & 0 & 1 & 0 & 35\\\\\n\t110524 & 3.59627e+12 & 5650093 & 0 & 2016-05-03T07:27:33Z & 2016-06-07T00:00:00Z & 51 & 44 & 0 & 0 & 0 & 0 & 0 & 1 & 0 & 35\\\\\n\t110525 & 1.55766e+13 & 5630692 & 0 & 2016-04-27T16:03:52Z & 2016-06-07T00:00:00Z & 21 & 44 & 0 & 0 & 0 & 0 & 0 & 1 & 0 & 41\\\\\n\t110526 & 9.21349e+13 & 5630323 & 0 & 2016-04-27T15:09:23Z & 2016-06-07T00:00:00Z & 38 & 44 & 0 & 0 & 0 & 0 & 0 & 1 & 0 & 41\\\\\n\t110527 & 3.77512e+14 & 5629448 & 0 & 2016-04-27T13:30:56Z & 2016-06-07T00:00:00Z & 54 & 44 & 0 & 0 & 0 & 0 & 0 & 1 & 0 & 41\\\\\n\\end{tabular}\n",
            "text/plain": [
              "       PatientId    AppointmentID Gender ScheduledDay        \n",
              "1      2.987250e+13 5642903       0      2016-04-29T18:38:08Z\n",
              "2      5.589980e+14 5642503       1      2016-04-29T16:08:27Z\n",
              "3      4.262960e+12 5642549       0      2016-04-29T16:19:04Z\n",
              "4      8.679510e+11 5642828       0      2016-04-29T17:29:31Z\n",
              "5      8.841190e+12 5642494       0      2016-04-29T16:07:23Z\n",
              "6      9.598510e+13 5626772       0      2016-04-27T08:36:51Z\n",
              "7      7.336880e+14 5630279       0      2016-04-27T15:05:12Z\n",
              "8      3.449830e+12 5630575       0      2016-04-27T15:39:58Z\n",
              "9      5.639470e+13 5638447       0      2016-04-29T08:02:16Z\n",
              "10     7.812460e+13 5629123       0      2016-04-27T12:48:25Z\n",
              "11     7.345360e+14 5630213       0      2016-04-27T14:58:11Z\n",
              "12     7.542950e+12 5620163       1      2016-04-26T08:44:12Z\n",
              "13     5.666550e+14 5634718       0      2016-04-28T11:33:51Z\n",
              "14     9.113950e+14 5636249       1      2016-04-28T14:52:07Z\n",
              "16     9.994839e+10 5620206       0      2016-04-26T08:47:27Z\n",
              "17     8.457440e+13 5633121       1      2016-04-28T08:51:47Z\n",
              "18     1.479500e+13 5633460       0      2016-04-28T09:28:57Z\n",
              "19     1.713540e+13 5621836       0      2016-04-26T10:54:18Z\n",
              "20     7.223290e+12 5640433       0      2016-04-29T10:43:14Z\n",
              "21     6.222570e+14 5626083       0      2016-04-27T07:51:14Z\n",
              "22     1.215480e+13 5628338       0      2016-04-27T10:50:45Z\n",
              "23     8.632300e+14 5616091       1      2016-04-25T13:29:16Z\n",
              "24     2.137540e+14 5634142       0      2016-04-28T10:27:05Z\n",
              "25     8.734860e+12 5641780       0      2016-04-29T14:19:19Z\n",
              "26     5.819370e+12 5624020       1      2016-04-26T15:04:17Z\n",
              "27     2.578785e+10 5641781       0      2016-04-29T14:19:42Z\n",
              "28     1.215480e+13 5628345       0      2016-04-27T10:51:45Z\n",
              "29     5.926170e+12 5642400       1      2016-04-29T15:48:02Z\n",
              "31     3.428160e+11 5628068       0      2016-04-27T10:24:52Z\n",
              "32     3.112850e+11 5628907       1      2016-04-27T12:07:14Z\n",
              "⋮      ⋮            ⋮             ⋮      ⋮                   \n",
              "110498 7.93589e+14  5757745       1      2016-06-01T09:46:33Z\n",
              "110499 9.43365e+13  5787655       0      2016-06-08T10:21:14Z\n",
              "110500 8.21969e+14  5757697       0      2016-06-01T09:42:56Z\n",
              "110501 4.43438e+14  5787233       0      2016-06-08T09:35:13Z\n",
              "110502 4.54425e+11  5758133       1      2016-06-01T10:19:12Z\n",
              "110503 7.31623e+14  5787937       0      2016-06-08T10:50:42Z\n",
              "110504 2.36218e+13  5759473       0      2016-06-01T13:00:36Z\n",
              "110505 9.94798e+12  5788052       0      2016-06-08T11:06:21Z\n",
              "110506 5.66734e+13  5758455       0      2016-06-01T10:45:50Z\n",
              "110507 8.97388e+11  5758779       1      2016-06-01T11:09:20Z\n",
              "110508 4.76946e+14  5786918       0      2016-06-08T09:04:18Z\n",
              "110509 9.43365e+13  5757656       0      2016-06-01T09:41:00Z\n",
              "110510 4.95297e+14  5786750       1      2016-06-08T08:50:51Z\n",
              "110511 2.36218e+13  5757587       0      2016-06-01T09:35:48Z\n",
              "110512 8.23600e+11  5786742       0      2016-06-08T08:50:20Z\n",
              "110513 9.87625e+13  5786368       0      2016-06-08T08:20:01Z\n",
              "110514 8.67478e+13  5785964       1      2016-06-08T07:52:55Z\n",
              "110515 2.69569e+12  5786567       0      2016-06-08T08:35:31Z\n",
              "110516 6.45634e+14  5778621       1      2016-06-06T15:58:05Z\n",
              "110517 6.92377e+13  5780205       0      2016-06-07T07:45:16Z\n",
              "110518 5.57494e+12  5780122       0      2016-06-07T07:38:34Z\n",
              "110519 7.26331e+13  5630375       0      2016-04-27T15:15:06Z\n",
              "110520 6.54239e+13  5630447       0      2016-04-27T15:23:14Z\n",
              "110521 9.96998e+14  5650534       0      2016-05-03T07:51:47Z\n",
              "110522 3.63553e+13  5651072       0      2016-05-03T08:23:40Z\n",
              "110523 2.57213e+12  5651768       0      2016-05-03T09:15:35Z\n",
              "110524 3.59627e+12  5650093       0      2016-05-03T07:27:33Z\n",
              "110525 1.55766e+13  5630692       0      2016-04-27T16:03:52Z\n",
              "110526 9.21349e+13  5630323       0      2016-04-27T15:09:23Z\n",
              "110527 3.77512e+14  5629448       0      2016-04-27T13:30:56Z\n",
              "       AppointmentDay       Age Neighbourhood Scholarship Hipertension Diabetes\n",
              "1      2016-04-29T00:00:00Z 62  40            0           1            0       \n",
              "2      2016-04-29T00:00:00Z 56  40            0           0            0       \n",
              "3      2016-04-29T00:00:00Z 62  47            0           0            0       \n",
              "4      2016-04-29T00:00:00Z  8  55            0           0            0       \n",
              "5      2016-04-29T00:00:00Z 56  40            0           1            1       \n",
              "6      2016-04-29T00:00:00Z 76  59            0           1            0       \n",
              "7      2016-04-29T00:00:00Z 23  26            0           0            0       \n",
              "8      2016-04-29T00:00:00Z 39  26            0           0            0       \n",
              "9      2016-04-29T00:00:00Z 21   2            0           0            0       \n",
              "10     2016-04-29T00:00:00Z 19  13            0           0            0       \n",
              "11     2016-04-29T00:00:00Z 30  51            0           0            0       \n",
              "12     2016-04-29T00:00:00Z 29  51            0           0            0       \n",
              "13     2016-04-29T00:00:00Z 22  51            1           0            0       \n",
              "14     2016-04-29T00:00:00Z 28  51            0           0            0       \n",
              "16     2016-04-29T00:00:00Z 15  51            0           0            0       \n",
              "17     2016-04-29T00:00:00Z 50  51            0           0            0       \n",
              "18     2016-04-29T00:00:00Z 40  13            1           0            0       \n",
              "19     2016-04-29T00:00:00Z 30  51            1           0            0       \n",
              "20     2016-04-29T00:00:00Z 46  16            0           0            0       \n",
              "21     2016-04-29T00:00:00Z 30  51            0           0            0       \n",
              "22     2016-04-29T00:00:00Z  4  13            0           0            0       \n",
              "23     2016-04-29T00:00:00Z 13  13            0           0            0       \n",
              "24     2016-04-29T00:00:00Z 46  13            0           0            0       \n",
              "25     2016-04-29T00:00:00Z 65  79            0           0            0       \n",
              "26     2016-04-29T00:00:00Z 46  13            0           1            0       \n",
              "27     2016-04-29T00:00:00Z 45   7            0           1            0       \n",
              "28     2016-04-29T00:00:00Z  4  13            0           0            0       \n",
              "29     2016-04-29T00:00:00Z 51  76            0           0            0       \n",
              "31     2016-04-29T00:00:00Z 46  51            0           0            0       \n",
              "32     2016-04-29T00:00:00Z 12  51            1           0            0       \n",
              "⋮      ⋮                    ⋮   ⋮             ⋮           ⋮            ⋮       \n",
              "110498 2016-06-01T00:00:00Z 76  44            0           0            0       \n",
              "110499 2016-06-08T00:00:00Z 59  44            0           0            0       \n",
              "110500 2016-06-01T00:00:00Z 66  44            0           1            1       \n",
              "110501 2016-06-08T00:00:00Z 59  44            0           0            0       \n",
              "110502 2016-06-01T00:00:00Z 44  44            0           0            0       \n",
              "110503 2016-06-08T00:00:00Z 22  26            0           0            0       \n",
              "110504 2016-06-01T00:00:00Z 64  78            0           0            0       \n",
              "110505 2016-06-08T00:00:00Z  4  44            0           0            0       \n",
              "110506 2016-06-01T00:00:00Z 55  44            0           0            0       \n",
              "110507 2016-06-01T00:00:00Z  5  44            0           0            0       \n",
              "110508 2016-06-08T00:00:00Z  0  44            0           0            0       \n",
              "110509 2016-06-01T00:00:00Z 59  44            0           0            0       \n",
              "110510 2016-06-08T00:00:00Z 33  44            0           0            0       \n",
              "110511 2016-06-01T00:00:00Z 64  78            0           0            0       \n",
              "110512 2016-06-08T00:00:00Z 14  44            0           0            0       \n",
              "110513 2016-06-08T00:00:00Z 41  44            0           0            0       \n",
              "110514 2016-06-08T00:00:00Z  2   3            0           0            0       \n",
              "110515 2016-06-08T00:00:00Z 58  44            0           0            0       \n",
              "110516 2016-06-08T00:00:00Z 33  44            0           1            0       \n",
              "110517 2016-06-08T00:00:00Z 37  44            0           0            0       \n",
              "110518 2016-06-07T00:00:00Z 19  44            0           0            0       \n",
              "110519 2016-06-07T00:00:00Z 50  44            0           0            0       \n",
              "110520 2016-06-07T00:00:00Z 22  44            0           0            0       \n",
              "110521 2016-06-07T00:00:00Z 42  44            0           0            0       \n",
              "110522 2016-06-07T00:00:00Z 53  44            0           0            0       \n",
              "110523 2016-06-07T00:00:00Z 56  44            0           0            0       \n",
              "110524 2016-06-07T00:00:00Z 51  44            0           0            0       \n",
              "110525 2016-06-07T00:00:00Z 21  44            0           0            0       \n",
              "110526 2016-06-07T00:00:00Z 38  44            0           0            0       \n",
              "110527 2016-06-07T00:00:00Z 54  44            0           0            0       \n",
              "       Alcoholism Handcap SMS_received No.show AwaitingTime\n",
              "1      0          0       0            0       0           \n",
              "2      0          0       0            0       0           \n",
              "3      0          0       0            0       0           \n",
              "4      0          0       0            0       0           \n",
              "5      0          0       0            0       0           \n",
              "6      0          0       0            0       2           \n",
              "7      0          0       0            1       2           \n",
              "8      0          0       0            1       2           \n",
              "9      0          0       0            0       0           \n",
              "10     0          0       0            0       2           \n",
              "11     0          0       0            0       2           \n",
              "12     0          0       1            1       3           \n",
              "13     0          0       0            0       1           \n",
              "14     0          0       0            0       1           \n",
              "16     0          0       1            0       3           \n",
              "17     0          0       0            0       1           \n",
              "18     0          0       0            1       1           \n",
              "19     0          0       1            0       3           \n",
              "20     0          0       0            0       0           \n",
              "21     0          0       0            1       2           \n",
              "22     0          0       0            1       2           \n",
              "23     0          0       1            1       4           \n",
              "24     0          0       0            0       1           \n",
              "25     0          0       0            0       0           \n",
              "26     0          0       1            0       3           \n",
              "27     0          0       0            0       0           \n",
              "28     0          0       0            0       2           \n",
              "29     0          0       0            0       0           \n",
              "31     0          0       0            0       2           \n",
              "32     0          0       0            1       2           \n",
              "⋮      ⋮          ⋮       ⋮            ⋮       ⋮           \n",
              "110498 0          0       0            0        0          \n",
              "110499 0          0       0            0        0          \n",
              "110500 0          0       0            0        0          \n",
              "110501 0          0       0            0        0          \n",
              "110502 0          0       0            0        0          \n",
              "110503 0          0       0            0        0          \n",
              "110504 0          0       0            0        0          \n",
              "110505 0          0       0            0        0          \n",
              "110506 0          0       0            0        0          \n",
              "110507 0          0       0            0        0          \n",
              "110508 0          0       0            0        0          \n",
              "110509 0          0       0            0        0          \n",
              "110510 0          0       0            0        0          \n",
              "110511 0          0       0            0        0          \n",
              "110512 0          0       0            0        0          \n",
              "110513 0          0       0            0        0          \n",
              "110514 0          0       0            0        0          \n",
              "110515 0          0       0            0        0          \n",
              "110516 0          0       0            1        2          \n",
              "110517 0          0       0            1        1          \n",
              "110518 0          0       0            0        0          \n",
              "110519 0          0       1            0       41          \n",
              "110520 0          0       1            0       41          \n",
              "110521 0          0       1            0       35          \n",
              "110522 0          0       1            0       35          \n",
              "110523 0          0       1            0       35          \n",
              "110524 0          0       1            0       35          \n",
              "110525 0          0       1            0       41          \n",
              "110526 0          0       1            0       41          \n",
              "110527 0          0       1            0       41          "
            ]
          },
          "metadata": {}
        }
      ],
      "source": [
        "#5\n",
        "data_after_null$Gender <-  ifelse(data_after_null$Gender == \"M\", 1, 0)\n",
        "data_after_null$No.show<- ifelse(data_after_null$No.show == \"Yes\", 1, 0)\n",
        "data_after_null$Neighbourhood<-  as.integer( factor(data_after_null$Neighbourhood,labels = c(0:80)))\n",
        "data_after_null"
      ]
    },
    {
      "cell_type": "code",
      "execution_count": 124,
      "metadata": {
        "colab": {
          "base_uri": "https://localhost:8080/",
          "height": 1000
        },
        "id": "ZXnfpZD7BkuG",
        "outputId": "1615d147-e18a-4d61-ad6e-f8c4140c45e6"
      },
      "outputs": [
        {
          "output_type": "display_data",
          "data": {
            "text/html": [
              "<table class=\"dataframe\">\n",
              "<caption>A data.frame: 110523 × 21</caption>\n",
              "<thead>\n",
              "\t<tr><th></th><th scope=col>PatientId</th><th scope=col>AppointmentID</th><th scope=col>Gender</th><th scope=col>ScheduledDay</th><th scope=col>AppointmentDay</th><th scope=col>Age</th><th scope=col>Neighbourhood</th><th scope=col>Scholarship</th><th scope=col>Hipertension</th><th scope=col>Diabetes</th><th scope=col>⋯</th><th scope=col>Handcap</th><th scope=col>SMS_received</th><th scope=col>No.show</th><th scope=col>AwaitingTime</th><th scope=col>Scheduled_year</th><th scope=col>Scheduled_mon</th><th scope=col>Scheduled_day</th><th scope=col>Appointment_year</th><th scope=col>Appointment_mon</th><th scope=col>Appointment_day</th></tr>\n",
              "\t<tr><th></th><th scope=col>&lt;dbl&gt;</th><th scope=col>&lt;int&gt;</th><th scope=col>&lt;dbl&gt;</th><th scope=col>&lt;date&gt;</th><th scope=col>&lt;date&gt;</th><th scope=col>&lt;int&gt;</th><th scope=col>&lt;int&gt;</th><th scope=col>&lt;int&gt;</th><th scope=col>&lt;int&gt;</th><th scope=col>&lt;int&gt;</th><th scope=col>⋯</th><th scope=col>&lt;int&gt;</th><th scope=col>&lt;int&gt;</th><th scope=col>&lt;dbl&gt;</th><th scope=col>&lt;dbl&gt;</th><th scope=col>&lt;dbl&gt;</th><th scope=col>&lt;dbl&gt;</th><th scope=col>&lt;int&gt;</th><th scope=col>&lt;dbl&gt;</th><th scope=col>&lt;dbl&gt;</th><th scope=col>&lt;int&gt;</th></tr>\n",
              "</thead>\n",
              "<tbody>\n",
              "\t<tr><th scope=row>1</th><td>2.987250e+13</td><td>5642903</td><td>0</td><td>2016-04-29</td><td>2016-04-29</td><td>62</td><td>40</td><td>0</td><td>1</td><td>0</td><td>⋯</td><td>0</td><td>0</td><td>0</td><td>0</td><td>2016</td><td>4</td><td>29</td><td>2016</td><td>4</td><td>29</td></tr>\n",
              "\t<tr><th scope=row>2</th><td>5.589980e+14</td><td>5642503</td><td>1</td><td>2016-04-29</td><td>2016-04-29</td><td>56</td><td>40</td><td>0</td><td>0</td><td>0</td><td>⋯</td><td>0</td><td>0</td><td>0</td><td>0</td><td>2016</td><td>4</td><td>29</td><td>2016</td><td>4</td><td>29</td></tr>\n",
              "\t<tr><th scope=row>3</th><td>4.262960e+12</td><td>5642549</td><td>0</td><td>2016-04-29</td><td>2016-04-29</td><td>62</td><td>47</td><td>0</td><td>0</td><td>0</td><td>⋯</td><td>0</td><td>0</td><td>0</td><td>0</td><td>2016</td><td>4</td><td>29</td><td>2016</td><td>4</td><td>29</td></tr>\n",
              "\t<tr><th scope=row>4</th><td>8.679510e+11</td><td>5642828</td><td>0</td><td>2016-04-29</td><td>2016-04-29</td><td> 8</td><td>55</td><td>0</td><td>0</td><td>0</td><td>⋯</td><td>0</td><td>0</td><td>0</td><td>0</td><td>2016</td><td>4</td><td>29</td><td>2016</td><td>4</td><td>29</td></tr>\n",
              "\t<tr><th scope=row>5</th><td>8.841190e+12</td><td>5642494</td><td>0</td><td>2016-04-29</td><td>2016-04-29</td><td>56</td><td>40</td><td>0</td><td>1</td><td>1</td><td>⋯</td><td>0</td><td>0</td><td>0</td><td>0</td><td>2016</td><td>4</td><td>29</td><td>2016</td><td>4</td><td>29</td></tr>\n",
              "\t<tr><th scope=row>6</th><td>9.598510e+13</td><td>5626772</td><td>0</td><td>2016-04-27</td><td>2016-04-29</td><td>76</td><td>59</td><td>0</td><td>1</td><td>0</td><td>⋯</td><td>0</td><td>0</td><td>0</td><td>2</td><td>2016</td><td>4</td><td>27</td><td>2016</td><td>4</td><td>29</td></tr>\n",
              "\t<tr><th scope=row>7</th><td>7.336880e+14</td><td>5630279</td><td>0</td><td>2016-04-27</td><td>2016-04-29</td><td>23</td><td>26</td><td>0</td><td>0</td><td>0</td><td>⋯</td><td>0</td><td>0</td><td>1</td><td>2</td><td>2016</td><td>4</td><td>27</td><td>2016</td><td>4</td><td>29</td></tr>\n",
              "\t<tr><th scope=row>8</th><td>3.449830e+12</td><td>5630575</td><td>0</td><td>2016-04-27</td><td>2016-04-29</td><td>39</td><td>26</td><td>0</td><td>0</td><td>0</td><td>⋯</td><td>0</td><td>0</td><td>1</td><td>2</td><td>2016</td><td>4</td><td>27</td><td>2016</td><td>4</td><td>29</td></tr>\n",
              "\t<tr><th scope=row>9</th><td>5.639470e+13</td><td>5638447</td><td>0</td><td>2016-04-29</td><td>2016-04-29</td><td>21</td><td> 2</td><td>0</td><td>0</td><td>0</td><td>⋯</td><td>0</td><td>0</td><td>0</td><td>0</td><td>2016</td><td>4</td><td>29</td><td>2016</td><td>4</td><td>29</td></tr>\n",
              "\t<tr><th scope=row>10</th><td>7.812460e+13</td><td>5629123</td><td>0</td><td>2016-04-27</td><td>2016-04-29</td><td>19</td><td>13</td><td>0</td><td>0</td><td>0</td><td>⋯</td><td>0</td><td>0</td><td>0</td><td>2</td><td>2016</td><td>4</td><td>27</td><td>2016</td><td>4</td><td>29</td></tr>\n",
              "\t<tr><th scope=row>11</th><td>7.345360e+14</td><td>5630213</td><td>0</td><td>2016-04-27</td><td>2016-04-29</td><td>30</td><td>51</td><td>0</td><td>0</td><td>0</td><td>⋯</td><td>0</td><td>0</td><td>0</td><td>2</td><td>2016</td><td>4</td><td>27</td><td>2016</td><td>4</td><td>29</td></tr>\n",
              "\t<tr><th scope=row>12</th><td>7.542950e+12</td><td>5620163</td><td>1</td><td>2016-04-26</td><td>2016-04-29</td><td>29</td><td>51</td><td>0</td><td>0</td><td>0</td><td>⋯</td><td>0</td><td>1</td><td>1</td><td>3</td><td>2016</td><td>4</td><td>26</td><td>2016</td><td>4</td><td>29</td></tr>\n",
              "\t<tr><th scope=row>13</th><td>5.666550e+14</td><td>5634718</td><td>0</td><td>2016-04-28</td><td>2016-04-29</td><td>22</td><td>51</td><td>1</td><td>0</td><td>0</td><td>⋯</td><td>0</td><td>0</td><td>0</td><td>1</td><td>2016</td><td>4</td><td>28</td><td>2016</td><td>4</td><td>29</td></tr>\n",
              "\t<tr><th scope=row>14</th><td>9.113950e+14</td><td>5636249</td><td>1</td><td>2016-04-28</td><td>2016-04-29</td><td>28</td><td>51</td><td>0</td><td>0</td><td>0</td><td>⋯</td><td>0</td><td>0</td><td>0</td><td>1</td><td>2016</td><td>4</td><td>28</td><td>2016</td><td>4</td><td>29</td></tr>\n",
              "\t<tr><th scope=row>16</th><td>9.994839e+10</td><td>5620206</td><td>0</td><td>2016-04-26</td><td>2016-04-29</td><td>15</td><td>51</td><td>0</td><td>0</td><td>0</td><td>⋯</td><td>0</td><td>1</td><td>0</td><td>3</td><td>2016</td><td>4</td><td>26</td><td>2016</td><td>4</td><td>29</td></tr>\n",
              "\t<tr><th scope=row>17</th><td>8.457440e+13</td><td>5633121</td><td>1</td><td>2016-04-28</td><td>2016-04-29</td><td>50</td><td>51</td><td>0</td><td>0</td><td>0</td><td>⋯</td><td>0</td><td>0</td><td>0</td><td>1</td><td>2016</td><td>4</td><td>28</td><td>2016</td><td>4</td><td>29</td></tr>\n",
              "\t<tr><th scope=row>18</th><td>1.479500e+13</td><td>5633460</td><td>0</td><td>2016-04-28</td><td>2016-04-29</td><td>40</td><td>13</td><td>1</td><td>0</td><td>0</td><td>⋯</td><td>0</td><td>0</td><td>1</td><td>1</td><td>2016</td><td>4</td><td>28</td><td>2016</td><td>4</td><td>29</td></tr>\n",
              "\t<tr><th scope=row>19</th><td>1.713540e+13</td><td>5621836</td><td>0</td><td>2016-04-26</td><td>2016-04-29</td><td>30</td><td>51</td><td>1</td><td>0</td><td>0</td><td>⋯</td><td>0</td><td>1</td><td>0</td><td>3</td><td>2016</td><td>4</td><td>26</td><td>2016</td><td>4</td><td>29</td></tr>\n",
              "\t<tr><th scope=row>20</th><td>7.223290e+12</td><td>5640433</td><td>0</td><td>2016-04-29</td><td>2016-04-29</td><td>46</td><td>16</td><td>0</td><td>0</td><td>0</td><td>⋯</td><td>0</td><td>0</td><td>0</td><td>0</td><td>2016</td><td>4</td><td>29</td><td>2016</td><td>4</td><td>29</td></tr>\n",
              "\t<tr><th scope=row>21</th><td>6.222570e+14</td><td>5626083</td><td>0</td><td>2016-04-27</td><td>2016-04-29</td><td>30</td><td>51</td><td>0</td><td>0</td><td>0</td><td>⋯</td><td>0</td><td>0</td><td>1</td><td>2</td><td>2016</td><td>4</td><td>27</td><td>2016</td><td>4</td><td>29</td></tr>\n",
              "\t<tr><th scope=row>22</th><td>1.215480e+13</td><td>5628338</td><td>0</td><td>2016-04-27</td><td>2016-04-29</td><td> 4</td><td>13</td><td>0</td><td>0</td><td>0</td><td>⋯</td><td>0</td><td>0</td><td>1</td><td>2</td><td>2016</td><td>4</td><td>27</td><td>2016</td><td>4</td><td>29</td></tr>\n",
              "\t<tr><th scope=row>23</th><td>8.632300e+14</td><td>5616091</td><td>1</td><td>2016-04-25</td><td>2016-04-29</td><td>13</td><td>13</td><td>0</td><td>0</td><td>0</td><td>⋯</td><td>0</td><td>1</td><td>1</td><td>4</td><td>2016</td><td>4</td><td>25</td><td>2016</td><td>4</td><td>29</td></tr>\n",
              "\t<tr><th scope=row>24</th><td>2.137540e+14</td><td>5634142</td><td>0</td><td>2016-04-28</td><td>2016-04-29</td><td>46</td><td>13</td><td>0</td><td>0</td><td>0</td><td>⋯</td><td>0</td><td>0</td><td>0</td><td>1</td><td>2016</td><td>4</td><td>28</td><td>2016</td><td>4</td><td>29</td></tr>\n",
              "\t<tr><th scope=row>25</th><td>8.734860e+12</td><td>5641780</td><td>0</td><td>2016-04-29</td><td>2016-04-29</td><td>65</td><td>79</td><td>0</td><td>0</td><td>0</td><td>⋯</td><td>0</td><td>0</td><td>0</td><td>0</td><td>2016</td><td>4</td><td>29</td><td>2016</td><td>4</td><td>29</td></tr>\n",
              "\t<tr><th scope=row>26</th><td>5.819370e+12</td><td>5624020</td><td>1</td><td>2016-04-26</td><td>2016-04-29</td><td>46</td><td>13</td><td>0</td><td>1</td><td>0</td><td>⋯</td><td>0</td><td>1</td><td>0</td><td>3</td><td>2016</td><td>4</td><td>26</td><td>2016</td><td>4</td><td>29</td></tr>\n",
              "\t<tr><th scope=row>27</th><td>2.578785e+10</td><td>5641781</td><td>0</td><td>2016-04-29</td><td>2016-04-29</td><td>45</td><td> 7</td><td>0</td><td>1</td><td>0</td><td>⋯</td><td>0</td><td>0</td><td>0</td><td>0</td><td>2016</td><td>4</td><td>29</td><td>2016</td><td>4</td><td>29</td></tr>\n",
              "\t<tr><th scope=row>28</th><td>1.215480e+13</td><td>5628345</td><td>0</td><td>2016-04-27</td><td>2016-04-29</td><td> 4</td><td>13</td><td>0</td><td>0</td><td>0</td><td>⋯</td><td>0</td><td>0</td><td>0</td><td>2</td><td>2016</td><td>4</td><td>27</td><td>2016</td><td>4</td><td>29</td></tr>\n",
              "\t<tr><th scope=row>29</th><td>5.926170e+12</td><td>5642400</td><td>1</td><td>2016-04-29</td><td>2016-04-29</td><td>51</td><td>76</td><td>0</td><td>0</td><td>0</td><td>⋯</td><td>0</td><td>0</td><td>0</td><td>0</td><td>2016</td><td>4</td><td>29</td><td>2016</td><td>4</td><td>29</td></tr>\n",
              "\t<tr><th scope=row>31</th><td>3.428160e+11</td><td>5628068</td><td>0</td><td>2016-04-27</td><td>2016-04-29</td><td>46</td><td>51</td><td>0</td><td>0</td><td>0</td><td>⋯</td><td>0</td><td>0</td><td>0</td><td>2</td><td>2016</td><td>4</td><td>27</td><td>2016</td><td>4</td><td>29</td></tr>\n",
              "\t<tr><th scope=row>32</th><td>3.112850e+11</td><td>5628907</td><td>1</td><td>2016-04-27</td><td>2016-04-29</td><td>12</td><td>51</td><td>1</td><td>0</td><td>0</td><td>⋯</td><td>0</td><td>0</td><td>1</td><td>2</td><td>2016</td><td>4</td><td>27</td><td>2016</td><td>4</td><td>29</td></tr>\n",
              "\t<tr><th scope=row>⋮</th><td>⋮</td><td>⋮</td><td>⋮</td><td>⋮</td><td>⋮</td><td>⋮</td><td>⋮</td><td>⋮</td><td>⋮</td><td>⋮</td><td>⋱</td><td>⋮</td><td>⋮</td><td>⋮</td><td>⋮</td><td>⋮</td><td>⋮</td><td>⋮</td><td>⋮</td><td>⋮</td><td>⋮</td></tr>\n",
              "\t<tr><th scope=row>110498</th><td>7.93589e+14</td><td>5757745</td><td>1</td><td>2016-06-01</td><td>2016-06-01</td><td>76</td><td>44</td><td>0</td><td>0</td><td>0</td><td>⋯</td><td>0</td><td>0</td><td>0</td><td> 0</td><td>2016</td><td>6</td><td> 1</td><td>2016</td><td>6</td><td>1</td></tr>\n",
              "\t<tr><th scope=row>110499</th><td>9.43365e+13</td><td>5787655</td><td>0</td><td>2016-06-08</td><td>2016-06-08</td><td>59</td><td>44</td><td>0</td><td>0</td><td>0</td><td>⋯</td><td>0</td><td>0</td><td>0</td><td> 0</td><td>2016</td><td>6</td><td> 8</td><td>2016</td><td>6</td><td>8</td></tr>\n",
              "\t<tr><th scope=row>110500</th><td>8.21969e+14</td><td>5757697</td><td>0</td><td>2016-06-01</td><td>2016-06-01</td><td>66</td><td>44</td><td>0</td><td>1</td><td>1</td><td>⋯</td><td>0</td><td>0</td><td>0</td><td> 0</td><td>2016</td><td>6</td><td> 1</td><td>2016</td><td>6</td><td>1</td></tr>\n",
              "\t<tr><th scope=row>110501</th><td>4.43438e+14</td><td>5787233</td><td>0</td><td>2016-06-08</td><td>2016-06-08</td><td>59</td><td>44</td><td>0</td><td>0</td><td>0</td><td>⋯</td><td>0</td><td>0</td><td>0</td><td> 0</td><td>2016</td><td>6</td><td> 8</td><td>2016</td><td>6</td><td>8</td></tr>\n",
              "\t<tr><th scope=row>110502</th><td>4.54425e+11</td><td>5758133</td><td>1</td><td>2016-06-01</td><td>2016-06-01</td><td>44</td><td>44</td><td>0</td><td>0</td><td>0</td><td>⋯</td><td>0</td><td>0</td><td>0</td><td> 0</td><td>2016</td><td>6</td><td> 1</td><td>2016</td><td>6</td><td>1</td></tr>\n",
              "\t<tr><th scope=row>110503</th><td>7.31623e+14</td><td>5787937</td><td>0</td><td>2016-06-08</td><td>2016-06-08</td><td>22</td><td>26</td><td>0</td><td>0</td><td>0</td><td>⋯</td><td>0</td><td>0</td><td>0</td><td> 0</td><td>2016</td><td>6</td><td> 8</td><td>2016</td><td>6</td><td>8</td></tr>\n",
              "\t<tr><th scope=row>110504</th><td>2.36218e+13</td><td>5759473</td><td>0</td><td>2016-06-01</td><td>2016-06-01</td><td>64</td><td>78</td><td>0</td><td>0</td><td>0</td><td>⋯</td><td>0</td><td>0</td><td>0</td><td> 0</td><td>2016</td><td>6</td><td> 1</td><td>2016</td><td>6</td><td>1</td></tr>\n",
              "\t<tr><th scope=row>110505</th><td>9.94798e+12</td><td>5788052</td><td>0</td><td>2016-06-08</td><td>2016-06-08</td><td> 4</td><td>44</td><td>0</td><td>0</td><td>0</td><td>⋯</td><td>0</td><td>0</td><td>0</td><td> 0</td><td>2016</td><td>6</td><td> 8</td><td>2016</td><td>6</td><td>8</td></tr>\n",
              "\t<tr><th scope=row>110506</th><td>5.66734e+13</td><td>5758455</td><td>0</td><td>2016-06-01</td><td>2016-06-01</td><td>55</td><td>44</td><td>0</td><td>0</td><td>0</td><td>⋯</td><td>0</td><td>0</td><td>0</td><td> 0</td><td>2016</td><td>6</td><td> 1</td><td>2016</td><td>6</td><td>1</td></tr>\n",
              "\t<tr><th scope=row>110507</th><td>8.97388e+11</td><td>5758779</td><td>1</td><td>2016-06-01</td><td>2016-06-01</td><td> 5</td><td>44</td><td>0</td><td>0</td><td>0</td><td>⋯</td><td>0</td><td>0</td><td>0</td><td> 0</td><td>2016</td><td>6</td><td> 1</td><td>2016</td><td>6</td><td>1</td></tr>\n",
              "\t<tr><th scope=row>110508</th><td>4.76946e+14</td><td>5786918</td><td>0</td><td>2016-06-08</td><td>2016-06-08</td><td> 0</td><td>44</td><td>0</td><td>0</td><td>0</td><td>⋯</td><td>0</td><td>0</td><td>0</td><td> 0</td><td>2016</td><td>6</td><td> 8</td><td>2016</td><td>6</td><td>8</td></tr>\n",
              "\t<tr><th scope=row>110509</th><td>9.43365e+13</td><td>5757656</td><td>0</td><td>2016-06-01</td><td>2016-06-01</td><td>59</td><td>44</td><td>0</td><td>0</td><td>0</td><td>⋯</td><td>0</td><td>0</td><td>0</td><td> 0</td><td>2016</td><td>6</td><td> 1</td><td>2016</td><td>6</td><td>1</td></tr>\n",
              "\t<tr><th scope=row>110510</th><td>4.95297e+14</td><td>5786750</td><td>1</td><td>2016-06-08</td><td>2016-06-08</td><td>33</td><td>44</td><td>0</td><td>0</td><td>0</td><td>⋯</td><td>0</td><td>0</td><td>0</td><td> 0</td><td>2016</td><td>6</td><td> 8</td><td>2016</td><td>6</td><td>8</td></tr>\n",
              "\t<tr><th scope=row>110511</th><td>2.36218e+13</td><td>5757587</td><td>0</td><td>2016-06-01</td><td>2016-06-01</td><td>64</td><td>78</td><td>0</td><td>0</td><td>0</td><td>⋯</td><td>0</td><td>0</td><td>0</td><td> 0</td><td>2016</td><td>6</td><td> 1</td><td>2016</td><td>6</td><td>1</td></tr>\n",
              "\t<tr><th scope=row>110512</th><td>8.23600e+11</td><td>5786742</td><td>0</td><td>2016-06-08</td><td>2016-06-08</td><td>14</td><td>44</td><td>0</td><td>0</td><td>0</td><td>⋯</td><td>0</td><td>0</td><td>0</td><td> 0</td><td>2016</td><td>6</td><td> 8</td><td>2016</td><td>6</td><td>8</td></tr>\n",
              "\t<tr><th scope=row>110513</th><td>9.87625e+13</td><td>5786368</td><td>0</td><td>2016-06-08</td><td>2016-06-08</td><td>41</td><td>44</td><td>0</td><td>0</td><td>0</td><td>⋯</td><td>0</td><td>0</td><td>0</td><td> 0</td><td>2016</td><td>6</td><td> 8</td><td>2016</td><td>6</td><td>8</td></tr>\n",
              "\t<tr><th scope=row>110514</th><td>8.67478e+13</td><td>5785964</td><td>1</td><td>2016-06-08</td><td>2016-06-08</td><td> 2</td><td> 3</td><td>0</td><td>0</td><td>0</td><td>⋯</td><td>0</td><td>0</td><td>0</td><td> 0</td><td>2016</td><td>6</td><td> 8</td><td>2016</td><td>6</td><td>8</td></tr>\n",
              "\t<tr><th scope=row>110515</th><td>2.69569e+12</td><td>5786567</td><td>0</td><td>2016-06-08</td><td>2016-06-08</td><td>58</td><td>44</td><td>0</td><td>0</td><td>0</td><td>⋯</td><td>0</td><td>0</td><td>0</td><td> 0</td><td>2016</td><td>6</td><td> 8</td><td>2016</td><td>6</td><td>8</td></tr>\n",
              "\t<tr><th scope=row>110516</th><td>6.45634e+14</td><td>5778621</td><td>1</td><td>2016-06-06</td><td>2016-06-08</td><td>33</td><td>44</td><td>0</td><td>1</td><td>0</td><td>⋯</td><td>0</td><td>0</td><td>1</td><td> 2</td><td>2016</td><td>6</td><td> 6</td><td>2016</td><td>6</td><td>8</td></tr>\n",
              "\t<tr><th scope=row>110517</th><td>6.92377e+13</td><td>5780205</td><td>0</td><td>2016-06-07</td><td>2016-06-08</td><td>37</td><td>44</td><td>0</td><td>0</td><td>0</td><td>⋯</td><td>0</td><td>0</td><td>1</td><td> 1</td><td>2016</td><td>6</td><td> 7</td><td>2016</td><td>6</td><td>8</td></tr>\n",
              "\t<tr><th scope=row>110518</th><td>5.57494e+12</td><td>5780122</td><td>0</td><td>2016-06-07</td><td>2016-06-07</td><td>19</td><td>44</td><td>0</td><td>0</td><td>0</td><td>⋯</td><td>0</td><td>0</td><td>0</td><td> 0</td><td>2016</td><td>6</td><td> 7</td><td>2016</td><td>6</td><td>7</td></tr>\n",
              "\t<tr><th scope=row>110519</th><td>7.26331e+13</td><td>5630375</td><td>0</td><td>2016-04-27</td><td>2016-06-07</td><td>50</td><td>44</td><td>0</td><td>0</td><td>0</td><td>⋯</td><td>0</td><td>1</td><td>0</td><td>41</td><td>2016</td><td>4</td><td>27</td><td>2016</td><td>6</td><td>7</td></tr>\n",
              "\t<tr><th scope=row>110520</th><td>6.54239e+13</td><td>5630447</td><td>0</td><td>2016-04-27</td><td>2016-06-07</td><td>22</td><td>44</td><td>0</td><td>0</td><td>0</td><td>⋯</td><td>0</td><td>1</td><td>0</td><td>41</td><td>2016</td><td>4</td><td>27</td><td>2016</td><td>6</td><td>7</td></tr>\n",
              "\t<tr><th scope=row>110521</th><td>9.96998e+14</td><td>5650534</td><td>0</td><td>2016-05-03</td><td>2016-06-07</td><td>42</td><td>44</td><td>0</td><td>0</td><td>0</td><td>⋯</td><td>0</td><td>1</td><td>0</td><td>35</td><td>2016</td><td>5</td><td> 3</td><td>2016</td><td>6</td><td>7</td></tr>\n",
              "\t<tr><th scope=row>110522</th><td>3.63553e+13</td><td>5651072</td><td>0</td><td>2016-05-03</td><td>2016-06-07</td><td>53</td><td>44</td><td>0</td><td>0</td><td>0</td><td>⋯</td><td>0</td><td>1</td><td>0</td><td>35</td><td>2016</td><td>5</td><td> 3</td><td>2016</td><td>6</td><td>7</td></tr>\n",
              "\t<tr><th scope=row>110523</th><td>2.57213e+12</td><td>5651768</td><td>0</td><td>2016-05-03</td><td>2016-06-07</td><td>56</td><td>44</td><td>0</td><td>0</td><td>0</td><td>⋯</td><td>0</td><td>1</td><td>0</td><td>35</td><td>2016</td><td>5</td><td> 3</td><td>2016</td><td>6</td><td>7</td></tr>\n",
              "\t<tr><th scope=row>110524</th><td>3.59627e+12</td><td>5650093</td><td>0</td><td>2016-05-03</td><td>2016-06-07</td><td>51</td><td>44</td><td>0</td><td>0</td><td>0</td><td>⋯</td><td>0</td><td>1</td><td>0</td><td>35</td><td>2016</td><td>5</td><td> 3</td><td>2016</td><td>6</td><td>7</td></tr>\n",
              "\t<tr><th scope=row>110525</th><td>1.55766e+13</td><td>5630692</td><td>0</td><td>2016-04-27</td><td>2016-06-07</td><td>21</td><td>44</td><td>0</td><td>0</td><td>0</td><td>⋯</td><td>0</td><td>1</td><td>0</td><td>41</td><td>2016</td><td>4</td><td>27</td><td>2016</td><td>6</td><td>7</td></tr>\n",
              "\t<tr><th scope=row>110526</th><td>9.21349e+13</td><td>5630323</td><td>0</td><td>2016-04-27</td><td>2016-06-07</td><td>38</td><td>44</td><td>0</td><td>0</td><td>0</td><td>⋯</td><td>0</td><td>1</td><td>0</td><td>41</td><td>2016</td><td>4</td><td>27</td><td>2016</td><td>6</td><td>7</td></tr>\n",
              "\t<tr><th scope=row>110527</th><td>3.77512e+14</td><td>5629448</td><td>0</td><td>2016-04-27</td><td>2016-06-07</td><td>54</td><td>44</td><td>0</td><td>0</td><td>0</td><td>⋯</td><td>0</td><td>1</td><td>0</td><td>41</td><td>2016</td><td>4</td><td>27</td><td>2016</td><td>6</td><td>7</td></tr>\n",
              "</tbody>\n",
              "</table>\n"
            ],
            "text/markdown": "\nA data.frame: 110523 × 21\n\n| <!--/--> | PatientId &lt;dbl&gt; | AppointmentID &lt;int&gt; | Gender &lt;dbl&gt; | ScheduledDay &lt;date&gt; | AppointmentDay &lt;date&gt; | Age &lt;int&gt; | Neighbourhood &lt;int&gt; | Scholarship &lt;int&gt; | Hipertension &lt;int&gt; | Diabetes &lt;int&gt; | ⋯ ⋯ | Handcap &lt;int&gt; | SMS_received &lt;int&gt; | No.show &lt;dbl&gt; | AwaitingTime &lt;dbl&gt; | Scheduled_year &lt;dbl&gt; | Scheduled_mon &lt;dbl&gt; | Scheduled_day &lt;int&gt; | Appointment_year &lt;dbl&gt; | Appointment_mon &lt;dbl&gt; | Appointment_day &lt;int&gt; |\n|---|---|---|---|---|---|---|---|---|---|---|---|---|---|---|---|---|---|---|---|---|---|\n| 1 | 2.987250e+13 | 5642903 | 0 | 2016-04-29 | 2016-04-29 | 62 | 40 | 0 | 1 | 0 | ⋯ | 0 | 0 | 0 | 0 | 2016 | 4 | 29 | 2016 | 4 | 29 |\n| 2 | 5.589980e+14 | 5642503 | 1 | 2016-04-29 | 2016-04-29 | 56 | 40 | 0 | 0 | 0 | ⋯ | 0 | 0 | 0 | 0 | 2016 | 4 | 29 | 2016 | 4 | 29 |\n| 3 | 4.262960e+12 | 5642549 | 0 | 2016-04-29 | 2016-04-29 | 62 | 47 | 0 | 0 | 0 | ⋯ | 0 | 0 | 0 | 0 | 2016 | 4 | 29 | 2016 | 4 | 29 |\n| 4 | 8.679510e+11 | 5642828 | 0 | 2016-04-29 | 2016-04-29 |  8 | 55 | 0 | 0 | 0 | ⋯ | 0 | 0 | 0 | 0 | 2016 | 4 | 29 | 2016 | 4 | 29 |\n| 5 | 8.841190e+12 | 5642494 | 0 | 2016-04-29 | 2016-04-29 | 56 | 40 | 0 | 1 | 1 | ⋯ | 0 | 0 | 0 | 0 | 2016 | 4 | 29 | 2016 | 4 | 29 |\n| 6 | 9.598510e+13 | 5626772 | 0 | 2016-04-27 | 2016-04-29 | 76 | 59 | 0 | 1 | 0 | ⋯ | 0 | 0 | 0 | 2 | 2016 | 4 | 27 | 2016 | 4 | 29 |\n| 7 | 7.336880e+14 | 5630279 | 0 | 2016-04-27 | 2016-04-29 | 23 | 26 | 0 | 0 | 0 | ⋯ | 0 | 0 | 1 | 2 | 2016 | 4 | 27 | 2016 | 4 | 29 |\n| 8 | 3.449830e+12 | 5630575 | 0 | 2016-04-27 | 2016-04-29 | 39 | 26 | 0 | 0 | 0 | ⋯ | 0 | 0 | 1 | 2 | 2016 | 4 | 27 | 2016 | 4 | 29 |\n| 9 | 5.639470e+13 | 5638447 | 0 | 2016-04-29 | 2016-04-29 | 21 |  2 | 0 | 0 | 0 | ⋯ | 0 | 0 | 0 | 0 | 2016 | 4 | 29 | 2016 | 4 | 29 |\n| 10 | 7.812460e+13 | 5629123 | 0 | 2016-04-27 | 2016-04-29 | 19 | 13 | 0 | 0 | 0 | ⋯ | 0 | 0 | 0 | 2 | 2016 | 4 | 27 | 2016 | 4 | 29 |\n| 11 | 7.345360e+14 | 5630213 | 0 | 2016-04-27 | 2016-04-29 | 30 | 51 | 0 | 0 | 0 | ⋯ | 0 | 0 | 0 | 2 | 2016 | 4 | 27 | 2016 | 4 | 29 |\n| 12 | 7.542950e+12 | 5620163 | 1 | 2016-04-26 | 2016-04-29 | 29 | 51 | 0 | 0 | 0 | ⋯ | 0 | 1 | 1 | 3 | 2016 | 4 | 26 | 2016 | 4 | 29 |\n| 13 | 5.666550e+14 | 5634718 | 0 | 2016-04-28 | 2016-04-29 | 22 | 51 | 1 | 0 | 0 | ⋯ | 0 | 0 | 0 | 1 | 2016 | 4 | 28 | 2016 | 4 | 29 |\n| 14 | 9.113950e+14 | 5636249 | 1 | 2016-04-28 | 2016-04-29 | 28 | 51 | 0 | 0 | 0 | ⋯ | 0 | 0 | 0 | 1 | 2016 | 4 | 28 | 2016 | 4 | 29 |\n| 16 | 9.994839e+10 | 5620206 | 0 | 2016-04-26 | 2016-04-29 | 15 | 51 | 0 | 0 | 0 | ⋯ | 0 | 1 | 0 | 3 | 2016 | 4 | 26 | 2016 | 4 | 29 |\n| 17 | 8.457440e+13 | 5633121 | 1 | 2016-04-28 | 2016-04-29 | 50 | 51 | 0 | 0 | 0 | ⋯ | 0 | 0 | 0 | 1 | 2016 | 4 | 28 | 2016 | 4 | 29 |\n| 18 | 1.479500e+13 | 5633460 | 0 | 2016-04-28 | 2016-04-29 | 40 | 13 | 1 | 0 | 0 | ⋯ | 0 | 0 | 1 | 1 | 2016 | 4 | 28 | 2016 | 4 | 29 |\n| 19 | 1.713540e+13 | 5621836 | 0 | 2016-04-26 | 2016-04-29 | 30 | 51 | 1 | 0 | 0 | ⋯ | 0 | 1 | 0 | 3 | 2016 | 4 | 26 | 2016 | 4 | 29 |\n| 20 | 7.223290e+12 | 5640433 | 0 | 2016-04-29 | 2016-04-29 | 46 | 16 | 0 | 0 | 0 | ⋯ | 0 | 0 | 0 | 0 | 2016 | 4 | 29 | 2016 | 4 | 29 |\n| 21 | 6.222570e+14 | 5626083 | 0 | 2016-04-27 | 2016-04-29 | 30 | 51 | 0 | 0 | 0 | ⋯ | 0 | 0 | 1 | 2 | 2016 | 4 | 27 | 2016 | 4 | 29 |\n| 22 | 1.215480e+13 | 5628338 | 0 | 2016-04-27 | 2016-04-29 |  4 | 13 | 0 | 0 | 0 | ⋯ | 0 | 0 | 1 | 2 | 2016 | 4 | 27 | 2016 | 4 | 29 |\n| 23 | 8.632300e+14 | 5616091 | 1 | 2016-04-25 | 2016-04-29 | 13 | 13 | 0 | 0 | 0 | ⋯ | 0 | 1 | 1 | 4 | 2016 | 4 | 25 | 2016 | 4 | 29 |\n| 24 | 2.137540e+14 | 5634142 | 0 | 2016-04-28 | 2016-04-29 | 46 | 13 | 0 | 0 | 0 | ⋯ | 0 | 0 | 0 | 1 | 2016 | 4 | 28 | 2016 | 4 | 29 |\n| 25 | 8.734860e+12 | 5641780 | 0 | 2016-04-29 | 2016-04-29 | 65 | 79 | 0 | 0 | 0 | ⋯ | 0 | 0 | 0 | 0 | 2016 | 4 | 29 | 2016 | 4 | 29 |\n| 26 | 5.819370e+12 | 5624020 | 1 | 2016-04-26 | 2016-04-29 | 46 | 13 | 0 | 1 | 0 | ⋯ | 0 | 1 | 0 | 3 | 2016 | 4 | 26 | 2016 | 4 | 29 |\n| 27 | 2.578785e+10 | 5641781 | 0 | 2016-04-29 | 2016-04-29 | 45 |  7 | 0 | 1 | 0 | ⋯ | 0 | 0 | 0 | 0 | 2016 | 4 | 29 | 2016 | 4 | 29 |\n| 28 | 1.215480e+13 | 5628345 | 0 | 2016-04-27 | 2016-04-29 |  4 | 13 | 0 | 0 | 0 | ⋯ | 0 | 0 | 0 | 2 | 2016 | 4 | 27 | 2016 | 4 | 29 |\n| 29 | 5.926170e+12 | 5642400 | 1 | 2016-04-29 | 2016-04-29 | 51 | 76 | 0 | 0 | 0 | ⋯ | 0 | 0 | 0 | 0 | 2016 | 4 | 29 | 2016 | 4 | 29 |\n| 31 | 3.428160e+11 | 5628068 | 0 | 2016-04-27 | 2016-04-29 | 46 | 51 | 0 | 0 | 0 | ⋯ | 0 | 0 | 0 | 2 | 2016 | 4 | 27 | 2016 | 4 | 29 |\n| 32 | 3.112850e+11 | 5628907 | 1 | 2016-04-27 | 2016-04-29 | 12 | 51 | 1 | 0 | 0 | ⋯ | 0 | 0 | 1 | 2 | 2016 | 4 | 27 | 2016 | 4 | 29 |\n| ⋮ | ⋮ | ⋮ | ⋮ | ⋮ | ⋮ | ⋮ | ⋮ | ⋮ | ⋮ | ⋮ | ⋱ | ⋮ | ⋮ | ⋮ | ⋮ | ⋮ | ⋮ | ⋮ | ⋮ | ⋮ | ⋮ |\n| 110498 | 7.93589e+14 | 5757745 | 1 | 2016-06-01 | 2016-06-01 | 76 | 44 | 0 | 0 | 0 | ⋯ | 0 | 0 | 0 |  0 | 2016 | 6 |  1 | 2016 | 6 | 1 |\n| 110499 | 9.43365e+13 | 5787655 | 0 | 2016-06-08 | 2016-06-08 | 59 | 44 | 0 | 0 | 0 | ⋯ | 0 | 0 | 0 |  0 | 2016 | 6 |  8 | 2016 | 6 | 8 |\n| 110500 | 8.21969e+14 | 5757697 | 0 | 2016-06-01 | 2016-06-01 | 66 | 44 | 0 | 1 | 1 | ⋯ | 0 | 0 | 0 |  0 | 2016 | 6 |  1 | 2016 | 6 | 1 |\n| 110501 | 4.43438e+14 | 5787233 | 0 | 2016-06-08 | 2016-06-08 | 59 | 44 | 0 | 0 | 0 | ⋯ | 0 | 0 | 0 |  0 | 2016 | 6 |  8 | 2016 | 6 | 8 |\n| 110502 | 4.54425e+11 | 5758133 | 1 | 2016-06-01 | 2016-06-01 | 44 | 44 | 0 | 0 | 0 | ⋯ | 0 | 0 | 0 |  0 | 2016 | 6 |  1 | 2016 | 6 | 1 |\n| 110503 | 7.31623e+14 | 5787937 | 0 | 2016-06-08 | 2016-06-08 | 22 | 26 | 0 | 0 | 0 | ⋯ | 0 | 0 | 0 |  0 | 2016 | 6 |  8 | 2016 | 6 | 8 |\n| 110504 | 2.36218e+13 | 5759473 | 0 | 2016-06-01 | 2016-06-01 | 64 | 78 | 0 | 0 | 0 | ⋯ | 0 | 0 | 0 |  0 | 2016 | 6 |  1 | 2016 | 6 | 1 |\n| 110505 | 9.94798e+12 | 5788052 | 0 | 2016-06-08 | 2016-06-08 |  4 | 44 | 0 | 0 | 0 | ⋯ | 0 | 0 | 0 |  0 | 2016 | 6 |  8 | 2016 | 6 | 8 |\n| 110506 | 5.66734e+13 | 5758455 | 0 | 2016-06-01 | 2016-06-01 | 55 | 44 | 0 | 0 | 0 | ⋯ | 0 | 0 | 0 |  0 | 2016 | 6 |  1 | 2016 | 6 | 1 |\n| 110507 | 8.97388e+11 | 5758779 | 1 | 2016-06-01 | 2016-06-01 |  5 | 44 | 0 | 0 | 0 | ⋯ | 0 | 0 | 0 |  0 | 2016 | 6 |  1 | 2016 | 6 | 1 |\n| 110508 | 4.76946e+14 | 5786918 | 0 | 2016-06-08 | 2016-06-08 |  0 | 44 | 0 | 0 | 0 | ⋯ | 0 | 0 | 0 |  0 | 2016 | 6 |  8 | 2016 | 6 | 8 |\n| 110509 | 9.43365e+13 | 5757656 | 0 | 2016-06-01 | 2016-06-01 | 59 | 44 | 0 | 0 | 0 | ⋯ | 0 | 0 | 0 |  0 | 2016 | 6 |  1 | 2016 | 6 | 1 |\n| 110510 | 4.95297e+14 | 5786750 | 1 | 2016-06-08 | 2016-06-08 | 33 | 44 | 0 | 0 | 0 | ⋯ | 0 | 0 | 0 |  0 | 2016 | 6 |  8 | 2016 | 6 | 8 |\n| 110511 | 2.36218e+13 | 5757587 | 0 | 2016-06-01 | 2016-06-01 | 64 | 78 | 0 | 0 | 0 | ⋯ | 0 | 0 | 0 |  0 | 2016 | 6 |  1 | 2016 | 6 | 1 |\n| 110512 | 8.23600e+11 | 5786742 | 0 | 2016-06-08 | 2016-06-08 | 14 | 44 | 0 | 0 | 0 | ⋯ | 0 | 0 | 0 |  0 | 2016 | 6 |  8 | 2016 | 6 | 8 |\n| 110513 | 9.87625e+13 | 5786368 | 0 | 2016-06-08 | 2016-06-08 | 41 | 44 | 0 | 0 | 0 | ⋯ | 0 | 0 | 0 |  0 | 2016 | 6 |  8 | 2016 | 6 | 8 |\n| 110514 | 8.67478e+13 | 5785964 | 1 | 2016-06-08 | 2016-06-08 |  2 |  3 | 0 | 0 | 0 | ⋯ | 0 | 0 | 0 |  0 | 2016 | 6 |  8 | 2016 | 6 | 8 |\n| 110515 | 2.69569e+12 | 5786567 | 0 | 2016-06-08 | 2016-06-08 | 58 | 44 | 0 | 0 | 0 | ⋯ | 0 | 0 | 0 |  0 | 2016 | 6 |  8 | 2016 | 6 | 8 |\n| 110516 | 6.45634e+14 | 5778621 | 1 | 2016-06-06 | 2016-06-08 | 33 | 44 | 0 | 1 | 0 | ⋯ | 0 | 0 | 1 |  2 | 2016 | 6 |  6 | 2016 | 6 | 8 |\n| 110517 | 6.92377e+13 | 5780205 | 0 | 2016-06-07 | 2016-06-08 | 37 | 44 | 0 | 0 | 0 | ⋯ | 0 | 0 | 1 |  1 | 2016 | 6 |  7 | 2016 | 6 | 8 |\n| 110518 | 5.57494e+12 | 5780122 | 0 | 2016-06-07 | 2016-06-07 | 19 | 44 | 0 | 0 | 0 | ⋯ | 0 | 0 | 0 |  0 | 2016 | 6 |  7 | 2016 | 6 | 7 |\n| 110519 | 7.26331e+13 | 5630375 | 0 | 2016-04-27 | 2016-06-07 | 50 | 44 | 0 | 0 | 0 | ⋯ | 0 | 1 | 0 | 41 | 2016 | 4 | 27 | 2016 | 6 | 7 |\n| 110520 | 6.54239e+13 | 5630447 | 0 | 2016-04-27 | 2016-06-07 | 22 | 44 | 0 | 0 | 0 | ⋯ | 0 | 1 | 0 | 41 | 2016 | 4 | 27 | 2016 | 6 | 7 |\n| 110521 | 9.96998e+14 | 5650534 | 0 | 2016-05-03 | 2016-06-07 | 42 | 44 | 0 | 0 | 0 | ⋯ | 0 | 1 | 0 | 35 | 2016 | 5 |  3 | 2016 | 6 | 7 |\n| 110522 | 3.63553e+13 | 5651072 | 0 | 2016-05-03 | 2016-06-07 | 53 | 44 | 0 | 0 | 0 | ⋯ | 0 | 1 | 0 | 35 | 2016 | 5 |  3 | 2016 | 6 | 7 |\n| 110523 | 2.57213e+12 | 5651768 | 0 | 2016-05-03 | 2016-06-07 | 56 | 44 | 0 | 0 | 0 | ⋯ | 0 | 1 | 0 | 35 | 2016 | 5 |  3 | 2016 | 6 | 7 |\n| 110524 | 3.59627e+12 | 5650093 | 0 | 2016-05-03 | 2016-06-07 | 51 | 44 | 0 | 0 | 0 | ⋯ | 0 | 1 | 0 | 35 | 2016 | 5 |  3 | 2016 | 6 | 7 |\n| 110525 | 1.55766e+13 | 5630692 | 0 | 2016-04-27 | 2016-06-07 | 21 | 44 | 0 | 0 | 0 | ⋯ | 0 | 1 | 0 | 41 | 2016 | 4 | 27 | 2016 | 6 | 7 |\n| 110526 | 9.21349e+13 | 5630323 | 0 | 2016-04-27 | 2016-06-07 | 38 | 44 | 0 | 0 | 0 | ⋯ | 0 | 1 | 0 | 41 | 2016 | 4 | 27 | 2016 | 6 | 7 |\n| 110527 | 3.77512e+14 | 5629448 | 0 | 2016-04-27 | 2016-06-07 | 54 | 44 | 0 | 0 | 0 | ⋯ | 0 | 1 | 0 | 41 | 2016 | 4 | 27 | 2016 | 6 | 7 |\n\n",
            "text/latex": "A data.frame: 110523 × 21\n\\begin{tabular}{r|lllllllllllllllllllll}\n  & PatientId & AppointmentID & Gender & ScheduledDay & AppointmentDay & Age & Neighbourhood & Scholarship & Hipertension & Diabetes & ⋯ & Handcap & SMS\\_received & No.show & AwaitingTime & Scheduled\\_year & Scheduled\\_mon & Scheduled\\_day & Appointment\\_year & Appointment\\_mon & Appointment\\_day\\\\\n  & <dbl> & <int> & <dbl> & <date> & <date> & <int> & <int> & <int> & <int> & <int> & ⋯ & <int> & <int> & <dbl> & <dbl> & <dbl> & <dbl> & <int> & <dbl> & <dbl> & <int>\\\\\n\\hline\n\t1 & 2.987250e+13 & 5642903 & 0 & 2016-04-29 & 2016-04-29 & 62 & 40 & 0 & 1 & 0 & ⋯ & 0 & 0 & 0 & 0 & 2016 & 4 & 29 & 2016 & 4 & 29\\\\\n\t2 & 5.589980e+14 & 5642503 & 1 & 2016-04-29 & 2016-04-29 & 56 & 40 & 0 & 0 & 0 & ⋯ & 0 & 0 & 0 & 0 & 2016 & 4 & 29 & 2016 & 4 & 29\\\\\n\t3 & 4.262960e+12 & 5642549 & 0 & 2016-04-29 & 2016-04-29 & 62 & 47 & 0 & 0 & 0 & ⋯ & 0 & 0 & 0 & 0 & 2016 & 4 & 29 & 2016 & 4 & 29\\\\\n\t4 & 8.679510e+11 & 5642828 & 0 & 2016-04-29 & 2016-04-29 &  8 & 55 & 0 & 0 & 0 & ⋯ & 0 & 0 & 0 & 0 & 2016 & 4 & 29 & 2016 & 4 & 29\\\\\n\t5 & 8.841190e+12 & 5642494 & 0 & 2016-04-29 & 2016-04-29 & 56 & 40 & 0 & 1 & 1 & ⋯ & 0 & 0 & 0 & 0 & 2016 & 4 & 29 & 2016 & 4 & 29\\\\\n\t6 & 9.598510e+13 & 5626772 & 0 & 2016-04-27 & 2016-04-29 & 76 & 59 & 0 & 1 & 0 & ⋯ & 0 & 0 & 0 & 2 & 2016 & 4 & 27 & 2016 & 4 & 29\\\\\n\t7 & 7.336880e+14 & 5630279 & 0 & 2016-04-27 & 2016-04-29 & 23 & 26 & 0 & 0 & 0 & ⋯ & 0 & 0 & 1 & 2 & 2016 & 4 & 27 & 2016 & 4 & 29\\\\\n\t8 & 3.449830e+12 & 5630575 & 0 & 2016-04-27 & 2016-04-29 & 39 & 26 & 0 & 0 & 0 & ⋯ & 0 & 0 & 1 & 2 & 2016 & 4 & 27 & 2016 & 4 & 29\\\\\n\t9 & 5.639470e+13 & 5638447 & 0 & 2016-04-29 & 2016-04-29 & 21 &  2 & 0 & 0 & 0 & ⋯ & 0 & 0 & 0 & 0 & 2016 & 4 & 29 & 2016 & 4 & 29\\\\\n\t10 & 7.812460e+13 & 5629123 & 0 & 2016-04-27 & 2016-04-29 & 19 & 13 & 0 & 0 & 0 & ⋯ & 0 & 0 & 0 & 2 & 2016 & 4 & 27 & 2016 & 4 & 29\\\\\n\t11 & 7.345360e+14 & 5630213 & 0 & 2016-04-27 & 2016-04-29 & 30 & 51 & 0 & 0 & 0 & ⋯ & 0 & 0 & 0 & 2 & 2016 & 4 & 27 & 2016 & 4 & 29\\\\\n\t12 & 7.542950e+12 & 5620163 & 1 & 2016-04-26 & 2016-04-29 & 29 & 51 & 0 & 0 & 0 & ⋯ & 0 & 1 & 1 & 3 & 2016 & 4 & 26 & 2016 & 4 & 29\\\\\n\t13 & 5.666550e+14 & 5634718 & 0 & 2016-04-28 & 2016-04-29 & 22 & 51 & 1 & 0 & 0 & ⋯ & 0 & 0 & 0 & 1 & 2016 & 4 & 28 & 2016 & 4 & 29\\\\\n\t14 & 9.113950e+14 & 5636249 & 1 & 2016-04-28 & 2016-04-29 & 28 & 51 & 0 & 0 & 0 & ⋯ & 0 & 0 & 0 & 1 & 2016 & 4 & 28 & 2016 & 4 & 29\\\\\n\t16 & 9.994839e+10 & 5620206 & 0 & 2016-04-26 & 2016-04-29 & 15 & 51 & 0 & 0 & 0 & ⋯ & 0 & 1 & 0 & 3 & 2016 & 4 & 26 & 2016 & 4 & 29\\\\\n\t17 & 8.457440e+13 & 5633121 & 1 & 2016-04-28 & 2016-04-29 & 50 & 51 & 0 & 0 & 0 & ⋯ & 0 & 0 & 0 & 1 & 2016 & 4 & 28 & 2016 & 4 & 29\\\\\n\t18 & 1.479500e+13 & 5633460 & 0 & 2016-04-28 & 2016-04-29 & 40 & 13 & 1 & 0 & 0 & ⋯ & 0 & 0 & 1 & 1 & 2016 & 4 & 28 & 2016 & 4 & 29\\\\\n\t19 & 1.713540e+13 & 5621836 & 0 & 2016-04-26 & 2016-04-29 & 30 & 51 & 1 & 0 & 0 & ⋯ & 0 & 1 & 0 & 3 & 2016 & 4 & 26 & 2016 & 4 & 29\\\\\n\t20 & 7.223290e+12 & 5640433 & 0 & 2016-04-29 & 2016-04-29 & 46 & 16 & 0 & 0 & 0 & ⋯ & 0 & 0 & 0 & 0 & 2016 & 4 & 29 & 2016 & 4 & 29\\\\\n\t21 & 6.222570e+14 & 5626083 & 0 & 2016-04-27 & 2016-04-29 & 30 & 51 & 0 & 0 & 0 & ⋯ & 0 & 0 & 1 & 2 & 2016 & 4 & 27 & 2016 & 4 & 29\\\\\n\t22 & 1.215480e+13 & 5628338 & 0 & 2016-04-27 & 2016-04-29 &  4 & 13 & 0 & 0 & 0 & ⋯ & 0 & 0 & 1 & 2 & 2016 & 4 & 27 & 2016 & 4 & 29\\\\\n\t23 & 8.632300e+14 & 5616091 & 1 & 2016-04-25 & 2016-04-29 & 13 & 13 & 0 & 0 & 0 & ⋯ & 0 & 1 & 1 & 4 & 2016 & 4 & 25 & 2016 & 4 & 29\\\\\n\t24 & 2.137540e+14 & 5634142 & 0 & 2016-04-28 & 2016-04-29 & 46 & 13 & 0 & 0 & 0 & ⋯ & 0 & 0 & 0 & 1 & 2016 & 4 & 28 & 2016 & 4 & 29\\\\\n\t25 & 8.734860e+12 & 5641780 & 0 & 2016-04-29 & 2016-04-29 & 65 & 79 & 0 & 0 & 0 & ⋯ & 0 & 0 & 0 & 0 & 2016 & 4 & 29 & 2016 & 4 & 29\\\\\n\t26 & 5.819370e+12 & 5624020 & 1 & 2016-04-26 & 2016-04-29 & 46 & 13 & 0 & 1 & 0 & ⋯ & 0 & 1 & 0 & 3 & 2016 & 4 & 26 & 2016 & 4 & 29\\\\\n\t27 & 2.578785e+10 & 5641781 & 0 & 2016-04-29 & 2016-04-29 & 45 &  7 & 0 & 1 & 0 & ⋯ & 0 & 0 & 0 & 0 & 2016 & 4 & 29 & 2016 & 4 & 29\\\\\n\t28 & 1.215480e+13 & 5628345 & 0 & 2016-04-27 & 2016-04-29 &  4 & 13 & 0 & 0 & 0 & ⋯ & 0 & 0 & 0 & 2 & 2016 & 4 & 27 & 2016 & 4 & 29\\\\\n\t29 & 5.926170e+12 & 5642400 & 1 & 2016-04-29 & 2016-04-29 & 51 & 76 & 0 & 0 & 0 & ⋯ & 0 & 0 & 0 & 0 & 2016 & 4 & 29 & 2016 & 4 & 29\\\\\n\t31 & 3.428160e+11 & 5628068 & 0 & 2016-04-27 & 2016-04-29 & 46 & 51 & 0 & 0 & 0 & ⋯ & 0 & 0 & 0 & 2 & 2016 & 4 & 27 & 2016 & 4 & 29\\\\\n\t32 & 3.112850e+11 & 5628907 & 1 & 2016-04-27 & 2016-04-29 & 12 & 51 & 1 & 0 & 0 & ⋯ & 0 & 0 & 1 & 2 & 2016 & 4 & 27 & 2016 & 4 & 29\\\\\n\t⋮ & ⋮ & ⋮ & ⋮ & ⋮ & ⋮ & ⋮ & ⋮ & ⋮ & ⋮ & ⋮ & ⋱ & ⋮ & ⋮ & ⋮ & ⋮ & ⋮ & ⋮ & ⋮ & ⋮ & ⋮ & ⋮\\\\\n\t110498 & 7.93589e+14 & 5757745 & 1 & 2016-06-01 & 2016-06-01 & 76 & 44 & 0 & 0 & 0 & ⋯ & 0 & 0 & 0 &  0 & 2016 & 6 &  1 & 2016 & 6 & 1\\\\\n\t110499 & 9.43365e+13 & 5787655 & 0 & 2016-06-08 & 2016-06-08 & 59 & 44 & 0 & 0 & 0 & ⋯ & 0 & 0 & 0 &  0 & 2016 & 6 &  8 & 2016 & 6 & 8\\\\\n\t110500 & 8.21969e+14 & 5757697 & 0 & 2016-06-01 & 2016-06-01 & 66 & 44 & 0 & 1 & 1 & ⋯ & 0 & 0 & 0 &  0 & 2016 & 6 &  1 & 2016 & 6 & 1\\\\\n\t110501 & 4.43438e+14 & 5787233 & 0 & 2016-06-08 & 2016-06-08 & 59 & 44 & 0 & 0 & 0 & ⋯ & 0 & 0 & 0 &  0 & 2016 & 6 &  8 & 2016 & 6 & 8\\\\\n\t110502 & 4.54425e+11 & 5758133 & 1 & 2016-06-01 & 2016-06-01 & 44 & 44 & 0 & 0 & 0 & ⋯ & 0 & 0 & 0 &  0 & 2016 & 6 &  1 & 2016 & 6 & 1\\\\\n\t110503 & 7.31623e+14 & 5787937 & 0 & 2016-06-08 & 2016-06-08 & 22 & 26 & 0 & 0 & 0 & ⋯ & 0 & 0 & 0 &  0 & 2016 & 6 &  8 & 2016 & 6 & 8\\\\\n\t110504 & 2.36218e+13 & 5759473 & 0 & 2016-06-01 & 2016-06-01 & 64 & 78 & 0 & 0 & 0 & ⋯ & 0 & 0 & 0 &  0 & 2016 & 6 &  1 & 2016 & 6 & 1\\\\\n\t110505 & 9.94798e+12 & 5788052 & 0 & 2016-06-08 & 2016-06-08 &  4 & 44 & 0 & 0 & 0 & ⋯ & 0 & 0 & 0 &  0 & 2016 & 6 &  8 & 2016 & 6 & 8\\\\\n\t110506 & 5.66734e+13 & 5758455 & 0 & 2016-06-01 & 2016-06-01 & 55 & 44 & 0 & 0 & 0 & ⋯ & 0 & 0 & 0 &  0 & 2016 & 6 &  1 & 2016 & 6 & 1\\\\\n\t110507 & 8.97388e+11 & 5758779 & 1 & 2016-06-01 & 2016-06-01 &  5 & 44 & 0 & 0 & 0 & ⋯ & 0 & 0 & 0 &  0 & 2016 & 6 &  1 & 2016 & 6 & 1\\\\\n\t110508 & 4.76946e+14 & 5786918 & 0 & 2016-06-08 & 2016-06-08 &  0 & 44 & 0 & 0 & 0 & ⋯ & 0 & 0 & 0 &  0 & 2016 & 6 &  8 & 2016 & 6 & 8\\\\\n\t110509 & 9.43365e+13 & 5757656 & 0 & 2016-06-01 & 2016-06-01 & 59 & 44 & 0 & 0 & 0 & ⋯ & 0 & 0 & 0 &  0 & 2016 & 6 &  1 & 2016 & 6 & 1\\\\\n\t110510 & 4.95297e+14 & 5786750 & 1 & 2016-06-08 & 2016-06-08 & 33 & 44 & 0 & 0 & 0 & ⋯ & 0 & 0 & 0 &  0 & 2016 & 6 &  8 & 2016 & 6 & 8\\\\\n\t110511 & 2.36218e+13 & 5757587 & 0 & 2016-06-01 & 2016-06-01 & 64 & 78 & 0 & 0 & 0 & ⋯ & 0 & 0 & 0 &  0 & 2016 & 6 &  1 & 2016 & 6 & 1\\\\\n\t110512 & 8.23600e+11 & 5786742 & 0 & 2016-06-08 & 2016-06-08 & 14 & 44 & 0 & 0 & 0 & ⋯ & 0 & 0 & 0 &  0 & 2016 & 6 &  8 & 2016 & 6 & 8\\\\\n\t110513 & 9.87625e+13 & 5786368 & 0 & 2016-06-08 & 2016-06-08 & 41 & 44 & 0 & 0 & 0 & ⋯ & 0 & 0 & 0 &  0 & 2016 & 6 &  8 & 2016 & 6 & 8\\\\\n\t110514 & 8.67478e+13 & 5785964 & 1 & 2016-06-08 & 2016-06-08 &  2 &  3 & 0 & 0 & 0 & ⋯ & 0 & 0 & 0 &  0 & 2016 & 6 &  8 & 2016 & 6 & 8\\\\\n\t110515 & 2.69569e+12 & 5786567 & 0 & 2016-06-08 & 2016-06-08 & 58 & 44 & 0 & 0 & 0 & ⋯ & 0 & 0 & 0 &  0 & 2016 & 6 &  8 & 2016 & 6 & 8\\\\\n\t110516 & 6.45634e+14 & 5778621 & 1 & 2016-06-06 & 2016-06-08 & 33 & 44 & 0 & 1 & 0 & ⋯ & 0 & 0 & 1 &  2 & 2016 & 6 &  6 & 2016 & 6 & 8\\\\\n\t110517 & 6.92377e+13 & 5780205 & 0 & 2016-06-07 & 2016-06-08 & 37 & 44 & 0 & 0 & 0 & ⋯ & 0 & 0 & 1 &  1 & 2016 & 6 &  7 & 2016 & 6 & 8\\\\\n\t110518 & 5.57494e+12 & 5780122 & 0 & 2016-06-07 & 2016-06-07 & 19 & 44 & 0 & 0 & 0 & ⋯ & 0 & 0 & 0 &  0 & 2016 & 6 &  7 & 2016 & 6 & 7\\\\\n\t110519 & 7.26331e+13 & 5630375 & 0 & 2016-04-27 & 2016-06-07 & 50 & 44 & 0 & 0 & 0 & ⋯ & 0 & 1 & 0 & 41 & 2016 & 4 & 27 & 2016 & 6 & 7\\\\\n\t110520 & 6.54239e+13 & 5630447 & 0 & 2016-04-27 & 2016-06-07 & 22 & 44 & 0 & 0 & 0 & ⋯ & 0 & 1 & 0 & 41 & 2016 & 4 & 27 & 2016 & 6 & 7\\\\\n\t110521 & 9.96998e+14 & 5650534 & 0 & 2016-05-03 & 2016-06-07 & 42 & 44 & 0 & 0 & 0 & ⋯ & 0 & 1 & 0 & 35 & 2016 & 5 &  3 & 2016 & 6 & 7\\\\\n\t110522 & 3.63553e+13 & 5651072 & 0 & 2016-05-03 & 2016-06-07 & 53 & 44 & 0 & 0 & 0 & ⋯ & 0 & 1 & 0 & 35 & 2016 & 5 &  3 & 2016 & 6 & 7\\\\\n\t110523 & 2.57213e+12 & 5651768 & 0 & 2016-05-03 & 2016-06-07 & 56 & 44 & 0 & 0 & 0 & ⋯ & 0 & 1 & 0 & 35 & 2016 & 5 &  3 & 2016 & 6 & 7\\\\\n\t110524 & 3.59627e+12 & 5650093 & 0 & 2016-05-03 & 2016-06-07 & 51 & 44 & 0 & 0 & 0 & ⋯ & 0 & 1 & 0 & 35 & 2016 & 5 &  3 & 2016 & 6 & 7\\\\\n\t110525 & 1.55766e+13 & 5630692 & 0 & 2016-04-27 & 2016-06-07 & 21 & 44 & 0 & 0 & 0 & ⋯ & 0 & 1 & 0 & 41 & 2016 & 4 & 27 & 2016 & 6 & 7\\\\\n\t110526 & 9.21349e+13 & 5630323 & 0 & 2016-04-27 & 2016-06-07 & 38 & 44 & 0 & 0 & 0 & ⋯ & 0 & 1 & 0 & 41 & 2016 & 4 & 27 & 2016 & 6 & 7\\\\\n\t110527 & 3.77512e+14 & 5629448 & 0 & 2016-04-27 & 2016-06-07 & 54 & 44 & 0 & 0 & 0 & ⋯ & 0 & 1 & 0 & 41 & 2016 & 4 & 27 & 2016 & 6 & 7\\\\\n\\end{tabular}\n",
            "text/plain": [
              "       PatientId    AppointmentID Gender ScheduledDay AppointmentDay Age\n",
              "1      2.987250e+13 5642903       0      2016-04-29   2016-04-29     62 \n",
              "2      5.589980e+14 5642503       1      2016-04-29   2016-04-29     56 \n",
              "3      4.262960e+12 5642549       0      2016-04-29   2016-04-29     62 \n",
              "4      8.679510e+11 5642828       0      2016-04-29   2016-04-29      8 \n",
              "5      8.841190e+12 5642494       0      2016-04-29   2016-04-29     56 \n",
              "6      9.598510e+13 5626772       0      2016-04-27   2016-04-29     76 \n",
              "7      7.336880e+14 5630279       0      2016-04-27   2016-04-29     23 \n",
              "8      3.449830e+12 5630575       0      2016-04-27   2016-04-29     39 \n",
              "9      5.639470e+13 5638447       0      2016-04-29   2016-04-29     21 \n",
              "10     7.812460e+13 5629123       0      2016-04-27   2016-04-29     19 \n",
              "11     7.345360e+14 5630213       0      2016-04-27   2016-04-29     30 \n",
              "12     7.542950e+12 5620163       1      2016-04-26   2016-04-29     29 \n",
              "13     5.666550e+14 5634718       0      2016-04-28   2016-04-29     22 \n",
              "14     9.113950e+14 5636249       1      2016-04-28   2016-04-29     28 \n",
              "16     9.994839e+10 5620206       0      2016-04-26   2016-04-29     15 \n",
              "17     8.457440e+13 5633121       1      2016-04-28   2016-04-29     50 \n",
              "18     1.479500e+13 5633460       0      2016-04-28   2016-04-29     40 \n",
              "19     1.713540e+13 5621836       0      2016-04-26   2016-04-29     30 \n",
              "20     7.223290e+12 5640433       0      2016-04-29   2016-04-29     46 \n",
              "21     6.222570e+14 5626083       0      2016-04-27   2016-04-29     30 \n",
              "22     1.215480e+13 5628338       0      2016-04-27   2016-04-29      4 \n",
              "23     8.632300e+14 5616091       1      2016-04-25   2016-04-29     13 \n",
              "24     2.137540e+14 5634142       0      2016-04-28   2016-04-29     46 \n",
              "25     8.734860e+12 5641780       0      2016-04-29   2016-04-29     65 \n",
              "26     5.819370e+12 5624020       1      2016-04-26   2016-04-29     46 \n",
              "27     2.578785e+10 5641781       0      2016-04-29   2016-04-29     45 \n",
              "28     1.215480e+13 5628345       0      2016-04-27   2016-04-29      4 \n",
              "29     5.926170e+12 5642400       1      2016-04-29   2016-04-29     51 \n",
              "31     3.428160e+11 5628068       0      2016-04-27   2016-04-29     46 \n",
              "32     3.112850e+11 5628907       1      2016-04-27   2016-04-29     12 \n",
              "⋮      ⋮            ⋮             ⋮      ⋮            ⋮              ⋮  \n",
              "110498 7.93589e+14  5757745       1      2016-06-01   2016-06-01     76 \n",
              "110499 9.43365e+13  5787655       0      2016-06-08   2016-06-08     59 \n",
              "110500 8.21969e+14  5757697       0      2016-06-01   2016-06-01     66 \n",
              "110501 4.43438e+14  5787233       0      2016-06-08   2016-06-08     59 \n",
              "110502 4.54425e+11  5758133       1      2016-06-01   2016-06-01     44 \n",
              "110503 7.31623e+14  5787937       0      2016-06-08   2016-06-08     22 \n",
              "110504 2.36218e+13  5759473       0      2016-06-01   2016-06-01     64 \n",
              "110505 9.94798e+12  5788052       0      2016-06-08   2016-06-08      4 \n",
              "110506 5.66734e+13  5758455       0      2016-06-01   2016-06-01     55 \n",
              "110507 8.97388e+11  5758779       1      2016-06-01   2016-06-01      5 \n",
              "110508 4.76946e+14  5786918       0      2016-06-08   2016-06-08      0 \n",
              "110509 9.43365e+13  5757656       0      2016-06-01   2016-06-01     59 \n",
              "110510 4.95297e+14  5786750       1      2016-06-08   2016-06-08     33 \n",
              "110511 2.36218e+13  5757587       0      2016-06-01   2016-06-01     64 \n",
              "110512 8.23600e+11  5786742       0      2016-06-08   2016-06-08     14 \n",
              "110513 9.87625e+13  5786368       0      2016-06-08   2016-06-08     41 \n",
              "110514 8.67478e+13  5785964       1      2016-06-08   2016-06-08      2 \n",
              "110515 2.69569e+12  5786567       0      2016-06-08   2016-06-08     58 \n",
              "110516 6.45634e+14  5778621       1      2016-06-06   2016-06-08     33 \n",
              "110517 6.92377e+13  5780205       0      2016-06-07   2016-06-08     37 \n",
              "110518 5.57494e+12  5780122       0      2016-06-07   2016-06-07     19 \n",
              "110519 7.26331e+13  5630375       0      2016-04-27   2016-06-07     50 \n",
              "110520 6.54239e+13  5630447       0      2016-04-27   2016-06-07     22 \n",
              "110521 9.96998e+14  5650534       0      2016-05-03   2016-06-07     42 \n",
              "110522 3.63553e+13  5651072       0      2016-05-03   2016-06-07     53 \n",
              "110523 2.57213e+12  5651768       0      2016-05-03   2016-06-07     56 \n",
              "110524 3.59627e+12  5650093       0      2016-05-03   2016-06-07     51 \n",
              "110525 1.55766e+13  5630692       0      2016-04-27   2016-06-07     21 \n",
              "110526 9.21349e+13  5630323       0      2016-04-27   2016-06-07     38 \n",
              "110527 3.77512e+14  5629448       0      2016-04-27   2016-06-07     54 \n",
              "       Neighbourhood Scholarship Hipertension Diabetes ⋯ Handcap SMS_received\n",
              "1      40            0           1            0        ⋯ 0       0           \n",
              "2      40            0           0            0        ⋯ 0       0           \n",
              "3      47            0           0            0        ⋯ 0       0           \n",
              "4      55            0           0            0        ⋯ 0       0           \n",
              "5      40            0           1            1        ⋯ 0       0           \n",
              "6      59            0           1            0        ⋯ 0       0           \n",
              "7      26            0           0            0        ⋯ 0       0           \n",
              "8      26            0           0            0        ⋯ 0       0           \n",
              "9       2            0           0            0        ⋯ 0       0           \n",
              "10     13            0           0            0        ⋯ 0       0           \n",
              "11     51            0           0            0        ⋯ 0       0           \n",
              "12     51            0           0            0        ⋯ 0       1           \n",
              "13     51            1           0            0        ⋯ 0       0           \n",
              "14     51            0           0            0        ⋯ 0       0           \n",
              "16     51            0           0            0        ⋯ 0       1           \n",
              "17     51            0           0            0        ⋯ 0       0           \n",
              "18     13            1           0            0        ⋯ 0       0           \n",
              "19     51            1           0            0        ⋯ 0       1           \n",
              "20     16            0           0            0        ⋯ 0       0           \n",
              "21     51            0           0            0        ⋯ 0       0           \n",
              "22     13            0           0            0        ⋯ 0       0           \n",
              "23     13            0           0            0        ⋯ 0       1           \n",
              "24     13            0           0            0        ⋯ 0       0           \n",
              "25     79            0           0            0        ⋯ 0       0           \n",
              "26     13            0           1            0        ⋯ 0       1           \n",
              "27      7            0           1            0        ⋯ 0       0           \n",
              "28     13            0           0            0        ⋯ 0       0           \n",
              "29     76            0           0            0        ⋯ 0       0           \n",
              "31     51            0           0            0        ⋯ 0       0           \n",
              "32     51            1           0            0        ⋯ 0       0           \n",
              "⋮      ⋮             ⋮           ⋮            ⋮        ⋱ ⋮       ⋮           \n",
              "110498 44            0           0            0        ⋯ 0       0           \n",
              "110499 44            0           0            0        ⋯ 0       0           \n",
              "110500 44            0           1            1        ⋯ 0       0           \n",
              "110501 44            0           0            0        ⋯ 0       0           \n",
              "110502 44            0           0            0        ⋯ 0       0           \n",
              "110503 26            0           0            0        ⋯ 0       0           \n",
              "110504 78            0           0            0        ⋯ 0       0           \n",
              "110505 44            0           0            0        ⋯ 0       0           \n",
              "110506 44            0           0            0        ⋯ 0       0           \n",
              "110507 44            0           0            0        ⋯ 0       0           \n",
              "110508 44            0           0            0        ⋯ 0       0           \n",
              "110509 44            0           0            0        ⋯ 0       0           \n",
              "110510 44            0           0            0        ⋯ 0       0           \n",
              "110511 78            0           0            0        ⋯ 0       0           \n",
              "110512 44            0           0            0        ⋯ 0       0           \n",
              "110513 44            0           0            0        ⋯ 0       0           \n",
              "110514  3            0           0            0        ⋯ 0       0           \n",
              "110515 44            0           0            0        ⋯ 0       0           \n",
              "110516 44            0           1            0        ⋯ 0       0           \n",
              "110517 44            0           0            0        ⋯ 0       0           \n",
              "110518 44            0           0            0        ⋯ 0       0           \n",
              "110519 44            0           0            0        ⋯ 0       1           \n",
              "110520 44            0           0            0        ⋯ 0       1           \n",
              "110521 44            0           0            0        ⋯ 0       1           \n",
              "110522 44            0           0            0        ⋯ 0       1           \n",
              "110523 44            0           0            0        ⋯ 0       1           \n",
              "110524 44            0           0            0        ⋯ 0       1           \n",
              "110525 44            0           0            0        ⋯ 0       1           \n",
              "110526 44            0           0            0        ⋯ 0       1           \n",
              "110527 44            0           0            0        ⋯ 0       1           \n",
              "       No.show AwaitingTime Scheduled_year Scheduled_mon Scheduled_day\n",
              "1      0       0            2016           4             29           \n",
              "2      0       0            2016           4             29           \n",
              "3      0       0            2016           4             29           \n",
              "4      0       0            2016           4             29           \n",
              "5      0       0            2016           4             29           \n",
              "6      0       2            2016           4             27           \n",
              "7      1       2            2016           4             27           \n",
              "8      1       2            2016           4             27           \n",
              "9      0       0            2016           4             29           \n",
              "10     0       2            2016           4             27           \n",
              "11     0       2            2016           4             27           \n",
              "12     1       3            2016           4             26           \n",
              "13     0       1            2016           4             28           \n",
              "14     0       1            2016           4             28           \n",
              "16     0       3            2016           4             26           \n",
              "17     0       1            2016           4             28           \n",
              "18     1       1            2016           4             28           \n",
              "19     0       3            2016           4             26           \n",
              "20     0       0            2016           4             29           \n",
              "21     1       2            2016           4             27           \n",
              "22     1       2            2016           4             27           \n",
              "23     1       4            2016           4             25           \n",
              "24     0       1            2016           4             28           \n",
              "25     0       0            2016           4             29           \n",
              "26     0       3            2016           4             26           \n",
              "27     0       0            2016           4             29           \n",
              "28     0       2            2016           4             27           \n",
              "29     0       0            2016           4             29           \n",
              "31     0       2            2016           4             27           \n",
              "32     1       2            2016           4             27           \n",
              "⋮      ⋮       ⋮            ⋮              ⋮             ⋮            \n",
              "110498 0        0           2016           6              1           \n",
              "110499 0        0           2016           6              8           \n",
              "110500 0        0           2016           6              1           \n",
              "110501 0        0           2016           6              8           \n",
              "110502 0        0           2016           6              1           \n",
              "110503 0        0           2016           6              8           \n",
              "110504 0        0           2016           6              1           \n",
              "110505 0        0           2016           6              8           \n",
              "110506 0        0           2016           6              1           \n",
              "110507 0        0           2016           6              1           \n",
              "110508 0        0           2016           6              8           \n",
              "110509 0        0           2016           6              1           \n",
              "110510 0        0           2016           6              8           \n",
              "110511 0        0           2016           6              1           \n",
              "110512 0        0           2016           6              8           \n",
              "110513 0        0           2016           6              8           \n",
              "110514 0        0           2016           6              8           \n",
              "110515 0        0           2016           6              8           \n",
              "110516 1        2           2016           6              6           \n",
              "110517 1        1           2016           6              7           \n",
              "110518 0        0           2016           6              7           \n",
              "110519 0       41           2016           4             27           \n",
              "110520 0       41           2016           4             27           \n",
              "110521 0       35           2016           5              3           \n",
              "110522 0       35           2016           5              3           \n",
              "110523 0       35           2016           5              3           \n",
              "110524 0       35           2016           5              3           \n",
              "110525 0       41           2016           4             27           \n",
              "110526 0       41           2016           4             27           \n",
              "110527 0       41           2016           4             27           \n",
              "       Appointment_year Appointment_mon Appointment_day\n",
              "1      2016             4               29             \n",
              "2      2016             4               29             \n",
              "3      2016             4               29             \n",
              "4      2016             4               29             \n",
              "5      2016             4               29             \n",
              "6      2016             4               29             \n",
              "7      2016             4               29             \n",
              "8      2016             4               29             \n",
              "9      2016             4               29             \n",
              "10     2016             4               29             \n",
              "11     2016             4               29             \n",
              "12     2016             4               29             \n",
              "13     2016             4               29             \n",
              "14     2016             4               29             \n",
              "16     2016             4               29             \n",
              "17     2016             4               29             \n",
              "18     2016             4               29             \n",
              "19     2016             4               29             \n",
              "20     2016             4               29             \n",
              "21     2016             4               29             \n",
              "22     2016             4               29             \n",
              "23     2016             4               29             \n",
              "24     2016             4               29             \n",
              "25     2016             4               29             \n",
              "26     2016             4               29             \n",
              "27     2016             4               29             \n",
              "28     2016             4               29             \n",
              "29     2016             4               29             \n",
              "31     2016             4               29             \n",
              "32     2016             4               29             \n",
              "⋮      ⋮                ⋮               ⋮              \n",
              "110498 2016             6               1              \n",
              "110499 2016             6               8              \n",
              "110500 2016             6               1              \n",
              "110501 2016             6               8              \n",
              "110502 2016             6               1              \n",
              "110503 2016             6               8              \n",
              "110504 2016             6               1              \n",
              "110505 2016             6               8              \n",
              "110506 2016             6               1              \n",
              "110507 2016             6               1              \n",
              "110508 2016             6               8              \n",
              "110509 2016             6               1              \n",
              "110510 2016             6               8              \n",
              "110511 2016             6               1              \n",
              "110512 2016             6               8              \n",
              "110513 2016             6               8              \n",
              "110514 2016             6               8              \n",
              "110515 2016             6               8              \n",
              "110516 2016             6               8              \n",
              "110517 2016             6               8              \n",
              "110518 2016             6               7              \n",
              "110519 2016             6               7              \n",
              "110520 2016             6               7              \n",
              "110521 2016             6               7              \n",
              "110522 2016             6               7              \n",
              "110523 2016             6               7              \n",
              "110524 2016             6               7              \n",
              "110525 2016             6               7              \n",
              "110526 2016             6               7              \n",
              "110527 2016             6               7              "
            ]
          },
          "metadata": {}
        }
      ],
      "source": [
        "#6\n",
        "data_after_null$ScheduledDay<- as.Date(data_after_null$ScheduledDay)\n",
        "data_after_null$Scheduled_year<-year(data_after_null$ScheduledDay)\n",
        "data_after_null$Scheduled_mon<-month(data_after_null$ScheduledDay)\n",
        "data_after_null$Scheduled_day<-day(data_after_null$ScheduledDay)\n",
        "#$Scheduled_hour<-format(SD,\"%h\")\n",
        "\n",
        "data_after_null$AppointmentDay <- as.Date(data_after_null$AppointmentDay)\n",
        "data_after_null$Appointment_year<-year(data_after_null$AppointmentDay)\n",
        "data_after_null$Appointment_mon<-month(data_after_null$AppointmentDay)\n",
        "data_after_null$Appointment_day<-day(data_after_null$AppointmentDay)\n",
        "#$Scheduled_hour<-format(SD,\"%h\")\n",
        "data_after_null"
      ]
    },
    {
      "cell_type": "code",
      "execution_count": 125,
      "metadata": {
        "colab": {
          "base_uri": "https://localhost:8080/"
        },
        "id": "5k6geM7JHXsr",
        "outputId": "cf27ea05-af7e-40f9-e2a4-4bdf47d2780a"
      },
      "outputs": [
        {
          "output_type": "stream",
          "name": "stdout",
          "text": [
            "'data.frame':\t110523 obs. of  21 variables:\n",
            " $ PatientId       : num  2.99e+13 5.59e+14 4.26e+12 8.68e+11 8.84e+12 ...\n",
            " $ AppointmentID   : int  5642903 5642503 5642549 5642828 5642494 5626772 5630279 5630575 5638447 5629123 ...\n",
            " $ Gender          : num  0 1 0 0 0 0 0 0 0 0 ...\n",
            " $ ScheduledDay    : Date, format: \"2016-04-29\" \"2016-04-29\" ...\n",
            " $ AppointmentDay  : Date, format: \"2016-04-29\" \"2016-04-29\" ...\n",
            " $ Age             : num  1.078 0.818 1.078 -1.259 0.818 ...\n",
            " $ Neighbourhood   : int  40 40 47 55 40 59 26 26 2 13 ...\n",
            " $ Scholarship     : int  0 0 0 0 0 0 0 0 0 0 ...\n",
            " $ Hipertension    : int  1 0 0 0 1 1 0 0 0 0 ...\n",
            " $ Diabetes        : int  0 0 0 0 1 0 0 0 0 0 ...\n",
            " $ Alcoholism      : int  0 0 0 0 0 0 0 0 0 0 ...\n",
            " $ Handcap         : int  0 0 0 0 0 0 0 0 0 0 ...\n",
            " $ SMS_received    : int  0 0 0 0 0 0 0 0 0 0 ...\n",
            " $ No.show         : num  0 0 0 0 0 0 1 1 0 0 ...\n",
            " $ AwaitingTime    : num  0 0 0 0 0 2 2 2 0 2 ...\n",
            " $ Scheduled_year  : num  2016 2016 2016 2016 2016 ...\n",
            " $ Scheduled_mon   : num  4 4 4 4 4 4 4 4 4 4 ...\n",
            " $ Scheduled_day   : int  29 29 29 29 29 27 27 27 29 27 ...\n",
            " $ Appointment_year: num  2016 2016 2016 2016 2016 ...\n",
            " $ Appointment_mon : num  4 4 4 4 4 4 4 4 4 4 ...\n",
            " $ Appointment_day : int  29 29 29 29 29 29 29 29 29 29 ...\n",
            " - attr(*, \"na.action\")= 'omit' Named int [1:3] 15 30 81\n",
            "  ..- attr(*, \"names\")= chr [1:3] \"15\" \"30\" \"81\"\n"
          ]
        }
      ],
      "source": [
        "#7\n",
        "z_score_standardize <- function(x) {\n",
        "  (x - mean(x)) / sd(x)\n",
        "}\n",
        "\n",
        "# Apply z-score standardization to 'Age' feature\n",
        "data_after_null$Age <- z_score_standardize(data_after_null$Age)\n",
        "str(data_after_null)\n"
      ]
    },
    {
      "cell_type": "code",
      "execution_count": 126,
      "metadata": {
        "colab": {
          "base_uri": "https://localhost:8080/",
          "height": 489
        },
        "id": "4pJJ4KrlHXvC",
        "outputId": "606ad84d-d982-4e21-9d89-7e84bad73ab2"
      },
      "outputs": [
        {
          "output_type": "stream",
          "name": "stderr",
          "text": [
            "Installing package into ‘/usr/local/lib/R/site-library’\n",
            "(as ‘lib’ is unspecified)\n",
            "\n"
          ]
        },
        {
          "output_type": "display_data",
          "data": {
            "text/plain": [
              "Plot with title “”"
            ],
            "image/png": "[encoded data removed]"
          },
          "metadata": {
            "image/png": {
              "width": 420,
              "height": 420
            }
          }
        }
      ],
      "source": [
        "#8\n",
        "# Install caret package\n",
        "install.packages(\"caret\")\n",
        "\n",
        "# Load caret package\n",
        "library(caret)\n",
        "cor_data<-data_after_null[,c(-1,-2,-4,-5, -19)]\n",
        "cor_matrix <- cor(cor_data)\n",
        "corrplot(cor_matrix,method=\"color\")\n",
        "cor_threshold <- 0.7\n",
        "# Preprocess the data\n",
        "preprocessed_data <- preProcess(cor_data, method = \"corr\")\n",
        "\n",
        "# Find highly correlated features\n",
        "highly_correlated <- findCorrelation(cor_matrix, cutoff = cor_threshold)\n",
        "\n",
        "# Drop highly correlated features from the dataset\n",
        "model_data <- predict(preprocessed_data, newdata = cor_data, type = \"filtered\")\n",
        "\n"
      ]
    },
    {
      "cell_type": "code",
      "execution_count": 127,
      "metadata": {
        "id": "yUG4ybXBBkyW"
      },
      "outputs": [],
      "source": [
        "set.seed(123)\n",
        "\n",
        "sample <- sample.split(model_data$No.show, SplitRatio = 0.70)\n",
        "train <- subset(model_data, sample == TRUE)\n",
        "test <- subset(model_data, sample == FALSE)\n"
      ]
    },
    {
      "cell_type": "code",
      "execution_count": 49,
      "metadata": {
        "id": "HUi9p_UwMpTf",
        "colab": {
          "base_uri": "https://localhost:8080/"
        },
        "outputId": "990857e2-9bd2-43c7-f903-a02f04f65b4a"
      },
      "outputs": [
        {
          "output_type": "stream",
          "name": "stdout",
          "text": [
            "[1] 0.7980517\n"
          ]
        }
      ],
      "source": [
        "# Train SVM classifier\n",
        "svm_model <- svm(No.show ~ ., data = train,  type = 'C-classification', kernel = 'linear')\n",
        "# Predict using SVM classifier\n",
        "svm_pred <- predict(svm_model, newdata = test)\n",
        "# Evaluate model performance\n",
        "confMatrixs <- table(svm_pred, as.factor(test$No.show))\n",
        "svm_accuracy <- sum(diag(confMatrixs)) / sum(confMatrixs)\n",
        "print(svm_accuracy)\n"
      ]
    },
    {
      "cell_type": "code",
      "execution_count": 136,
      "metadata": {
        "id": "HhBRu1D0MpWe"
      },
      "outputs": [],
      "source": [
        "# Train DT classifier\n",
        "dtclassifier <- rpart(No.show ~ ., data = train, method = \"class\")\n",
        "# Make predictions on test data\n",
        "predictions <- predict(dtclassifier, newdata = test, type = \"class\")\n",
        "# Evaluate model performance\n",
        "confMatrix <- table(predictions, test$No.show)\n",
        "dt_accuracy <- sum(diag(confMatrix)) / sum(confMatrix)\n",
        "\n"
      ]
    },
    {
      "cell_type": "code",
      "source": [
        "x_train <- train[,-10 ]\n",
        "y_train <- train[10]\n",
        "x_test <- test[,-10 ]\n",
        "y_test <-test[,10]"
      ],
      "metadata": {
        "id": "ni2a1Z8H_dr7"
      },
      "execution_count": 51,
      "outputs": []
    },
    {
      "cell_type": "code",
      "source": [
        "y_train<-to_categorical(y_train,15)\n",
        "y_test<-to_categorical(y_test,15)"
      ],
      "metadata": {
        "id": "sgm7IwiHAaTD"
      },
      "execution_count": 52,
      "outputs": []
    },
    {
      "cell_type": "code",
      "source": [
        "#x_train <- array_reshape(x_train, dim = c(dim(x_train)[1], prod(dim(x_train)[-1]))) / max(x_train)\n",
        "#x_test <- array_reshape(x_test, dim = c(dim(x_test)[1], prod(dim(x_test)[-1]))) / max(x_test)\n",
        "x_train <- apply(x_train, 2, as.numeric)\n",
        "x_test <- apply(x_test,2,as.numeric)"
      ],
      "metadata": {
        "id": "0I2qA0xSAdVS"
      },
      "execution_count": 53,
      "outputs": []
    },
    {
      "cell_type": "code",
      "source": [
        "#loading keras library\n",
        "model <- keras_model_sequential()"
      ],
      "metadata": {
        "id": "16dRd5_4AgsL"
      },
      "execution_count": 54,
      "outputs": []
    },
    {
      "cell_type": "code",
      "source": [
        "model %>%\n",
        "  layer_dense(units = dim(x_train)[2], input_shape = dim(x_train)[2]) %>%\n",
        "  layer_dropout(rate=0.4)%>%\n",
        "  layer_activation(activation = 'relu') %>%\n",
        "  layer_dense(units = 15) %>%\n",
        "  layer_activation(activation = 'softmax')\n"
      ],
      "metadata": {
        "id": "l0X_Iki3AtxT"
      },
      "execution_count": 55,
      "outputs": []
    },
    {
      "cell_type": "code",
      "source": [
        "#compiling the defined model with metric = accuracy and optimiser as adam.\n",
        "model %>% compile(\n",
        "  loss = 'categorical_crossentropy',\n",
        "  optimizer = 'adam',\n",
        "  metrics = c('accuracy')\n",
        ")"
      ],
      "metadata": {
        "id": "AJHK7ve8Ax_y"
      },
      "execution_count": 56,
      "outputs": []
    },
    {
      "cell_type": "code",
      "source": [
        "#fitting the model on the training dataset\n",
        "model %>% fit(x_train, y_train, epochs = 1, batch_size = 128)\n",
        "\n",
        "#Evaluating model on the cross validation dataset\n",
        "loss_and_metrics <- model %>% evaluate(x_test,y_test, batch_size = 128)\n",
        "\n",
        "loss_and_metrics"
      ],
      "metadata": {
        "colab": {
          "base_uri": "https://localhost:8080/",
          "height": 34
        },
        "id": "1SdyvdMOA01C",
        "outputId": "efcb239e-2780-458e-a554-ae5e2fc4e0a4"
      },
      "execution_count": 57,
      "outputs": [
        {
          "output_type": "display_data",
          "data": {
            "text/html": [
              "<style>\n",
              ".dl-inline {width: auto; margin:0; padding: 0}\n",
              ".dl-inline>dt, .dl-inline>dd {float: none; width: auto; display: inline-block}\n",
              ".dl-inline>dt::after {content: \":\\0020\"; padding-right: .5ex}\n",
              ".dl-inline>dt:not(:first-of-type) {padding-left: .5ex}\n",
              "</style><dl class=dl-inline><dt>loss</dt><dd>0.508625328540802</dd><dt>accuracy</dt><dd>0.797780275344849</dd></dl>\n"
            ],
            "text/markdown": "loss\n:   0.508625328540802accuracy\n:   0.797780275344849\n\n",
            "text/latex": "\\begin{description*}\n\\item[loss] 0.508625328540802\n\\item[accuracy] 0.797780275344849\n\\end{description*}\n",
            "text/plain": [
              "     loss  accuracy \n",
              "0.5086253 0.7977803 "
            ]
          },
          "metadata": {}
        }
      ]
    },
    {
      "cell_type": "code",
      "source": [
        "# Define function to calculate model accuracy\n",
        "model_accuracy <- function(model, test_data,train_data) {\n",
        "  # Make predictions on test set\n",
        "  pred_labels <- predict(model, newdata = test_data,type = \"class\")\n",
        "\n",
        "  # Calculate confusion matrix and accuracy\n",
        "  conf_matrix <- table(pred_labels, test_data$No.show)\n",
        "  accuracy <- sum(diag(conf_matrix)) / sum(conf_matrix)\n",
        "\n",
        "  # Check for overfitting\n",
        "  train_pred_labels <- predict(model, newdata = train_data,type = \"class\")\n",
        "  train_conf_matrix <- table(train_pred_labels, train_data$No.show)\n",
        "  train_accuracy <- sum(diag(train_conf_matrix)) / sum(train_conf_matrix)\n",
        "  if (round(accuracy) < round(train_accuracy)) {\n",
        "    overfitting <- TRUE\n",
        "  } else {\n",
        "    overfitting <- FALSE\n",
        "  }\n",
        "\n",
        "  # Return accuracy and overfitting status\n",
        "  return(list(accuracy = round(accuracy,4),train_Accuracy=round(train_accuracy,4), overfitting = overfitting))\n",
        "}"
      ],
      "metadata": {
        "id": "4VefWhbjYuPq"
      },
      "execution_count": 109,
      "outputs": []
    },
    {
      "cell_type": "code",
      "source": [
        "model_accuracy(dtclassifier,test,train)"
      ],
      "metadata": {
        "colab": {
          "base_uri": "https://localhost:8080/",
          "height": 149
        },
        "id": "SiYTX3mkbg88",
        "outputId": "cc30fbf9-9dad-407f-d4f2-2f65c126e577"
      },
      "execution_count": 139,
      "outputs": [
        {
          "output_type": "display_data",
          "data": {
            "text/html": [
              "<dl>\n",
              "\t<dt>$accuracy</dt>\n",
              "\t\t<dd>0.7981</dd>\n",
              "\t<dt>$train_Accuracy</dt>\n",
              "\t\t<dd>0.7981</dd>\n",
              "\t<dt>$overfitting</dt>\n",
              "\t\t<dd>FALSE</dd>\n",
              "</dl>\n"
            ],
            "text/markdown": "$accuracy\n:   0.7981\n$train_Accuracy\n:   0.7981\n$overfitting\n:   FALSE\n\n\n",
            "text/latex": "\\begin{description}\n\\item[\\$accuracy] 0.7981\n\\item[\\$train\\_Accuracy] 0.7981\n\\item[\\$overfitting] FALSE\n\\end{description}\n",
            "text/plain": [
              "$accuracy\n",
              "[1] 0.7981\n",
              "\n",
              "$train_Accuracy\n",
              "[1] 0.7981\n",
              "\n",
              "$overfitting\n",
              "[1] FALSE\n"
            ]
          },
          "metadata": {}
        }
      ]
    },
    {
      "cell_type": "code",
      "source": [
        "model_accuracy(svm_model,test,train)"
      ],
      "metadata": {
        "colab": {
          "base_uri": "https://localhost:8080/",
          "height": 149
        },
        "id": "2uoxQhsYbg_9",
        "outputId": "574b5e1b-15d1-4b22-9342-e029685661ca"
      },
      "execution_count": 140,
      "outputs": [
        {
          "output_type": "display_data",
          "data": {
            "text/html": [
              "<dl>\n",
              "\t<dt>$accuracy</dt>\n",
              "\t\t<dd>0.7981</dd>\n",
              "\t<dt>$train_Accuracy</dt>\n",
              "\t\t<dd>0.7981</dd>\n",
              "\t<dt>$overfitting</dt>\n",
              "\t\t<dd>FALSE</dd>\n",
              "</dl>\n"
            ],
            "text/markdown": "$accuracy\n:   0.7981\n$train_Accuracy\n:   0.7981\n$overfitting\n:   FALSE\n\n\n",
            "text/latex": "\\begin{description}\n\\item[\\$accuracy] 0.7981\n\\item[\\$train\\_Accuracy] 0.7981\n\\item[\\$overfitting] FALSE\n\\end{description}\n",
            "text/plain": [
              "$accuracy\n",
              "[1] 0.7981\n",
              "\n",
              "$train_Accuracy\n",
              "[1] 0.7981\n",
              "\n",
              "$overfitting\n",
              "[1] FALSE\n"
            ]
          },
          "metadata": {}
        }
      ]
    },
    {
      "cell_type": "code",
      "source": [
        "# Convert the outcome variable to a factor variable\n",
        "train$No.show <- factor(train$No.show)\n",
        "\n",
        "# Remove any observations with missing values\n",
        "train <- na.omit(train)\n",
        "\n",
        "# Define the hyperparameter grid to search over\n",
        "param_grid <- expand.grid(cp = seq(0, 0.1, 0.01))\n",
        "\n",
        "# Define the train control object for cross-validation\n",
        "ctrl <- trainControl(method = \"cv\", number = 5)\n",
        "\n",
        "# Perform the grid search\n",
        "dt_model <- train(No.show ~ ., data = train, method = \"rpart\",\n",
        "                  tuneGrid = param_grid, trControl = ctrl)\n",
        "\n",
        "# Print the best hyperparameters and cross-validation score\n",
        "print(dt_model$bestTune)\n",
        "print(dt_model$results$Accuracy)"
      ],
      "metadata": {
        "colab": {
          "base_uri": "https://localhost:8080/"
        },
        "id": "nIZhXUpRbhCK",
        "outputId": "dd7ef7ab-e877-46e7-e975-c42de18bbfb6"
      },
      "execution_count": 115,
      "outputs": [
        {
          "output_type": "stream",
          "name": "stdout",
          "text": [
            "    cp\n",
            "11 0.1\n",
            " [1] 0.7587183 0.7980637 0.7980637 0.7980637 0.7980637 0.7980637 0.7980637\n",
            " [8] 0.7980637 0.7980637 0.7980637 0.7980637\n"
          ]
        }
      ]
    },
    {
      "cell_type": "code",
      "source": [
        "confusionMatrix(data = as.factor(predictions), reference =as.factor( test$No.show))"
      ],
      "metadata": {
        "colab": {
          "base_uri": "https://localhost:8080/",
          "height": 486
        },
        "id": "hwnU01KefELy",
        "outputId": "e1efd069-148e-4572-eb8f-73d5c35ee13f"
      },
      "execution_count": 137,
      "outputs": [
        {
          "output_type": "display_data",
          "data": {
            "text/plain": [
              "Confusion Matrix and Statistics\n",
              "\n",
              "          Reference\n",
              "Prediction     0     1\n",
              "         0 26461  6696\n",
              "         1     0     0\n",
              "                                          \n",
              "               Accuracy : 0.7981          \n",
              "                 95% CI : (0.7937, 0.8024)\n",
              "    No Information Rate : 0.7981          \n",
              "    P-Value [Acc > NIR] : 0.5033          \n",
              "                                          \n",
              "                  Kappa : 0               \n",
              "                                          \n",
              " Mcnemar's Test P-Value : <2e-16          \n",
              "                                          \n",
              "            Sensitivity : 1.0000          \n",
              "            Specificity : 0.0000          \n",
              "         Pos Pred Value : 0.7981          \n",
              "         Neg Pred Value :    NaN          \n",
              "             Prevalence : 0.7981          \n",
              "         Detection Rate : 0.7981          \n",
              "   Detection Prevalence : 1.0000          \n",
              "      Balanced Accuracy : 0.5000          \n",
              "                                          \n",
              "       'Positive' Class : 0               \n",
              "                                          "
            ]
          },
          "metadata": {}
        }
      ]
    },
    {
      "cell_type": "code",
      "source": [
        "confusionMatrix(data = as.factor(svm_pred), reference =as.factor( test$No.show))"
      ],
      "metadata": {
        "colab": {
          "base_uri": "https://localhost:8080/",
          "height": 486
        },
        "id": "FRJlIhJ7fEYq",
        "outputId": "1c1ed07f-626f-43b5-af83-c76de639ce87"
      },
      "execution_count": 142,
      "outputs": [
        {
          "output_type": "display_data",
          "data": {
            "text/plain": [
              "Confusion Matrix and Statistics\n",
              "\n",
              "          Reference\n",
              "Prediction     0     1\n",
              "         0 26461  6696\n",
              "         1     0     0\n",
              "                                          \n",
              "               Accuracy : 0.7981          \n",
              "                 95% CI : (0.7937, 0.8024)\n",
              "    No Information Rate : 0.7981          \n",
              "    P-Value [Acc > NIR] : 0.5033          \n",
              "                                          \n",
              "                  Kappa : 0               \n",
              "                                          \n",
              " Mcnemar's Test P-Value : <2e-16          \n",
              "                                          \n",
              "            Sensitivity : 1.0000          \n",
              "            Specificity : 0.0000          \n",
              "         Pos Pred Value : 0.7981          \n",
              "         Neg Pred Value :    NaN          \n",
              "             Prevalence : 0.7981          \n",
              "         Detection Rate : 0.7981          \n",
              "   Detection Prevalence : 1.0000          \n",
              "      Balanced Accuracy : 0.5000          \n",
              "                                          \n",
              "       'Positive' Class : 0               \n",
              "                                          "
            ]
          },
          "metadata": {}
        }
      ]
    },
    {
      "cell_type": "code",
      "source": [
        "library(pROC)\n",
        "roc_obj1 <- roc(test$No.show, as.numeric(predictions))\n",
        "plot(roc_obj1, col = \"red\", main = \"ROC Curves\",  print.auc = TRUE,legacy.axes = TRUE)\n",
        "\n",
        "# Add the second ROC curve to the plot\n",
        "roc_obj2 <- roc(test$No.show, as.numeric(svm_pred))\n",
        "lines(roc_obj2, col = \"blue\")\n",
        "\n",
        "# Add a legend to the plot\n",
        "legend(\"bottomright\", legend = c(\"Decision Tree\",\"SVM\"), col = c(\"red\", \"blue\"), lty = 1)"
      ],
      "metadata": {
        "id": "AlySDrbKErH8",
        "colab": {
          "base_uri": "https://localhost:8080/",
          "height": 576
        },
        "outputId": "0edf18ba-bf7b-4a75-82dc-f268afa81c89"
      },
      "execution_count": 146,
      "outputs": [
        {
          "output_type": "stream",
          "name": "stderr",
          "text": [
            "Setting levels: control = 0, case = 1\n",
            "\n",
            "Setting direction: controls < cases\n",
            "\n",
            "Setting levels: control = 0, case = 1\n",
            "\n",
            "Setting direction: controls < cases\n",
            "\n"
          ]
        },
        {
          "output_type": "display_data",
          "data": {
            "text/plain": [
              "Plot with title “ROC Curves”"
            ],
            "image/png": "[encoded data removed]"
          },
          "metadata": {
            "image/png": {
              "width": 420,
              "height": 420
            }
          }
        }
      ]
    },
    {
      "cell_type": "code",
      "source": [
        "#part 2"
      ],
      "metadata": {
        "id": "EgMkljz3iKUC"
      },
      "execution_count": null,
      "outputs": []
    },
    {
      "cell_type": "code",
      "execution_count": null,
      "metadata": {
        "id": "Y3gFTwEIGfde"
      },
      "outputs": [],
      "source": [
        "# Load library\n",
        "library(ggplot2)\n",
        "library(cluster)"
      ]
    },
    {
      "cell_type": "code",
      "execution_count": null,
      "metadata": {
        "id": "U7sD3DktG1mG"
      },
      "outputs": [],
      "source": [
        "# Load the Framingham dataset\n",
        "data <- read.csv(\"framingham.csv\")"
      ]
    },
    {
      "cell_type": "code",
      "execution_count": null,
      "metadata": {
        "id": "EfJofxXEG4XV"
      },
      "outputs": [],
      "source": [
        "# Select the columns (Sex,Age)\n",
        "new_data <- data[, c(\"male\", \"age\")]"
      ]
    },
    {
      "cell_type": "code",
      "execution_count": null,
      "metadata": {
        "id": "q9_LL-AHG6y2"
      },
      "outputs": [],
      "source": [
        "# Standardize column('Age')\n",
        "new_data$age <- scale(new_data$age)"
      ]
    },
    {
      "cell_type": "code",
      "execution_count": null,
      "metadata": {
        "id": "W_VPUbHMG9BN"
      },
      "outputs": [],
      "source": [
        "# Perform k-means clustering with k=4\n",
        "set.seed(50)\n",
        "kmeans_model <- kmeans(new_data, centers = 4)"
      ]
    },
    {
      "cell_type": "code",
      "execution_count": null,
      "metadata": {
        "colab": {
          "base_uri": "https://localhost:8080/",
          "height": 437
        },
        "id": "vJPaboYUG_MG",
        "outputId": "917158c3-d909-45e7-ed40-e9b5dd51ee6d"
      },
      "outputs": [
        {
          "output_type": "display_data",
          "data": {
            "text/plain": [
              "plot without title"
            ],
            "image/png": "[encoded data removed]"
          },
          "metadata": {
            "image/png": {
              "width": 420,
              "height": 420
            }
          }
        }
      ],
      "source": [
        "# Plot the clusters\n",
        "ggplot(new_data, aes(x = age, y = male, color = as.factor(kmeans_model$cluster))) +\n",
        "  geom_point() +\n",
        "  labs(title = \"K-means Clustering model\", color = \"Clusters\") +\n",
        "  theme_minimal()"
      ]
    },
    {
      "cell_type": "code",
      "execution_count": null,
      "metadata": {
        "id": "K9HWA-fnHB-1"
      },
      "outputs": [],
      "source": [
        "# Apply the elbow method\n",
        "points <- c()\n",
        "for (i in 1:10) {\n",
        "  kmeans_model <- kmeans(new_data, centers = i)\n",
        "  points <- append(points, kmeans_model$tot.withinss)\n",
        "}"
      ]
    },
    {
      "cell_type": "code",
      "execution_count": null,
      "metadata": {
        "colab": {
          "base_uri": "https://localhost:8080/",
          "height": 472
        },
        "id": "co_Sd8dSHGR-",
        "outputId": "6c25f7c2-df43-476d-c59b-7e07b126acb9"
      },
      "outputs": [
        {
          "output_type": "stream",
          "name": "stderr",
          "text": [
            "\u001b[1m\u001b[22m`geom_line()`: Each group consists of only one observation.\n",
            "\u001b[36mℹ\u001b[39m Do you need to adjust the \u001b[32mgroup\u001b[39m aesthetic?\n"
          ]
        },
        {
          "output_type": "display_data",
          "data": {
            "text/plain": [
              "plot without title"
            ],
            "image/png": "[encoded data removed]"
          },
          "metadata": {
            "image/png": {
              "width": 420,
              "height": 420
            }
          }
        }
      ],
      "source": [
        "# Plot the points for each value of k\n",
        "ggplot(data.frame(k = 1:10, p = points), aes(x = as.factor(k), y = p )) +\n",
        "  geom_line() +\n",
        "  geom_point() +\n",
        "  geom_line(aes(group = 1)) +\n",
        "  labs(title = \"Elbow Method\", x = \"Number of clusters (k)\", y = \"Sum of Squared Errors\") +\n",
        "  scale_x_discrete(breaks = 1:10)"
      ]
    },
    {
      "cell_type": "code",
      "execution_count": null,
      "metadata": {
        "id": "nDpGx3O8HIA_"
      },
      "outputs": [],
      "source": [
        "#  Evaluate the quality of the clusters using the Silhouette Coefficient\n",
        "silhouette_score <- silhouette(kmeans_model$cluster, dist(new_data))\n",
        "avg_silhouette <- mean(silhouette_score[,\"sil_width\"])\n"
      ]
    },
    {
      "cell_type": "code",
      "execution_count": null,
      "metadata": {
        "colab": {
          "base_uri": "https://localhost:8080/"
        },
        "id": "eGwc9m_XHL3V",
        "outputId": "c00e594b-edc4-4b2a-d484-42fd4d88f99b"
      },
      "outputs": [
        {
          "output_type": "stream",
          "name": "stdout",
          "text": [
            "Average Silhouette Coefficient: 0.5394031"
          ]
        }
      ],
      "source": [
        "# Print the average Silhouette Coefficient\n",
        "cat(\"Average Silhouette Coefficient:\", avg_silhouette)"
      ]
    }
  ]
}